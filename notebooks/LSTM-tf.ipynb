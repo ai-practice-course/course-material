{
 "cells": [
  {
   "cell_type": "code",
   "execution_count": 54,
   "id": "baking-arnold",
   "metadata": {},
   "outputs": [],
   "source": [
    "import pandas as pd\n",
    "import numpy as np\n",
    "import matplotlib.pyplot as plt\n",
    "import seaborn as sns\n",
    "import warnings\n",
    "import os\n",
    "\n",
    "import pickle\n",
    "\n",
    "from sklearn.preprocessing import MinMaxScaler\n",
    "from sklearn.model_selection import train_test_split\n",
    "\n",
    "import tensorflow as tf\n",
    "\n",
    "%matplotlib inline\n",
    "warnings.filterwarnings('ignore')\n",
    "\n",
    "plt.rcParams['font.family'] = 'NanumGothic'"
   ]
  },
  {
   "cell_type": "code",
   "execution_count": 7,
   "id": "interior-auction",
   "metadata": {},
   "outputs": [],
   "source": [
    "with open('../data/crypto_currency.pickle', 'rb') as f:\n",
    "    data = pickle.load(f)"
   ]
  },
  {
   "cell_type": "code",
   "execution_count": 13,
   "id": "centered-delicious",
   "metadata": {},
   "outputs": [],
   "source": [
    "bch = data['KRW-BCH']"
   ]
  },
  {
   "cell_type": "code",
   "execution_count": 14,
   "id": "declared-sound",
   "metadata": {},
   "outputs": [
    {
     "data": {
      "text/html": [
       "<div>\n",
       "<style scoped>\n",
       "    .dataframe tbody tr th:only-of-type {\n",
       "        vertical-align: middle;\n",
       "    }\n",
       "\n",
       "    .dataframe tbody tr th {\n",
       "        vertical-align: top;\n",
       "    }\n",
       "\n",
       "    .dataframe thead th {\n",
       "        text-align: right;\n",
       "    }\n",
       "</style>\n",
       "<table border=\"1\" class=\"dataframe\">\n",
       "  <thead>\n",
       "    <tr style=\"text-align: right;\">\n",
       "      <th></th>\n",
       "      <th>market</th>\n",
       "      <th>candle_date_time_utc</th>\n",
       "      <th>candle_date_time_kst</th>\n",
       "      <th>opening_price</th>\n",
       "      <th>high_price</th>\n",
       "      <th>low_price</th>\n",
       "      <th>trade_price</th>\n",
       "      <th>timestamp</th>\n",
       "      <th>candle_acc_trade_price</th>\n",
       "      <th>candle_acc_trade_volume</th>\n",
       "      <th>prev_closing_price</th>\n",
       "      <th>change_price</th>\n",
       "      <th>change_rate</th>\n",
       "      <th>MA5</th>\n",
       "      <th>MA20</th>\n",
       "      <th>MA60</th>\n",
       "    </tr>\n",
       "  </thead>\n",
       "  <tbody>\n",
       "    <tr>\n",
       "      <th>4</th>\n",
       "      <td>KRW-BCH</td>\n",
       "      <td>2022-02-24T00:00:00</td>\n",
       "      <td>2022-02-24T09:00:00</td>\n",
       "      <td>352300.0</td>\n",
       "      <td>379000.0</td>\n",
       "      <td>323600.0</td>\n",
       "      <td>367650.0</td>\n",
       "      <td>1645747199207</td>\n",
       "      <td>8.029089e+09</td>\n",
       "      <td>23267.777661</td>\n",
       "      <td>352300.0</td>\n",
       "      <td>15350.0</td>\n",
       "      <td>0.043571</td>\n",
       "      <td>359090.0</td>\n",
       "      <td>390880.0</td>\n",
       "      <td>424878.333333</td>\n",
       "    </tr>\n",
       "    <tr>\n",
       "      <th>3</th>\n",
       "      <td>KRW-BCH</td>\n",
       "      <td>2022-02-25T00:00:00</td>\n",
       "      <td>2022-02-25T09:00:00</td>\n",
       "      <td>367600.0</td>\n",
       "      <td>380000.0</td>\n",
       "      <td>355200.0</td>\n",
       "      <td>375550.0</td>\n",
       "      <td>1645833586993</td>\n",
       "      <td>7.984606e+09</td>\n",
       "      <td>21774.066608</td>\n",
       "      <td>367650.0</td>\n",
       "      <td>7900.0</td>\n",
       "      <td>0.021488</td>\n",
       "      <td>359940.0</td>\n",
       "      <td>390040.0</td>\n",
       "      <td>421752.500000</td>\n",
       "    </tr>\n",
       "    <tr>\n",
       "      <th>2</th>\n",
       "      <td>KRW-BCH</td>\n",
       "      <td>2022-02-26T00:00:00</td>\n",
       "      <td>2022-02-26T09:00:00</td>\n",
       "      <td>376550.0</td>\n",
       "      <td>394450.0</td>\n",
       "      <td>375000.0</td>\n",
       "      <td>385700.0</td>\n",
       "      <td>1645919998296</td>\n",
       "      <td>6.230191e+09</td>\n",
       "      <td>16146.272517</td>\n",
       "      <td>375550.0</td>\n",
       "      <td>10150.0</td>\n",
       "      <td>0.027027</td>\n",
       "      <td>367530.0</td>\n",
       "      <td>389487.5</td>\n",
       "      <td>419204.166667</td>\n",
       "    </tr>\n",
       "    <tr>\n",
       "      <th>1</th>\n",
       "      <td>KRW-BCH</td>\n",
       "      <td>2022-02-27T00:00:00</td>\n",
       "      <td>2022-02-27T09:00:00</td>\n",
       "      <td>385650.0</td>\n",
       "      <td>392500.0</td>\n",
       "      <td>369900.0</td>\n",
       "      <td>373350.0</td>\n",
       "      <td>1646006345573</td>\n",
       "      <td>4.344263e+09</td>\n",
       "      <td>11391.337979</td>\n",
       "      <td>385700.0</td>\n",
       "      <td>-12350.0</td>\n",
       "      <td>-0.032020</td>\n",
       "      <td>370910.0</td>\n",
       "      <td>387175.0</td>\n",
       "      <td>416618.333333</td>\n",
       "    </tr>\n",
       "    <tr>\n",
       "      <th>0</th>\n",
       "      <td>KRW-BCH</td>\n",
       "      <td>2022-02-28T00:00:00</td>\n",
       "      <td>2022-02-28T09:00:00</td>\n",
       "      <td>374150.0</td>\n",
       "      <td>409800.0</td>\n",
       "      <td>369900.0</td>\n",
       "      <td>409800.0</td>\n",
       "      <td>1646092799255</td>\n",
       "      <td>6.255986e+09</td>\n",
       "      <td>16031.685968</td>\n",
       "      <td>373350.0</td>\n",
       "      <td>36450.0</td>\n",
       "      <td>0.097630</td>\n",
       "      <td>382410.0</td>\n",
       "      <td>387220.0</td>\n",
       "      <td>414701.666667</td>\n",
       "    </tr>\n",
       "  </tbody>\n",
       "</table>\n",
       "</div>"
      ],
      "text/plain": [
       "    market candle_date_time_utc candle_date_time_kst  opening_price  \\\n",
       "4  KRW-BCH  2022-02-24T00:00:00  2022-02-24T09:00:00       352300.0   \n",
       "3  KRW-BCH  2022-02-25T00:00:00  2022-02-25T09:00:00       367600.0   \n",
       "2  KRW-BCH  2022-02-26T00:00:00  2022-02-26T09:00:00       376550.0   \n",
       "1  KRW-BCH  2022-02-27T00:00:00  2022-02-27T09:00:00       385650.0   \n",
       "0  KRW-BCH  2022-02-28T00:00:00  2022-02-28T09:00:00       374150.0   \n",
       "\n",
       "   high_price  low_price  trade_price      timestamp  candle_acc_trade_price  \\\n",
       "4    379000.0   323600.0     367650.0  1645747199207            8.029089e+09   \n",
       "3    380000.0   355200.0     375550.0  1645833586993            7.984606e+09   \n",
       "2    394450.0   375000.0     385700.0  1645919998296            6.230191e+09   \n",
       "1    392500.0   369900.0     373350.0  1646006345573            4.344263e+09   \n",
       "0    409800.0   369900.0     409800.0  1646092799255            6.255986e+09   \n",
       "\n",
       "   candle_acc_trade_volume  prev_closing_price  change_price  change_rate  \\\n",
       "4             23267.777661            352300.0       15350.0     0.043571   \n",
       "3             21774.066608            367650.0        7900.0     0.021488   \n",
       "2             16146.272517            375550.0       10150.0     0.027027   \n",
       "1             11391.337979            385700.0      -12350.0    -0.032020   \n",
       "0             16031.685968            373350.0       36450.0     0.097630   \n",
       "\n",
       "        MA5      MA20           MA60  \n",
       "4  359090.0  390880.0  424878.333333  \n",
       "3  359940.0  390040.0  421752.500000  \n",
       "2  367530.0  389487.5  419204.166667  \n",
       "1  370910.0  387175.0  416618.333333  \n",
       "0  382410.0  387220.0  414701.666667  "
      ]
     },
     "execution_count": 14,
     "metadata": {},
     "output_type": "execute_result"
    }
   ],
   "source": [
    "bch.tail()"
   ]
  },
  {
   "cell_type": "code",
   "execution_count": 17,
   "id": "naked-tension",
   "metadata": {},
   "outputs": [],
   "source": [
    "bch.set_index('candle_date_time_kst', inplace = True)"
   ]
  },
  {
   "cell_type": "code",
   "execution_count": 22,
   "id": "induced-collective",
   "metadata": {},
   "outputs": [
    {
     "data": {
      "text/plain": [
       "Text(0, 0.5, 'price')"
      ]
     },
     "execution_count": 22,
     "metadata": {},
     "output_type": "execute_result"
    },
    {
     "data": {
      "image/png": "[encoded data removed]",
      "text/plain": [
       "<Figure size 1152x648 with 1 Axes>"
      ]
     },
     "metadata": {
      "needs_background": "light"
     },
     "output_type": "display_data"
    }
   ],
   "source": [
    "plt.figure(figsize=(16, 9))\n",
    "sns.lineplot(y=bch['trade_price'], x=bch.index)\n",
    "plt.xlabel('candle_date_time_kst')\n",
    "plt.ylabel('price')"
   ]
  },
  {
   "cell_type": "code",
   "execution_count": 82,
   "id": "inappropriate-group",
   "metadata": {},
   "outputs": [],
   "source": [
    "scaler = MinMaxScaler()\n",
    "# 스케일을 적용할 column을 정의합니다.\n",
    "scale_cols = ['trade_price']\n",
    "# 스케일 후 columns\n",
    "scaled = scaler.fit_transform(bch[scale_cols])"
   ]
  },
  {
   "cell_type": "code",
   "execution_count": 83,
   "id": "considerable-movement",
   "metadata": {},
   "outputs": [
    {
     "data": {
      "text/plain": [
       "Index(['market', 'candle_date_time_utc', 'opening_price', 'high_price',\n",
       "       'low_price', 'trade_price', 'timestamp', 'candle_acc_trade_price',\n",
       "       'candle_acc_trade_volume', 'prev_closing_price', 'change_price',\n",
       "       'change_rate', 'MA5', 'MA20', 'MA60'],\n",
       "      dtype='object')"
      ]
     },
     "execution_count": 83,
     "metadata": {},
     "output_type": "execute_result"
    }
   ],
   "source": [
    "bch.columns"
   ]
  },
  {
   "cell_type": "code",
   "execution_count": 84,
   "id": "valid-somalia",
   "metadata": {},
   "outputs": [],
   "source": [
    "df = pd.DataFrame(scaled, columns=scale_cols)"
   ]
  },
  {
   "cell_type": "code",
   "execution_count": 85,
   "id": "tired-nutrition",
   "metadata": {},
   "outputs": [],
   "source": [
    "x_train, x_test, y_train, y_test = train_test_split(df.drop('trade_price', 1), df['trade_price'], test_size=0.2, random_state=0, shuffle=False)"
   ]
  },
  {
   "cell_type": "code",
   "execution_count": 86,
   "id": "further-stereo",
   "metadata": {},
   "outputs": [
    {
     "data": {
      "text/plain": [
       "0    0.399812\n",
       "1    0.409778\n",
       "2    0.405675\n",
       "3    0.408254\n",
       "4    0.460077\n",
       "Name: trade_price, dtype: float64"
      ]
     },
     "execution_count": 86,
     "metadata": {},
     "output_type": "execute_result"
    }
   ],
   "source": [
    "y_train.head()"
   ]
  },
  {
   "cell_type": "code",
   "execution_count": 87,
   "id": "headed-pilot",
   "metadata": {},
   "outputs": [
    {
     "data": {
      "text/html": [
       "<div>\n",
       "<style scoped>\n",
       "    .dataframe tbody tr th:only-of-type {\n",
       "        vertical-align: middle;\n",
       "    }\n",
       "\n",
       "    .dataframe tbody tr th {\n",
       "        vertical-align: top;\n",
       "    }\n",
       "\n",
       "    .dataframe thead th {\n",
       "        text-align: right;\n",
       "    }\n",
       "</style>\n",
       "<table border=\"1\" class=\"dataframe\">\n",
       "  <thead>\n",
       "    <tr style=\"text-align: right;\">\n",
       "      <th></th>\n",
       "    </tr>\n",
       "  </thead>\n",
       "  <tbody>\n",
       "    <tr>\n",
       "      <th>576</th>\n",
       "    </tr>\n",
       "    <tr>\n",
       "      <th>577</th>\n",
       "    </tr>\n",
       "    <tr>\n",
       "      <th>578</th>\n",
       "    </tr>\n",
       "    <tr>\n",
       "      <th>579</th>\n",
       "    </tr>\n",
       "    <tr>\n",
       "      <th>580</th>\n",
       "    </tr>\n",
       "  </tbody>\n",
       "</table>\n",
       "</div>"
      ],
      "text/plain": [
       "Empty DataFrame\n",
       "Columns: []\n",
       "Index: [576, 577, 578, 579, 580]"
      ]
     },
     "execution_count": 87,
     "metadata": {},
     "output_type": "execute_result"
    }
   ],
   "source": [
    "x_test.head()"
   ]
  },
  {
   "cell_type": "code",
   "execution_count": 88,
   "id": "located-privacy",
   "metadata": {},
   "outputs": [],
   "source": [
    "def windowed_dataset(series, window_size, batch_size, shuffle):\n",
    "    series = tf.expand_dims(series, axis=-1)\n",
    "    ds = tf.data.Dataset.from_tensor_slices(series)\n",
    "    ds = ds.window(window_size + 1, shift=1, drop_remainder=True)\n",
    "    ds = ds.flat_map(lambda w: w.batch(window_size + 1))\n",
    "    if shuffle:\n",
    "        ds = ds.shuffle(1000)\n",
    "    ds = ds.map(lambda w: (w[:-1], w[-1]))\n",
    "    return ds.batch(batch_size).prefetch(1)"
   ]
  },
  {
   "cell_type": "code",
   "execution_count": 89,
   "id": "handmade-regard",
   "metadata": {},
   "outputs": [],
   "source": [
    "WINDOW_SIZE=20\n",
    "BATCH_SIZE=32"
   ]
  },
  {
   "cell_type": "code",
   "execution_count": 90,
   "id": "average-surge",
   "metadata": {},
   "outputs": [],
   "source": [
    "# trian_data는 학습용 데이터셋, test_data는 검증용 데이터셋 입니다.\n",
    "train_data = windowed_dataset(y_train, WINDOW_SIZE, BATCH_SIZE, True)\n",
    "test_data = windowed_dataset(y_test, WINDOW_SIZE, BATCH_SIZE, False)"
   ]
  },
  {
   "cell_type": "code",
   "execution_count": 91,
   "id": "extreme-millennium",
   "metadata": {},
   "outputs": [],
   "source": [
    "from tensorflow.keras.models import Sequential\n",
    "from tensorflow.keras.layers import Dense, LSTM, Conv1D, Lambda\n",
    "from tensorflow.keras.losses import Huber\n",
    "from tensorflow.keras.optimizers import Adam\n",
    "from tensorflow.keras.callbacks import EarlyStopping, ModelCheckpoint\n",
    "\n",
    "\n",
    "model = Sequential([\n",
    "    # 1차원 feature map 생성\n",
    "    Conv1D(filters=32, kernel_size=5,\n",
    "           padding=\"causal\",\n",
    "           activation=\"relu\",\n",
    "           input_shape=[WINDOW_SIZE, 1]),\n",
    "    # LSTM\n",
    "    LSTM(16, activation='tanh'),\n",
    "    Dense(16, activation=\"relu\"),\n",
    "    Dense(1),\n",
    "])"
   ]
  },
  {
   "cell_type": "code",
   "execution_count": 92,
   "id": "structured-lotus",
   "metadata": {},
   "outputs": [],
   "source": [
    "# Sequence 학습에 비교적 좋은 퍼포먼스를 내는 Huber()를 사용합니다.\n",
    "loss = Huber()\n",
    "optimizer = Adam(0.0005)\n",
    "model.compile(loss=Huber(), optimizer=optimizer, metrics=['mse'])"
   ]
  },
  {
   "cell_type": "code",
   "execution_count": 93,
   "id": "frank-pantyhose",
   "metadata": {},
   "outputs": [],
   "source": [
    "# earlystopping은 10번 epoch통안 val_loss 개선이 없다면 학습을 멈춥니다.\n",
    "earlystopping = EarlyStopping(monitor='val_loss', patience=10)\n",
    "# val_loss 기준 체크포인터도 생성합니다.\n",
    "filename = os.path.join('tmp', 'ckeckpointer.ckpt')\n",
    "checkpoint = ModelCheckpoint(filename, \n",
    "                             save_weights_only=True, \n",
    "                             save_best_only=True, \n",
    "                             monitor='val_loss', \n",
    "                             verbose=1)"
   ]
  },
  {
   "cell_type": "code",
   "execution_count": 94,
   "id": "waiting-filter",
   "metadata": {},
   "outputs": [
    {
     "name": "stdout",
     "output_type": "stream",
     "text": [
      "Epoch 1/50\n",
      "     16/Unknown - 2s 11ms/step - loss: 0.0352 - mse: 0.0704\n",
      "Epoch 1: val_loss improved from inf to 0.01235, saving model to tmp/ckeckpointer.ckpt\n",
      "18/18 [==============================] - 3s 50ms/step - loss: 0.0348 - mse: 0.0696 - val_loss: 0.0123 - val_mse: 0.0247\n",
      "Epoch 2/50\n",
      "17/18 [===========================>..] - ETA: 0s - loss: 0.0152 - mse: 0.0303\n",
      "Epoch 2: val_loss improved from 0.01235 to 0.00190, saving model to tmp/ckeckpointer.ckpt\n",
      "18/18 [==============================] - 0s 16ms/step - loss: 0.0151 - mse: 0.0301 - val_loss: 0.0019 - val_mse: 0.0038\n",
      "Epoch 3/50\n",
      "16/18 [=========================>....] - ETA: 0s - loss: 0.0061 - mse: 0.0123\n",
      "Epoch 3: val_loss did not improve from 0.00190\n",
      "18/18 [==============================] - 0s 15ms/step - loss: 0.0060 - mse: 0.0120 - val_loss: 0.0023 - val_mse: 0.0046\n",
      "Epoch 4/50\n",
      "16/18 [=========================>....] - ETA: 0s - loss: 0.0043 - mse: 0.0086\n",
      "Epoch 4: val_loss improved from 0.00190 to 0.00098, saving model to tmp/ckeckpointer.ckpt\n",
      "18/18 [==============================] - 0s 16ms/step - loss: 0.0044 - mse: 0.0087 - val_loss: 9.7645e-04 - val_mse: 0.0020\n",
      "Epoch 5/50\n",
      "16/18 [=========================>....] - ETA: 0s - loss: 0.0031 - mse: 0.0062\n",
      "Epoch 5: val_loss improved from 0.00098 to 0.00047, saving model to tmp/ckeckpointer.ckpt\n",
      "18/18 [==============================] - 0s 16ms/step - loss: 0.0030 - mse: 0.0060 - val_loss: 4.7024e-04 - val_mse: 9.4047e-04\n",
      "Epoch 6/50\n",
      "16/18 [=========================>....] - ETA: 0s - loss: 0.0025 - mse: 0.0051\n",
      "Epoch 6: val_loss improved from 0.00047 to 0.00043, saving model to tmp/ckeckpointer.ckpt\n",
      "18/18 [==============================] - 0s 17ms/step - loss: 0.0025 - mse: 0.0050 - val_loss: 4.3167e-04 - val_mse: 8.6334e-04\n",
      "Epoch 7/50\n",
      "16/18 [=========================>....] - ETA: 0s - loss: 0.0022 - mse: 0.0044  \n",
      "Epoch 7: val_loss improved from 0.00043 to 0.00034, saving model to tmp/ckeckpointer.ckpt\n",
      "18/18 [==============================] - 0s 16ms/step - loss: 0.0024 - mse: 0.0048 - val_loss: 3.4127e-04 - val_mse: 6.8254e-04\n",
      "Epoch 8/50\n",
      "16/18 [=========================>....] - ETA: 0s - loss: 0.0023 - mse: 0.0045\n",
      "Epoch 8: val_loss did not improve from 0.00034\n",
      "18/18 [==============================] - 0s 15ms/step - loss: 0.0022 - mse: 0.0043 - val_loss: 3.6487e-04 - val_mse: 7.2973e-04\n",
      "Epoch 9/50\n",
      "17/18 [===========================>..] - ETA: 0s - loss: 0.0018 - mse: 0.0037  \n",
      "Epoch 9: val_loss did not improve from 0.00034\n",
      "18/18 [==============================] - 0s 15ms/step - loss: 0.0018 - mse: 0.0037 - val_loss: 3.4412e-04 - val_mse: 6.8825e-04\n",
      "Epoch 10/50\n",
      "16/18 [=========================>....] - ETA: 0s - loss: 0.0017 - mse: 0.0034  \n",
      "Epoch 10: val_loss did not improve from 0.00034\n",
      "18/18 [==============================] - 0s 15ms/step - loss: 0.0017 - mse: 0.0034 - val_loss: 4.3617e-04 - val_mse: 8.7235e-04\n",
      "Epoch 11/50\n",
      "16/18 [=========================>....] - ETA: 0s - loss: 0.0017 - mse: 0.0034\n",
      "Epoch 11: val_loss improved from 0.00034 to 0.00030, saving model to tmp/ckeckpointer.ckpt\n",
      "18/18 [==============================] - 0s 16ms/step - loss: 0.0016 - mse: 0.0033 - val_loss: 2.9822e-04 - val_mse: 5.9644e-04\n",
      "Epoch 12/50\n",
      "16/18 [=========================>....] - ETA: 0s - loss: 0.0013 - mse: 0.0026\n",
      "Epoch 12: val_loss did not improve from 0.00030\n",
      "18/18 [==============================] - 0s 14ms/step - loss: 0.0014 - mse: 0.0029 - val_loss: 3.2525e-04 - val_mse: 6.5051e-04\n",
      "Epoch 13/50\n",
      "16/18 [=========================>....] - ETA: 0s - loss: 0.0013 - mse: 0.0027  \n",
      "Epoch 13: val_loss improved from 0.00030 to 0.00023, saving model to tmp/ckeckpointer.ckpt\n",
      "18/18 [==============================] - 0s 16ms/step - loss: 0.0013 - mse: 0.0026 - val_loss: 2.3324e-04 - val_mse: 4.6647e-04\n",
      "Epoch 14/50\n",
      "16/18 [=========================>....] - ETA: 0s - loss: 0.0012 - mse: 0.0024    \n",
      "Epoch 14: val_loss did not improve from 0.00023\n",
      "18/18 [==============================] - 0s 14ms/step - loss: 0.0012 - mse: 0.0024 - val_loss: 3.6051e-04 - val_mse: 7.2102e-04\n",
      "Epoch 15/50\n",
      "17/18 [===========================>..] - ETA: 0s - loss: 0.0012 - mse: 0.0024\n",
      "Epoch 15: val_loss improved from 0.00023 to 0.00020, saving model to tmp/ckeckpointer.ckpt\n",
      "18/18 [==============================] - 0s 16ms/step - loss: 0.0012 - mse: 0.0023 - val_loss: 2.0256e-04 - val_mse: 4.0512e-04\n",
      "Epoch 16/50\n",
      "16/18 [=========================>....] - ETA: 0s - loss: 0.0011 - mse: 0.0023  \n",
      "Epoch 16: val_loss improved from 0.00020 to 0.00020, saving model to tmp/ckeckpointer.ckpt\n",
      "18/18 [==============================] - 0s 16ms/step - loss: 0.0011 - mse: 0.0022 - val_loss: 1.9610e-04 - val_mse: 3.9220e-04\n",
      "Epoch 17/50\n",
      "16/18 [=========================>....] - ETA: 0s - loss: 0.0010 - mse: 0.0020    \n",
      "Epoch 17: val_loss improved from 0.00020 to 0.00019, saving model to tmp/ckeckpointer.ckpt\n",
      "18/18 [==============================] - 0s 16ms/step - loss: 0.0010 - mse: 0.0021 - val_loss: 1.9050e-04 - val_mse: 3.8100e-04\n",
      "Epoch 18/50\n",
      "16/18 [=========================>....] - ETA: 0s - loss: 0.0011 - mse: 0.0022  \n",
      "Epoch 18: val_loss did not improve from 0.00019\n",
      "18/18 [==============================] - 0s 16ms/step - loss: 0.0011 - mse: 0.0021 - val_loss: 3.7451e-04 - val_mse: 7.4902e-04\n",
      "Epoch 19/50\n",
      "15/18 [========================>.....] - ETA: 0s - loss: 0.0012 - mse: 0.0023  \n",
      "Epoch 19: val_loss did not improve from 0.00019\n",
      "18/18 [==============================] - 0s 16ms/step - loss: 0.0011 - mse: 0.0022 - val_loss: 2.9153e-04 - val_mse: 5.8307e-04\n",
      "Epoch 20/50\n",
      "17/18 [===========================>..] - ETA: 0s - loss: 9.5346e-04 - mse: 0.0019\n",
      "Epoch 20: val_loss did not improve from 0.00019\n",
      "18/18 [==============================] - 0s 14ms/step - loss: 9.4304e-04 - mse: 0.0019 - val_loss: 2.1274e-04 - val_mse: 4.2549e-04\n",
      "Epoch 21/50\n",
      "16/18 [=========================>....] - ETA: 0s - loss: 9.7516e-04 - mse: 0.0020\n",
      "Epoch 21: val_loss did not improve from 0.00019\n",
      "18/18 [==============================] - 0s 15ms/step - loss: 9.4604e-04 - mse: 0.0019 - val_loss: 3.0707e-04 - val_mse: 6.1415e-04\n",
      "Epoch 22/50\n",
      "16/18 [=========================>....] - ETA: 0s - loss: 9.7092e-04 - mse: 0.0019\n",
      "Epoch 22: val_loss did not improve from 0.00019\n",
      "18/18 [==============================] - 0s 15ms/step - loss: 9.4029e-04 - mse: 0.0019 - val_loss: 8.3939e-04 - val_mse: 0.0017\n",
      "Epoch 23/50\n",
      "16/18 [=========================>....] - ETA: 0s - loss: 0.0010 - mse: 0.0020    \n",
      "Epoch 23: val_loss improved from 0.00019 to 0.00019, saving model to tmp/ckeckpointer.ckpt\n",
      "18/18 [==============================] - 0s 16ms/step - loss: 0.0010 - mse: 0.0020 - val_loss: 1.8661e-04 - val_mse: 3.7323e-04\n",
      "Epoch 24/50\n",
      "17/18 [===========================>..] - ETA: 0s - loss: 8.5469e-04 - mse: 0.0017\n",
      "Epoch 24: val_loss did not improve from 0.00019\n",
      "18/18 [==============================] - 0s 15ms/step - loss: 8.3982e-04 - mse: 0.0017 - val_loss: 2.1023e-04 - val_mse: 4.2046e-04\n",
      "Epoch 25/50\n",
      "17/18 [===========================>..] - ETA: 0s - loss: 8.4269e-04 - mse: 0.0017\n",
      "Epoch 25: val_loss improved from 0.00019 to 0.00016, saving model to tmp/ckeckpointer.ckpt\n",
      "18/18 [==============================] - 0s 15ms/step - loss: 8.2787e-04 - mse: 0.0017 - val_loss: 1.5952e-04 - val_mse: 3.1904e-04\n",
      "Epoch 26/50\n",
      "17/18 [===========================>..] - ETA: 0s - loss: 8.1145e-04 - mse: 0.0016\n",
      "Epoch 26: val_loss did not improve from 0.00016\n",
      "18/18 [==============================] - 0s 14ms/step - loss: 7.9899e-04 - mse: 0.0016 - val_loss: 1.8168e-04 - val_mse: 3.6335e-04\n",
      "Epoch 27/50\n",
      "13/18 [====================>.........] - ETA: 0s - loss: 6.0677e-04 - mse: 0.0012    \n",
      "Epoch 27: val_loss did not improve from 0.00016\n",
      "18/18 [==============================] - 0s 14ms/step - loss: 7.4585e-04 - mse: 0.0015 - val_loss: 1.6005e-04 - val_mse: 3.2011e-04\n",
      "Epoch 28/50\n",
      "16/18 [=========================>....] - ETA: 0s - loss: 6.9136e-04 - mse: 0.0014  \n",
      "Epoch 28: val_loss did not improve from 0.00016\n",
      "18/18 [==============================] - 0s 15ms/step - loss: 7.1801e-04 - mse: 0.0014 - val_loss: 2.5496e-04 - val_mse: 5.0992e-04\n",
      "Epoch 29/50\n",
      "16/18 [=========================>....] - ETA: 0s - loss: 7.5737e-04 - mse: 0.0015  \n",
      "Epoch 29: val_loss did not improve from 0.00016\n",
      "18/18 [==============================] - 0s 16ms/step - loss: 7.2705e-04 - mse: 0.0015 - val_loss: 1.6170e-04 - val_mse: 3.2341e-04\n",
      "Epoch 30/50\n",
      "16/18 [=========================>....] - ETA: 0s - loss: 7.4888e-04 - mse: 0.0015  \n",
      "Epoch 30: val_loss did not improve from 0.00016\n",
      "18/18 [==============================] - 0s 15ms/step - loss: 7.5346e-04 - mse: 0.0015 - val_loss: 1.6385e-04 - val_mse: 3.2770e-04\n",
      "Epoch 31/50\n",
      "16/18 [=========================>....] - ETA: 0s - loss: 7.2931e-04 - mse: 0.0015\n",
      "Epoch 31: val_loss did not improve from 0.00016\n",
      "18/18 [==============================] - 0s 15ms/step - loss: 6.8971e-04 - mse: 0.0014 - val_loss: 1.9130e-04 - val_mse: 3.8259e-04\n",
      "Epoch 32/50\n",
      "16/18 [=========================>....] - ETA: 0s - loss: 6.9580e-04 - mse: 0.0014\n",
      "Epoch 32: val_loss improved from 0.00016 to 0.00015, saving model to tmp/ckeckpointer.ckpt\n",
      "18/18 [==============================] - 0s 16ms/step - loss: 6.5531e-04 - mse: 0.0013 - val_loss: 1.5394e-04 - val_mse: 3.0789e-04\n",
      "Epoch 33/50\n",
      "16/18 [=========================>....] - ETA: 0s - loss: 5.1986e-04 - mse: 0.0010    \n",
      "Epoch 33: val_loss did not improve from 0.00015\n",
      "18/18 [==============================] - 0s 15ms/step - loss: 6.3585e-04 - mse: 0.0013 - val_loss: 2.1727e-04 - val_mse: 4.3454e-04\n",
      "Epoch 34/50\n",
      "16/18 [=========================>....] - ETA: 0s - loss: 7.1691e-04 - mse: 0.0014    \n",
      "Epoch 34: val_loss improved from 0.00015 to 0.00014, saving model to tmp/ckeckpointer.ckpt\n",
      "18/18 [==============================] - 0s 16ms/step - loss: 6.9413e-04 - mse: 0.0014 - val_loss: 1.3962e-04 - val_mse: 2.7924e-04\n",
      "Epoch 35/50\n",
      "17/18 [===========================>..] - ETA: 0s - loss: 6.8822e-04 - mse: 0.0014\n",
      "Epoch 35: val_loss did not improve from 0.00014\n",
      "18/18 [==============================] - 0s 15ms/step - loss: 6.8459e-04 - mse: 0.0014 - val_loss: 1.6268e-04 - val_mse: 3.2536e-04\n",
      "Epoch 36/50\n",
      "16/18 [=========================>....] - ETA: 0s - loss: 7.5132e-04 - mse: 0.0015    \n",
      "Epoch 36: val_loss did not improve from 0.00014\n",
      "18/18 [==============================] - 0s 14ms/step - loss: 7.2887e-04 - mse: 0.0015 - val_loss: 2.6866e-04 - val_mse: 5.3732e-04\n",
      "Epoch 37/50\n",
      "18/18 [==============================] - ETA: 0s - loss: 6.2609e-04 - mse: 0.0013\n",
      "Epoch 37: val_loss did not improve from 0.00014\n",
      "18/18 [==============================] - 0s 14ms/step - loss: 6.2609e-04 - mse: 0.0013 - val_loss: 1.6549e-04 - val_mse: 3.3097e-04\n",
      "Epoch 38/50\n",
      "17/18 [===========================>..] - ETA: 0s - loss: 6.3240e-04 - mse: 0.0013    \n",
      "Epoch 38: val_loss improved from 0.00014 to 0.00013, saving model to tmp/ckeckpointer.ckpt\n",
      "18/18 [==============================] - 0s 15ms/step - loss: 6.2178e-04 - mse: 0.0012 - val_loss: 1.2761e-04 - val_mse: 2.5521e-04\n",
      "Epoch 39/50\n",
      "13/18 [====================>.........] - ETA: 0s - loss: 4.2786e-04 - mse: 8.5573e-04\n",
      "Epoch 39: val_loss did not improve from 0.00013\n",
      "18/18 [==============================] - 0s 14ms/step - loss: 6.1594e-04 - mse: 0.0012 - val_loss: 2.2187e-04 - val_mse: 4.4375e-04\n",
      "Epoch 40/50\n",
      "16/18 [=========================>....] - ETA: 0s - loss: 6.1147e-04 - mse: 0.0012   \n",
      "Epoch 40: val_loss did not improve from 0.00013\n",
      "18/18 [==============================] - 0s 15ms/step - loss: 6.1880e-04 - mse: 0.0012 - val_loss: 2.4314e-04 - val_mse: 4.8629e-04\n",
      "Epoch 41/50\n",
      "17/18 [===========================>..] - ETA: 0s - loss: 5.6290e-04 - mse: 0.0011\n",
      "Epoch 41: val_loss did not improve from 0.00013\n",
      "18/18 [==============================] - 0s 14ms/step - loss: 5.7051e-04 - mse: 0.0011 - val_loss: 1.2783e-04 - val_mse: 2.5566e-04\n",
      "Epoch 42/50\n",
      "16/18 [=========================>....] - ETA: 0s - loss: 5.6008e-04 - mse: 0.0011   \n",
      "Epoch 42: val_loss did not improve from 0.00013\n",
      "18/18 [==============================] - 0s 14ms/step - loss: 5.9791e-04 - mse: 0.0012 - val_loss: 1.7517e-04 - val_mse: 3.5033e-04\n",
      "Epoch 43/50\n",
      "16/18 [=========================>....] - ETA: 0s - loss: 6.4498e-04 - mse: 0.0013  \n",
      "Epoch 43: val_loss did not improve from 0.00013\n",
      "18/18 [==============================] - 0s 14ms/step - loss: 6.2663e-04 - mse: 0.0013 - val_loss: 1.4161e-04 - val_mse: 2.8322e-04\n",
      "Epoch 44/50\n",
      "18/18 [==============================] - ETA: 0s - loss: 5.7444e-04 - mse: 0.0011\n",
      "Epoch 44: val_loss improved from 0.00013 to 0.00012, saving model to tmp/ckeckpointer.ckpt\n",
      "18/18 [==============================] - 0s 15ms/step - loss: 5.7444e-04 - mse: 0.0011 - val_loss: 1.2138e-04 - val_mse: 2.4276e-04\n",
      "Epoch 45/50\n",
      "17/18 [===========================>..] - ETA: 0s - loss: 5.8087e-04 - mse: 0.0012   \n",
      "Epoch 45: val_loss improved from 0.00012 to 0.00012, saving model to tmp/ckeckpointer.ckpt\n",
      "18/18 [==============================] - 0s 16ms/step - loss: 5.7409e-04 - mse: 0.0011 - val_loss: 1.2060e-04 - val_mse: 2.4120e-04\n",
      "Epoch 46/50\n",
      "17/18 [===========================>..] - ETA: 0s - loss: 6.5160e-04 - mse: 0.0013\n",
      "Epoch 46: val_loss did not improve from 0.00012\n",
      "18/18 [==============================] - 0s 15ms/step - loss: 6.4654e-04 - mse: 0.0013 - val_loss: 2.8567e-04 - val_mse: 5.7134e-04\n",
      "Epoch 47/50\n",
      "17/18 [===========================>..] - ETA: 0s - loss: 6.4916e-04 - mse: 0.0013\n",
      "Epoch 47: val_loss did not improve from 0.00012\n",
      "18/18 [==============================] - 0s 15ms/step - loss: 6.5062e-04 - mse: 0.0013 - val_loss: 2.2141e-04 - val_mse: 4.4282e-04\n",
      "Epoch 48/50\n",
      "16/18 [=========================>....] - ETA: 0s - loss: 4.6518e-04 - mse: 9.3036e-04\n",
      "Epoch 48: val_loss did not improve from 0.00012\n",
      "18/18 [==============================] - 0s 14ms/step - loss: 5.6610e-04 - mse: 0.0011 - val_loss: 1.2463e-04 - val_mse: 2.4926e-04\n",
      "Epoch 49/50\n",
      "16/18 [=========================>....] - ETA: 0s - loss: 6.0671e-04 - mse: 0.0012  \n",
      "Epoch 49: val_loss did not improve from 0.00012\n",
      "18/18 [==============================] - 0s 14ms/step - loss: 5.8095e-04 - mse: 0.0012 - val_loss: 1.2819e-04 - val_mse: 2.5637e-04\n",
      "Epoch 50/50\n",
      "16/18 [=========================>....] - ETA: 0s - loss: 5.2207e-04 - mse: 0.0010    \n",
      "Epoch 50: val_loss did not improve from 0.00012\n",
      "18/18 [==============================] - 0s 15ms/step - loss: 5.4539e-04 - mse: 0.0011 - val_loss: 2.8351e-04 - val_mse: 5.6703e-04\n"
     ]
    }
   ],
   "source": [
    "history = model.fit(train_data, \n",
    "                    validation_data=(test_data), \n",
    "                    epochs=50, \n",
    "                    callbacks=[checkpoint, earlystopping])"
   ]
  },
  {
   "cell_type": "code",
   "execution_count": 95,
   "id": "running-canada",
   "metadata": {},
   "outputs": [
    {
     "data": {
      "text/plain": [
       "<tensorflow.python.training.tracking.util.CheckpointLoadStatus at 0x7fc8d43f73d0>"
      ]
     },
     "execution_count": 95,
     "metadata": {},
     "output_type": "execute_result"
    }
   ],
   "source": [
    "model.load_weights(filename)"
   ]
  },
  {
   "cell_type": "code",
   "execution_count": 96,
   "id": "structural-duration",
   "metadata": {},
   "outputs": [],
   "source": [
    "pred = model.predict(test_data)"
   ]
  },
  {
   "cell_type": "code",
   "execution_count": 97,
   "id": "compound-spirit",
   "metadata": {},
   "outputs": [
    {
     "data": {
      "text/plain": [
       "(124, 1)"
      ]
     },
     "execution_count": 97,
     "metadata": {},
     "output_type": "execute_result"
    }
   ],
   "source": [
    "pred.shape"
   ]
  },
  {
   "cell_type": "markdown",
   "id": "unlimited-drive",
   "metadata": {},
   "source": [
    "## Plot result"
   ]
  },
  {
   "cell_type": "code",
   "execution_count": 98,
   "id": "yellow-representation",
   "metadata": {},
   "outputs": [
    {
     "data": {
      "text/plain": [
       "(144,)"
      ]
     },
     "execution_count": 98,
     "metadata": {},
     "output_type": "execute_result"
    }
   ],
   "source": [
    "y_test.shape"
   ]
  },
  {
   "cell_type": "code",
   "execution_count": 99,
   "id": "united-genetics",
   "metadata": {},
   "outputs": [],
   "source": [
    "pred_plot = np.concatenate((np.expand_dims(y_train, axis = 1), np.zeros((20, 1)), pred))"
   ]
  },
  {
   "cell_type": "code",
   "execution_count": 100,
   "id": "electronic-plain",
   "metadata": {},
   "outputs": [],
   "source": [
    "pred_plot = scaler.inverse_transform(pred_plot)"
   ]
  },
  {
   "cell_type": "code",
   "execution_count": 107,
   "id": "charitable-federation",
   "metadata": {},
   "outputs": [],
   "source": [
    "actual_plot = np.expand_dims(np.concatenate((y_train, y_test)), axis = 1)"
   ]
  },
  {
   "cell_type": "code",
   "execution_count": 108,
   "id": "orange-journey",
   "metadata": {},
   "outputs": [],
   "source": [
    "actual_plot = scaler.inverse_transform(actual_plot)"
   ]
  },
  {
   "cell_type": "code",
   "execution_count": 109,
   "id": "digital-commissioner",
   "metadata": {},
   "outputs": [
    {
     "data": {
      "image/png": "[encoded data removed]",
      "text/plain": [
       "<Figure size 864x648 with 1 Axes>"
      ]
     },
     "metadata": {
      "needs_background": "light"
     },
     "output_type": "display_data"
    }
   ],
   "source": [
    "plt.figure(figsize=(12, 9))\n",
    "plt.plot(pred_plot, label='prediction')\n",
    "plt.plot(actual_plot, label='actual')\n",
    "plt.axvline(x = y_train.shape[0], c = 'r', linestyle = '--')\n",
    "plt.suptitle('Timeseries Prediction')\n",
    "plt.legend()\n",
    "plt.show()"
   ]
  },
  {
   "cell_type": "code",
   "execution_count": null,
   "id": "marine-handle",
   "metadata": {},
   "outputs": [],
   "source": []
  }
 ],
 "metadata": {
  "kernelspec": {
   "display_name": "Python 3",
   "language": "python",
   "name": "python3"
  },
  "language_info": {
   "codemirror_mode": {
    "name": "ipython",
    "version": 3
   },
   "file_extension": ".py",
   "mimetype": "text/x-python",
   "name": "python",
   "nbconvert_exporter": "python",
   "pygments_lexer": "ipython3",
   "version": "3.8.3"
  }
 },
 "nbformat": 4,
 "nbformat_minor": 5
}
