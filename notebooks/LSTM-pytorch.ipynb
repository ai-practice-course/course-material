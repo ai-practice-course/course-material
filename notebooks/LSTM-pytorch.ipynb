{
 "cells": [
  {
   "cell_type": "code",
   "execution_count": null,
   "id": "lonely-spelling",
   "metadata": {},
   "outputs": [],
   "source": [
    "# https://hongl.tistory.com/247"
   ]
  },
  {
   "cell_type": "code",
   "execution_count": 1,
   "id": "indoor-termination",
   "metadata": {},
   "outputs": [],
   "source": [
    "import torch\n",
    "import torch.nn as nn\n",
    "\n",
    "import numpy as np\n",
    "import pandas as pd\n",
    "import matplotlib.pyplot as plt\n",
    "\n",
    "from torch.autograd import Variable\n",
    "from sklearn.preprocessing import MinMaxScaler\n",
    "from sklearn.model_selection import train_test_split\n",
    "from torch.utils.data import TensorDataset, DataLoader\n",
    "\n",
    "import pickle"
   ]
  },
  {
   "cell_type": "code",
   "execution_count": 4,
   "id": "occupational-tradition",
   "metadata": {},
   "outputs": [],
   "source": [
    "with open('../data/crypto_currency.pickle', 'rb') as f:\n",
    "    data = pickle.load(f)"
   ]
  },
  {
   "cell_type": "code",
   "execution_count": 126,
   "id": "first-cookie",
   "metadata": {},
   "outputs": [
    {
     "data": {
      "text/plain": [
       "dict_keys(['KRW-BTT', 'KRW-XEC', 'KRW-IQ', 'KRW-IOST', 'KRW-ZIL', 'KRW-MVL', 'KRW-CRE', 'KRW-FCT2', 'KRW-MBL', 'KRW-SC', 'KRW-RFR', 'KRW-JST', 'KRW-MFT', 'KRW-QKC', 'KRW-STMX', 'KRW-TT', 'KRW-AHT', 'KRW-VET', 'KRW-TRX', 'KRW-HUM', 'KRW-MED', 'KRW-SSX', 'KRW-STPT', 'KRW-SNT', 'KRW-DOGE', 'KRW-MOC', 'KRW-LOOM', 'KRW-UPP', 'KRW-DKA', 'KRW-XRP', 'KRW-CHZ', 'KRW-ANKR', 'KRW-META', 'KRW-POWR', 'KRW-TFUEL', 'KRW-ORBS', 'KRW-XEM', 'KRW-AERGO', 'KRW-NU', 'KRW-STRAX', 'KRW-PLA', 'BTC-RSR', 'KRW-BORA', 'KRW-WAXP', 'KRW-HBAR', 'KRW-ELF', 'BTC-RVN', 'KRW-XLM', 'KRW-ARDR', 'KRW-ADA', 'KRW-GLM', 'BTC-ONIT', 'KRW-SAND', 'BTC-SUN', 'KRW-ZRX', 'BTC-REI', 'KRW-POLY', 'KRW-HUNT', 'BTC-MARO', 'KRW-PUNDIX', 'KRW-ENJ', 'KRW-MANA', 'KRW-ICX', 'KRW-CVC', 'KRW-SRM', 'KRW-ONG', 'KRW-CRO', 'KRW-ALGO', 'KRW-ONT', 'BTC-DENT', 'BTC-FOR', 'KRW-IOTA', 'BTC-LINA', 'KRW-WAVES', 'BTC-BASIC', 'KRW-SXP', 'KRW-MATIC', 'KRW-BAT', 'KRW-GRS', 'KRW-STX', 'KRW-HIVE', 'KRW-MLK', 'KRW-STEEM', 'BTC-OBSR', 'BTC-BFC', 'KRW-KNC', 'BTC-GO', 'BTC-SOLVE', 'KRW-EOS', 'KRW-CBK', 'KRW-ARK', 'KRW-STORJ', 'BTC-DGB', 'KRW-1INCH', 'KRW-THETA', 'KRW-AQT', 'KRW-OMG', 'BTC-QTCON', 'KRW-FLOW', 'KRW-WEMIX', 'BTC-IOTX', 'KRW-GAS', 'BTC-IQ', 'KRW-ETC', 'KRW-LSK', 'BTC-IOST', 'KRW-MTL', 'KRW-DAWN', 'BTC-GRT', 'KRW-TON', 'KRW-XTZ', 'KRW-QTUM', 'BTC-MFT', 'BTC-SC', 'KRW-NEAR', 'BTC-CTSI', 'KRW-KAVA', 'BTC-OGN', 'BTC-DAD', 'BTC-MVL', 'BTC-STMX', 'BTC-DNT', 'BTC-LRC', 'KRW-SOL', 'BTC-PCI', 'KRW-LINK', 'KRW-SBD', 'KRW-ATOM', 'BTC-TRX', 'KRW-REP', 'BTC-FCT2', 'BTC-ZIL', 'KRW-NEO', 'BTC-NKN', 'KRW-AXS', 'BTC-OXT', 'KRW-STRK', 'BTC-CTC', 'KRW-DOT', 'BTC-JST', 'BTC-RFR', 'BTC-CHR', 'BTC-LOOM', 'BTC-XRP', 'BTC-FX', 'BTC-IMX', 'KRW-BTG', 'BTC-DOGE', 'BTC-AHT', 'BTC-FIL', 'BTC-VET', 'KRW-AAVE', 'KRW-AVAX', 'BTC-RLY', 'BTC-OCEAN', 'BTC-MASK', 'BTC-DKA', 'BTC-MED', 'USDT-TRX', 'BTC-HUM', 'BTC-AUDIO', 'BTC-SNT', 'BTC-STPT', 'BTC-SNX', 'KRW-LTC', 'BTC-ANKR', 'BTC-META', 'BTC-UPP', 'KRW-BSV', 'BTC-SSX', 'BTC-CRV', 'BTC-MOC', 'BTC-YGG', 'BTC-ORBS', 'BTC-CBK', 'BTC-VAL', 'BTC-DAI', 'BTC-XLM', 'BTC-AERGO', 'USDT-RVN', 'BTC-SAND', 'BTC-GTC', 'BTC-RLC', 'BTC-ALGO', 'BTC-ARDR', 'KRW-ETH', 'BTC-CHZ', 'USDT-SC', 'BTC-POWR', 'BTC-CVC', 'USDT-XRP', 'BTC-XEM', 'BTC-AUCTION', 'KRW-BCH', 'BTC-HBD', 'BTC-INJ', 'USDT-DOGE'])"
      ]
     },
     "execution_count": 126,
     "metadata": {},
     "output_type": "execute_result"
    }
   ],
   "source": [
    "data.keys()"
   ]
  },
  {
   "cell_type": "code",
   "execution_count": 147,
   "id": "relative-insurance",
   "metadata": {},
   "outputs": [],
   "source": [
    "bch = data['KRW-ETH'][['candle_date_time_kst', 'trade_price']]"
   ]
  },
  {
   "cell_type": "code",
   "execution_count": 148,
   "id": "pressed-agreement",
   "metadata": {},
   "outputs": [
    {
     "data": {
      "text/html": [
       "<div>\n",
       "<style scoped>\n",
       "    .dataframe tbody tr th:only-of-type {\n",
       "        vertical-align: middle;\n",
       "    }\n",
       "\n",
       "    .dataframe tbody tr th {\n",
       "        vertical-align: top;\n",
       "    }\n",
       "\n",
       "    .dataframe thead th {\n",
       "        text-align: right;\n",
       "    }\n",
       "</style>\n",
       "<table border=\"1\" class=\"dataframe\">\n",
       "  <thead>\n",
       "    <tr style=\"text-align: right;\">\n",
       "      <th></th>\n",
       "      <th>candle_date_time_kst</th>\n",
       "      <th>trade_price</th>\n",
       "    </tr>\n",
       "  </thead>\n",
       "  <tbody>\n",
       "    <tr>\n",
       "      <th>119</th>\n",
       "      <td>2018-07-20T09:00:00</td>\n",
       "      <td>511500.0</td>\n",
       "    </tr>\n",
       "    <tr>\n",
       "      <th>118</th>\n",
       "      <td>2018-07-21T09:00:00</td>\n",
       "      <td>521600.0</td>\n",
       "    </tr>\n",
       "    <tr>\n",
       "      <th>117</th>\n",
       "      <td>2018-07-22T09:00:00</td>\n",
       "      <td>516300.0</td>\n",
       "    </tr>\n",
       "    <tr>\n",
       "      <th>116</th>\n",
       "      <td>2018-07-23T09:00:00</td>\n",
       "      <td>509600.0</td>\n",
       "    </tr>\n",
       "    <tr>\n",
       "      <th>115</th>\n",
       "      <td>2018-07-24T09:00:00</td>\n",
       "      <td>539200.0</td>\n",
       "    </tr>\n",
       "  </tbody>\n",
       "</table>\n",
       "</div>"
      ],
      "text/plain": [
       "    candle_date_time_kst  trade_price\n",
       "119  2018-07-20T09:00:00     511500.0\n",
       "118  2018-07-21T09:00:00     521600.0\n",
       "117  2018-07-22T09:00:00     516300.0\n",
       "116  2018-07-23T09:00:00     509600.0\n",
       "115  2018-07-24T09:00:00     539200.0"
      ]
     },
     "execution_count": 148,
     "metadata": {},
     "output_type": "execute_result"
    }
   ],
   "source": [
    "bch.head()"
   ]
  },
  {
   "cell_type": "code",
   "execution_count": 149,
   "id": "narrow-square",
   "metadata": {},
   "outputs": [],
   "source": [
    "sc = MinMaxScaler()\n",
    "training_data = sc.fit_transform(bch[['trade_price']])"
   ]
  },
  {
   "cell_type": "code",
   "execution_count": 150,
   "id": "racial-importance",
   "metadata": {},
   "outputs": [],
   "source": [
    "def sliding_windows(data, seq_length):\n",
    "    x = []\n",
    "    y = []\n",
    "    \n",
    "    for i in range(len(data) - seq_length - 1):\n",
    "        _x = data[i: (i + seq_length)]\n",
    "        _y = data[i + seq_length]\n",
    "        x.append(_x)\n",
    "        y.append(_y)\n",
    "    return np.array(x), np.array(y)"
   ]
  },
  {
   "cell_type": "code",
   "execution_count": 151,
   "id": "liquid-classification",
   "metadata": {},
   "outputs": [],
   "source": [
    "seq_length = 4\n",
    "x, y = sliding_windows(training_data, seq_length)"
   ]
  },
  {
   "cell_type": "code",
   "execution_count": 152,
   "id": "desirable-market",
   "metadata": {},
   "outputs": [],
   "source": [
    "class LSTM(nn.Module):\n",
    "    def __init__(self, num_classes, input_size, hidden_size, num_layers):\n",
    "        super(LSTM, self).__init__()\n",
    "        self.num_classes = num_classes\n",
    "        self.num_layers = num_layers\n",
    "        self.input_size = input_size\n",
    "        self.hidden_size = hidden_size\n",
    "        self.seq_length = seq_length\n",
    "        \n",
    "        self.lstm = nn.LSTM(input_size = input_size, hidden_size = hidden_size,\n",
    "                            num_layers = num_layers, batch_first = True)\n",
    "        \n",
    "        self.fc = nn.Linear(hidden_size , num_classes)\n",
    "        \n",
    "    def forward(self, x):\n",
    "        h_0 = Variable(torch.zeros(self.num_layers, x.size(0), self.hidden_size))\n",
    "        c_0 = Variable(torch.zeros(self.num_layers, x.size(0), self.hidden_size))\n",
    "        \n",
    "        # Propagate input through LSTM\n",
    "        ula, (h_out, _) = self.lstm(x, (h_0, c_0))\n",
    "        h_out = h_out.view(-1, self.hidden_size)\n",
    "        \n",
    "        out = self.fc(h_out)\n",
    "        \n",
    "        return out"
   ]
  },
  {
   "cell_type": "code",
   "execution_count": 153,
   "id": "adopted-effort",
   "metadata": {},
   "outputs": [],
   "source": [
    "num_epochs = 2000\n",
    "learning_rate = .01\n",
    "\n",
    "input_size = 1\n",
    "hidden_size = 2\n",
    "num_layers = 1\n",
    "num_classes = 1\n",
    "\n",
    "lstm = LSTM(num_classes, input_size, hidden_size, num_layers)\n",
    "\n",
    "criterion = torch.nn.MSELoss() # mean-squared error for regression\n",
    "optimizer = torch.optim.Adam(lstm.parameters(), lr = learning_rate)"
   ]
  },
  {
   "cell_type": "code",
   "execution_count": 154,
   "id": "bulgarian-shore",
   "metadata": {},
   "outputs": [],
   "source": [
    "x_train, x_test, y_train, y_test = train_test_split(x, y, test_size=0.2, random_state=0, shuffle=False)"
   ]
  },
  {
   "cell_type": "code",
   "execution_count": 155,
   "id": "acute-portuguese",
   "metadata": {},
   "outputs": [],
   "source": [
    "x_train_tensor = torch.Tensor(y_train)"
   ]
  },
  {
   "cell_type": "code",
   "execution_count": 156,
   "id": "parallel-advantage",
   "metadata": {},
   "outputs": [],
   "source": [
    "train_ds = TensorDataset(torch.Tensor(x_train), torch.Tensor(y_train))\n",
    "train_dl = DataLoader(train_ds, batch_size = 32)"
   ]
  },
  {
   "cell_type": "code",
   "execution_count": 157,
   "id": "extraordinary-specification",
   "metadata": {},
   "outputs": [],
   "source": [
    "test_ds = TensorDataset(torch.Tensor(x_test), torch.Tensor(y_test))\n",
    "test_dl = DataLoader(test_ds, batch_size = 32)"
   ]
  },
  {
   "cell_type": "code",
   "execution_count": 158,
   "id": "massive-anxiety",
   "metadata": {},
   "outputs": [
    {
     "name": "stdout",
     "output_type": "stream",
     "text": [
      "Epoch: 0, loss: 0.09897954016923904\n",
      "Epoch: 100, loss: 0.0009218803606927395\n",
      "Epoch: 200, loss: 0.0009115186403505504\n",
      "Epoch: 300, loss: 0.0010188283631578088\n",
      "Epoch: 400, loss: 0.0009069231455214322\n",
      "Epoch: 500, loss: 0.0008913275087252259\n",
      "Epoch: 600, loss: 0.0008966972236521542\n",
      "Epoch: 700, loss: 0.000912538671400398\n",
      "Epoch: 800, loss: 0.0009702222305350006\n",
      "Epoch: 900, loss: 0.0010880223708227277\n",
      "Epoch: 1000, loss: 0.0011929140891879797\n",
      "Epoch: 1100, loss: 0.0009527279180474579\n",
      "Epoch: 1200, loss: 0.001210624584928155\n",
      "Epoch: 1300, loss: 0.0009369081235490739\n",
      "Epoch: 1400, loss: 0.0013961464865133166\n",
      "Epoch: 1500, loss: 0.0008522030548192561\n",
      "Epoch: 1600, loss: 0.0013718085829168558\n",
      "Epoch: 1700, loss: 0.0010155942291021347\n",
      "Epoch: 1800, loss: 0.0009585010120645165\n",
      "Epoch: 1900, loss: 0.0013118069618940353\n"
     ]
    }
   ],
   "source": [
    "for epoch in range(num_epochs):\n",
    "    for xb, yb in train_dl:\n",
    "        outputs = lstm(xb)\n",
    "        optimizer.zero_grad()\n",
    "        loss = criterion(outputs, yb)\n",
    "        loss.backward()\n",
    "        optimizer.step()\n",
    "        \n",
    "    if epoch % 100 == 0:\n",
    "        print(f'Epoch: {epoch}, loss: {loss.item()}')"
   ]
  },
  {
   "cell_type": "code",
   "execution_count": 159,
   "id": "surrounded-march",
   "metadata": {},
   "outputs": [],
   "source": [
    "lstm.eval()\n",
    "pred = []\n",
    "for xb, yb in test_dl:\n",
    "    train_predict = lstm(xb)\n",
    "    pred.extend(train_predict.data.numpy().squeeze())"
   ]
  },
  {
   "cell_type": "code",
   "execution_count": 160,
   "id": "greek-citizenship",
   "metadata": {},
   "outputs": [
    {
     "data": {
      "text/plain": [
       "(143, 1)"
      ]
     },
     "execution_count": 160,
     "metadata": {},
     "output_type": "execute_result"
    }
   ],
   "source": [
    "np.expand_dims(pred, axis = 1).shape"
   ]
  },
  {
   "cell_type": "markdown",
   "id": "rising-volunteer",
   "metadata": {},
   "source": [
    "## Plot Results"
   ]
  },
  {
   "cell_type": "code",
   "execution_count": 161,
   "id": "grave-crystal",
   "metadata": {},
   "outputs": [
    {
     "data": {
      "text/plain": [
       "(572, 1)"
      ]
     },
     "execution_count": 161,
     "metadata": {},
     "output_type": "execute_result"
    }
   ],
   "source": [
    "y_train.shape"
   ]
  },
  {
   "cell_type": "code",
   "execution_count": 162,
   "id": "complimentary-punch",
   "metadata": {},
   "outputs": [
    {
     "data": {
      "text/plain": [
       "(143, 1)"
      ]
     },
     "execution_count": 162,
     "metadata": {},
     "output_type": "execute_result"
    }
   ],
   "source": [
    "np.expand_dims(pred, axis = 1).shape"
   ]
  },
  {
   "cell_type": "code",
   "execution_count": 163,
   "id": "broken-mayor",
   "metadata": {},
   "outputs": [],
   "source": [
    "predicted_for_plot = sc.inverse_transform(np.concatenate((y_train, np.expand_dims(pred, axis = 1))))\n",
    "actual_for_plot = sc.inverse_transform(np.concatenate((y_train, y_test)))"
   ]
  },
  {
   "cell_type": "code",
   "execution_count": 164,
   "id": "hazardous-alert",
   "metadata": {},
   "outputs": [
    {
     "data": {
      "text/plain": [
       "(715, 1)"
      ]
     },
     "execution_count": 164,
     "metadata": {},
     "output_type": "execute_result"
    }
   ],
   "source": [
    "predicted_for_plot.shape"
   ]
  },
  {
   "cell_type": "code",
   "execution_count": 165,
   "id": "registered-simulation",
   "metadata": {},
   "outputs": [
    {
     "data": {
      "text/plain": [
       "(715, 1)"
      ]
     },
     "execution_count": 165,
     "metadata": {},
     "output_type": "execute_result"
    }
   ],
   "source": [
    "actual_for_plot.shape"
   ]
  },
  {
   "cell_type": "code",
   "execution_count": 170,
   "id": "needed-sharing",
   "metadata": {},
   "outputs": [
    {
     "data": {
      "image/png": "[encoded data removed]",
      "text/plain": [
       "<Figure size 432x288 with 1 Axes>"
      ]
     },
     "metadata": {
      "needs_background": "light"
     },
     "output_type": "display_data"
    }
   ],
   "source": [
    "plt.plot(predicted_for_plot[300:])\n",
    "plt.plot(actual_for_plot[300:])\n",
    "plt.suptitle('Timeseries Prediction')\n",
    "plt.axvline(x = y_train.shape[0] - 300, c = 'r', linestyle = '--')\n",
    "plt.show()"
   ]
  },
  {
   "cell_type": "code",
   "execution_count": null,
   "id": "abstract-scotland",
   "metadata": {},
   "outputs": [],
   "source": []
  }
 ],
 "metadata": {
  "kernelspec": {
   "display_name": "ImageProcesss",
   "language": "python",
   "name": "image_crawler"
  },
  "language_info": {
   "codemirror_mode": {
    "name": "ipython",
    "version": 3
   },
   "file_extension": ".py",
   "mimetype": "text/x-python",
   "name": "python",
   "nbconvert_exporter": "python",
   "pygments_lexer": "ipython3",
   "version": "3.8.3"
  }
 },
 "nbformat": 4,
 "nbformat_minor": 5
}
