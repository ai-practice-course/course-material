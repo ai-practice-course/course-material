{
 "cells": [
  {
   "cell_type": "code",
   "execution_count": 118,
   "id": "occupied-regard",
   "metadata": {},
   "outputs": [],
   "source": [
    "import pandas as pd\n",
    "import numpy as np\n",
    "import matplotlib.pyplot as plt\n",
    "import seaborn as sns\n",
    "import warnings\n",
    "import os\n",
    "\n",
    "import pickle\n",
    "\n",
    "from sklearn.preprocessing import MinMaxScaler\n",
    "from sklearn.model_selection import train_test_split\n",
    "\n",
    "import tensorflow as tf\n",
    "\n",
    "%matplotlib inline\n",
    "warnings.filterwarnings('ignore')\n",
    "\n",
    "plt.rcParams['font.family'] = 'NanumGothic'"
   ]
  },
  {
   "cell_type": "code",
   "execution_count": 119,
   "id": "retained-pointer",
   "metadata": {},
   "outputs": [],
   "source": [
    "def smape(a, f):\n",
    "    return 1/len(a) * np.sum(2 * np.abs(f-a) / (np.abs(a) + np.abs(f))*100)\n",
    "\n",
    "def windowed_dataset(series, window_size, batch_size, shuffle):\n",
    "    ds = tf.data.Dataset.from_tensor_slices(series)\n",
    "    ds = ds.window(window_size + 1, shift=1, drop_remainder=True)\n",
    "    ds = ds.flat_map(lambda w: w.batch(window_size + 1))\n",
    "    if shuffle:\n",
    "        ds = ds.shuffle(1000)\n",
    "    ds = ds.map(lambda w: (w[:-1], w[-1][2]))\n",
    "    return ds.batch(batch_size).prefetch(1)"
   ]
  },
  {
   "cell_type": "code",
   "execution_count": 120,
   "id": "brutal-password",
   "metadata": {},
   "outputs": [],
   "source": [
    "with open('../data/crypto_currency.pickle', 'rb') as f:\n",
    "    data = pickle.load(f)"
   ]
  },
  {
   "cell_type": "code",
   "execution_count": 121,
   "id": "accepted-audit",
   "metadata": {},
   "outputs": [
    {
     "data": {
      "text/plain": [
       "['KRW-BTT', 'KRW-XEC', 'KRW-IQ']"
      ]
     },
     "execution_count": 121,
     "metadata": {},
     "output_type": "execute_result"
    }
   ],
   "source": [
    "list(data.keys())[:3]"
   ]
  },
  {
   "cell_type": "code",
   "execution_count": 122,
   "id": "ordinary-configuration",
   "metadata": {},
   "outputs": [],
   "source": [
    "btt = data['KRW-BTT']"
   ]
  },
  {
   "cell_type": "code",
   "execution_count": 123,
   "id": "apart-offer",
   "metadata": {},
   "outputs": [],
   "source": [
    "btt.set_index('candle_date_time_kst', inplace = True)"
   ]
  },
  {
   "cell_type": "code",
   "execution_count": null,
   "id": "administrative-focus",
   "metadata": {},
   "outputs": [
    {
     "data": {
      "text/plain": [
       "Text(0, 0.5, 'price')"
      ]
     },
     "execution_count": 124,
     "metadata": {},
     "output_type": "execute_result"
    }
   ],
   "source": [
    "plt.figure(figsize=(16, 9))\n",
    "sns.lineplot(y=btt['trade_price'], x=btt.index)\n",
    "plt.xlabel('candle_date_time_kst')\n",
    "plt.ylabel('price')"
   ]
  },
  {
   "cell_type": "code",
   "execution_count": null,
   "id": "sublime-survival",
   "metadata": {},
   "outputs": [],
   "source": [
    "WINDOW_SIZE = 20\n",
    "BATCH_SIZE = 32"
   ]
  },
  {
   "cell_type": "code",
   "execution_count": null,
   "id": "everyday-zealand",
   "metadata": {},
   "outputs": [],
   "source": [
    "scaler = MinMaxScaler()\n",
    "scale_cols = ['change_rate', 'candle_acc_trade_volume', 'trade_price']\n",
    "scaled = scaler.fit_transform(btt[scale_cols])"
   ]
  },
  {
   "cell_type": "code",
   "execution_count": null,
   "id": "electronic-arkansas",
   "metadata": {},
   "outputs": [],
   "source": [
    "df = pd.DataFrame(scaled, columns = scale_cols)"
   ]
  },
  {
   "cell_type": "code",
   "execution_count": null,
   "id": "fallen-spelling",
   "metadata": {},
   "outputs": [],
   "source": [
    "train_size = .8\n",
    "n_train = int(np.floor(df.shape[0] * train_size))"
   ]
  },
  {
   "cell_type": "code",
   "execution_count": null,
   "id": "preceding-syria",
   "metadata": {},
   "outputs": [],
   "source": [
    "train = scaled[:n_train]\n",
    "test = scaled[n_train - WINDOW_SIZE:]"
   ]
  },
  {
   "cell_type": "code",
   "execution_count": null,
   "id": "yellow-merchandise",
   "metadata": {},
   "outputs": [],
   "source": [
    "# trian_data는 학습용 데이터셋, test_data는 검증용 데이터셋 입니다.\n",
    "train_data = windowed_dataset(train, WINDOW_SIZE, BATCH_SIZE, True)\n",
    "test_data = windowed_dataset(test, WINDOW_SIZE, BATCH_SIZE, False)"
   ]
  },
  {
   "cell_type": "code",
   "execution_count": null,
   "id": "earned-television",
   "metadata": {},
   "outputs": [],
   "source": [
    "ds = ds.window(WINDOW_SIZE + 1, shift=1, drop_remainder=True)"
   ]
  },
  {
   "cell_type": "code",
   "execution_count": null,
   "id": "successful-religious",
   "metadata": {},
   "outputs": [],
   "source": [
    "ds = ds.flat_map(lambda w: w.batch(WINDOW_SIZE + 1))"
   ]
  },
  {
   "cell_type": "code",
   "execution_count": null,
   "id": "appointed-swedish",
   "metadata": {},
   "outputs": [],
   "source": [
    "from tensorflow.keras.models import Sequential\n",
    "from tensorflow.keras.layers import Dense, LSTM, Conv1D, Lambda\n",
    "from tensorflow.keras.losses import Huber\n",
    "from tensorflow.keras.optimizers import Adam\n",
    "from tensorflow.keras.callbacks import EarlyStopping, ModelCheckpoint\n",
    "\n",
    "model = Sequential(\n",
    "    [\n",
    "        Conv1D(filters = 32, \n",
    "               kernel_size = 5, \n",
    "               padding = 'causal', \n",
    "               activation = 'relu', \n",
    "               input_shape = [WINDOW_SIZE, 3]\n",
    "        ),\n",
    "        LSTM(16, activation = 'tanh'),\n",
    "        Dense(1)\n",
    "    ]\n",
    ")"
   ]
  },
  {
   "cell_type": "code",
   "execution_count": null,
   "id": "liked-philosophy",
   "metadata": {},
   "outputs": [],
   "source": [
    "model.summary()"
   ]
  },
  {
   "cell_type": "code",
   "execution_count": null,
   "id": "still-metadata",
   "metadata": {},
   "outputs": [],
   "source": [
    "# Sequence 학습에 비교적 좋은 퍼포먼스를 내는 Huber()를 사용합니다.\n",
    "loss = Huber()\n",
    "optimizer = Adam(0.0005)\n",
    "model.compile(loss=Huber(), optimizer=optimizer, metrics=['mse'])"
   ]
  },
  {
   "cell_type": "code",
   "execution_count": null,
   "id": "durable-journalist",
   "metadata": {},
   "outputs": [],
   "source": [
    "# earlystopping은 10번 epoch통안 val_loss 개선이 없다면 학습을 멈춥니다.\n",
    "earlystopping = EarlyStopping(monitor='val_loss', patience=10)\n",
    "# val_loss 기준 체크포인터도 생성합니다.\n",
    "filename = os.path.join('tmp', 'btt_with_volume_ckeckpointer.ckpt')\n",
    "checkpoint = ModelCheckpoint(filename, \n",
    "                             save_weights_only=True, \n",
    "                             save_best_only=True, \n",
    "                             monitor='val_loss', \n",
    "                             verbose=1)"
   ]
  },
  {
   "cell_type": "code",
   "execution_count": null,
   "id": "dental-prevention",
   "metadata": {},
   "outputs": [],
   "source": [
    "history = model.fit(train_data, \n",
    "                    validation_data=(test_data), \n",
    "                    epochs=50, \n",
    "                    callbacks=[checkpoint, ]) # earlystopping"
   ]
  },
  {
   "cell_type": "code",
   "execution_count": null,
   "id": "measured-ranking",
   "metadata": {},
   "outputs": [],
   "source": [
    "pred = model.predict(test_data)"
   ]
  },
  {
   "cell_type": "code",
   "execution_count": null,
   "id": "fifty-maker",
   "metadata": {},
   "outputs": [],
   "source": [
    "pred.shape"
   ]
  },
  {
   "cell_type": "markdown",
   "id": "bizarre-domestic",
   "metadata": {},
   "source": [
    "## Plot list"
   ]
  },
  {
   "cell_type": "code",
   "execution_count": null,
   "id": "powered-martin",
   "metadata": {},
   "outputs": [],
   "source": [
    "pred_plot = np.concatenate((test[WINDOW_SIZE:,0:2], pred), axis = 1)\n",
    "pred_plot = np.concatenate((train, pred_plot), axis = 0)\n",
    "pred_plot = scaler.inverse_transform(pred_plot)[:, 2]\n",
    "# 원래 데이터를 그대로 사용\n",
    "actual_plot = scaler.inverse_transform(np.concatenate((train, test[WINDOW_SIZE:, :]), axis = 0))[:, 2]"
   ]
  },
  {
   "cell_type": "code",
   "execution_count": null,
   "id": "massive-albert",
   "metadata": {},
   "outputs": [],
   "source": [
    "actual_plot.shape"
   ]
  },
  {
   "cell_type": "code",
   "execution_count": null,
   "id": "joined-import",
   "metadata": {},
   "outputs": [],
   "source": [
    "plt.figure(figsize=(12, 9))\n",
    "plt.plot(pred_plot, label='prediction')\n",
    "plt.plot(actual_plot, label='actual')\n",
    "plt.axvline(x = train.shape[0], c = 'r', linestyle = '--')\n",
    "plt.suptitle('Timeseries Prediction')\n",
    "plt.legend()\n",
    "plt.show()"
   ]
  },
  {
   "cell_type": "code",
   "execution_count": null,
   "id": "absent-gilbert",
   "metadata": {},
   "outputs": [],
   "source": [
    "print(f'sMAPE = {smape(actual_plot[train.shape[0]:], pred_plot[train.shape[0]:])}')"
   ]
  },
  {
   "cell_type": "code",
   "execution_count": null,
   "id": "coated-operations",
   "metadata": {},
   "outputs": [],
   "source": [
    "import pickle \n",
    "\n",
    "with open('../data/crypto_currency_oot.pickle', 'rb') as f:\n",
    "    oot_data = pickle.load(f)"
   ]
  },
  {
   "cell_type": "code",
   "execution_count": null,
   "id": "harmful-kazakhstan",
   "metadata": {},
   "outputs": [],
   "source": [
    "oot_btt = oot_data['KRW-BTT']"
   ]
  },
  {
   "cell_type": "code",
   "execution_count": null,
   "id": "cooperative-indiana",
   "metadata": {},
   "outputs": [],
   "source": [
    "oot_scaled = scaler.transform(oot_btt[scale_cols])\n",
    "oot_scaled = np.concatenate((test[-WINDOW_SIZE:, :], oot_scaled), axis = 0)"
   ]
  },
  {
   "cell_type": "code",
   "execution_count": null,
   "id": "different-integer",
   "metadata": {},
   "outputs": [],
   "source": [
    "type(oot_scaled)"
   ]
  },
  {
   "cell_type": "code",
   "execution_count": null,
   "id": "requested-animal",
   "metadata": {},
   "outputs": [],
   "source": [
    "oot_test_data = windowed_dataset(oot_scaled, WINDOW_SIZE, BATCH_SIZE, False)"
   ]
  },
  {
   "cell_type": "code",
   "execution_count": null,
   "id": "conservative-charger",
   "metadata": {},
   "outputs": [],
   "source": [
    "oot_pred = model.predict(oot_test_data)"
   ]
  },
  {
   "cell_type": "code",
   "execution_count": null,
   "id": "stuffed-prospect",
   "metadata": {},
   "outputs": [],
   "source": [
    "oot_pred.shape"
   ]
  },
  {
   "cell_type": "code",
   "execution_count": null,
   "id": "english-potter",
   "metadata": {},
   "outputs": [],
   "source": [
    "# oot pred 데이터 만들기\n",
    "oot_pred_plot = np.concatenate((oot_scaled[WINDOW_SIZE:,0:2], oot_pred), axis = 1)\n",
    "# pred 데이터 만들기\n",
    "pred_plot = np.concatenate((test[WINDOW_SIZE:,0:2], pred), axis = 1)\n",
    "# 모두 합해서 역변환하기\n",
    "oot_pred_plot = scaler.inverse_transform(np.concatenate((train, pred_plot, oot_pred_plot)))[:, 2]\n",
    "# Actual 데이터 만들기\n",
    "oot_actual_plot = scaler.inverse_transform(np.concatenate((train, test[WINDOW_SIZE:, :], oot_scaled[WINDOW_SIZE:, :])))[:, 2]"
   ]
  },
  {
   "cell_type": "code",
   "execution_count": null,
   "id": "fuzzy-morocco",
   "metadata": {},
   "outputs": [],
   "source": [
    "oot_pred_plot.shape"
   ]
  },
  {
   "cell_type": "code",
   "execution_count": null,
   "id": "potential-india",
   "metadata": {},
   "outputs": [],
   "source": [
    "plt.figure(figsize=(12, 9))\n",
    "plt.plot(oot_pred_plot, label='prediction')\n",
    "plt.plot(oot_actual_plot, label='actual')\n",
    "plt.axvline(x = train.shape[0], c = 'r', linestyle = '--')\n",
    "plt.axvline(x = train.shape[0] + test.shape[0], c = 'b', linestyle = '--')\n",
    "plt.suptitle('Timeseries Prediction')\n",
    "plt.legend()\n",
    "plt.show()"
   ]
  },
  {
   "cell_type": "code",
   "execution_count": null,
   "id": "temporal-stack",
   "metadata": {},
   "outputs": [],
   "source": [
    "print(f'sMAPE = {smape(oot_actual_plot[train.shape[0] + test.shape[0]:], oot_pred_plot[train.shape[0] + test.shape[0]:])}')"
   ]
  },
  {
   "cell_type": "code",
   "execution_count": null,
   "id": "changing-trial",
   "metadata": {},
   "outputs": [],
   "source": []
  }
 ],
 "metadata": {
  "kernelspec": {
   "display_name": "Python 3",
   "language": "python",
   "name": "python3"
  },
  "language_info": {
   "codemirror_mode": {
    "name": "ipython",
    "version": 3
   },
   "file_extension": ".py",
   "mimetype": "text/x-python",
   "name": "python",
   "nbconvert_exporter": "python",
   "pygments_lexer": "ipython3",
   "version": "3.8.3"
  }
 },
 "nbformat": 4,
 "nbformat_minor": 5
}
