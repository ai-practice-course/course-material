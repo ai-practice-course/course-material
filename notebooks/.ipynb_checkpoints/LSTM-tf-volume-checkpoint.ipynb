{
 "cells": [
  {
   "cell_type": "code",
   "execution_count": 1,
   "id": "beneficial-tiffany",
   "metadata": {},
   "outputs": [],
   "source": [
    "import pandas as pd\n",
    "import numpy as np\n",
    "import matplotlib.pyplot as plt\n",
    "import seaborn as sns\n",
    "import warnings\n",
    "import os\n",
    "\n",
    "import pickle\n",
    "\n",
    "from sklearn.preprocessing import MinMaxScaler\n",
    "from sklearn.model_selection import train_test_split\n",
    "\n",
    "import tensorflow as tf\n",
    "\n",
    "%matplotlib inline\n",
    "warnings.filterwarnings('ignore')\n",
    "\n",
    "plt.rcParams['font.family'] = 'NanumGothic'"
   ]
  },
  {
   "cell_type": "code",
   "execution_count": 2,
   "id": "portuguese-package",
   "metadata": {},
   "outputs": [],
   "source": [
    "def smape(a, f):\n",
    "    return 1/len(a) * np.sum(2 * np.abs(f-a) / (np.abs(a) + np.abs(f))*100)\n",
    "\n",
    "\n",
    "def windowed_dataset(series, window_size, batch_size, shuffle):\n",
    "    ds = tf.data.Dataset.from_tensor_slices(series)\n",
    "    ds = ds.window(window_size + 1, shift=1, drop_remainder=True)\n",
    "    ds = ds.flat_map(lambda w: w.batch(window_size + 1))\n",
    "    if shuffle:\n",
    "        ds = ds.shuffle(1000)\n",
    "    ds = ds.map(lambda w: (w[:-1], w[-1][2]))\n",
    "    return ds.batch(batch_size).prefetch(1)"
   ]
  },
  {
   "cell_type": "code",
   "execution_count": 3,
   "id": "alleged-ridge",
   "metadata": {},
   "outputs": [],
   "source": [
    "with open('../data/crypto_currency.pickle', 'rb') as f:\n",
    "    data = pickle.load(f)"
   ]
  },
  {
   "cell_type": "code",
   "execution_count": 4,
   "id": "brutal-tuition",
   "metadata": {},
   "outputs": [],
   "source": [
    "btt = data['KRW-BTT']"
   ]
  },
  {
   "cell_type": "code",
   "execution_count": 5,
   "id": "sustainable-procedure",
   "metadata": {},
   "outputs": [
    {
     "data": {
      "text/html": [
       "<div>\n",
       "<style scoped>\n",
       "    .dataframe tbody tr th:only-of-type {\n",
       "        vertical-align: middle;\n",
       "    }\n",
       "\n",
       "    .dataframe tbody tr th {\n",
       "        vertical-align: top;\n",
       "    }\n",
       "\n",
       "    .dataframe thead th {\n",
       "        text-align: right;\n",
       "    }\n",
       "</style>\n",
       "<table border=\"1\" class=\"dataframe\">\n",
       "  <thead>\n",
       "    <tr style=\"text-align: right;\">\n",
       "      <th></th>\n",
       "      <th>market</th>\n",
       "      <th>candle_date_time_utc</th>\n",
       "      <th>candle_date_time_kst</th>\n",
       "      <th>opening_price</th>\n",
       "      <th>high_price</th>\n",
       "      <th>low_price</th>\n",
       "      <th>trade_price</th>\n",
       "      <th>timestamp</th>\n",
       "      <th>candle_acc_trade_price</th>\n",
       "      <th>candle_acc_trade_volume</th>\n",
       "      <th>prev_closing_price</th>\n",
       "      <th>change_price</th>\n",
       "      <th>change_rate</th>\n",
       "      <th>MA5</th>\n",
       "      <th>MA20</th>\n",
       "      <th>MA60</th>\n",
       "    </tr>\n",
       "  </thead>\n",
       "  <tbody>\n",
       "    <tr>\n",
       "      <th>4</th>\n",
       "      <td>KRW-BTT</td>\n",
       "      <td>2022-02-24T00:00:00</td>\n",
       "      <td>2022-02-24T09:00:00</td>\n",
       "      <td>0.0023</td>\n",
       "      <td>0.0024</td>\n",
       "      <td>0.0021</td>\n",
       "      <td>0.0023</td>\n",
       "      <td>1645747198314</td>\n",
       "      <td>1.862725e+10</td>\n",
       "      <td>8.399094e+12</td>\n",
       "      <td>0.0023</td>\n",
       "      <td>NaN</td>\n",
       "      <td>0.000000</td>\n",
       "      <td>0.00234</td>\n",
       "      <td>0.002580</td>\n",
       "      <td>0.002811</td>\n",
       "    </tr>\n",
       "    <tr>\n",
       "      <th>3</th>\n",
       "      <td>KRW-BTT</td>\n",
       "      <td>2022-02-25T00:00:00</td>\n",
       "      <td>2022-02-25T09:00:00</td>\n",
       "      <td>0.0023</td>\n",
       "      <td>0.0024</td>\n",
       "      <td>0.0022</td>\n",
       "      <td>0.0023</td>\n",
       "      <td>1645833598450</td>\n",
       "      <td>1.471682e+10</td>\n",
       "      <td>6.413362e+12</td>\n",
       "      <td>0.0023</td>\n",
       "      <td>NaN</td>\n",
       "      <td>0.000000</td>\n",
       "      <td>0.00232</td>\n",
       "      <td>0.002555</td>\n",
       "      <td>0.002792</td>\n",
       "    </tr>\n",
       "    <tr>\n",
       "      <th>2</th>\n",
       "      <td>KRW-BTT</td>\n",
       "      <td>2022-02-26T00:00:00</td>\n",
       "      <td>2022-02-26T09:00:00</td>\n",
       "      <td>0.0023</td>\n",
       "      <td>0.0024</td>\n",
       "      <td>0.0023</td>\n",
       "      <td>0.0023</td>\n",
       "      <td>1645919999557</td>\n",
       "      <td>6.547601e+09</td>\n",
       "      <td>2.754282e+12</td>\n",
       "      <td>0.0023</td>\n",
       "      <td>NaN</td>\n",
       "      <td>0.000000</td>\n",
       "      <td>0.00230</td>\n",
       "      <td>0.002530</td>\n",
       "      <td>0.002777</td>\n",
       "    </tr>\n",
       "    <tr>\n",
       "      <th>1</th>\n",
       "      <td>KRW-BTT</td>\n",
       "      <td>2022-02-27T00:00:00</td>\n",
       "      <td>2022-02-27T09:00:00</td>\n",
       "      <td>0.0023</td>\n",
       "      <td>0.0024</td>\n",
       "      <td>0.0022</td>\n",
       "      <td>0.0023</td>\n",
       "      <td>1646006399489</td>\n",
       "      <td>6.989035e+09</td>\n",
       "      <td>3.029290e+12</td>\n",
       "      <td>0.0023</td>\n",
       "      <td>NaN</td>\n",
       "      <td>0.000000</td>\n",
       "      <td>0.00230</td>\n",
       "      <td>0.002500</td>\n",
       "      <td>0.002760</td>\n",
       "    </tr>\n",
       "    <tr>\n",
       "      <th>0</th>\n",
       "      <td>KRW-BTT</td>\n",
       "      <td>2022-02-28T00:00:00</td>\n",
       "      <td>2022-02-28T09:00:00</td>\n",
       "      <td>0.0023</td>\n",
       "      <td>0.0025</td>\n",
       "      <td>0.0022</td>\n",
       "      <td>0.0025</td>\n",
       "      <td>1646092799469</td>\n",
       "      <td>1.149322e+10</td>\n",
       "      <td>4.915564e+12</td>\n",
       "      <td>0.0023</td>\n",
       "      <td>0.0002</td>\n",
       "      <td>0.086957</td>\n",
       "      <td>0.00234</td>\n",
       "      <td>0.002485</td>\n",
       "      <td>0.002745</td>\n",
       "    </tr>\n",
       "  </tbody>\n",
       "</table>\n",
       "</div>"
      ],
      "text/plain": [
       "    market candle_date_time_utc candle_date_time_kst  opening_price  \\\n",
       "4  KRW-BTT  2022-02-24T00:00:00  2022-02-24T09:00:00         0.0023   \n",
       "3  KRW-BTT  2022-02-25T00:00:00  2022-02-25T09:00:00         0.0023   \n",
       "2  KRW-BTT  2022-02-26T00:00:00  2022-02-26T09:00:00         0.0023   \n",
       "1  KRW-BTT  2022-02-27T00:00:00  2022-02-27T09:00:00         0.0023   \n",
       "0  KRW-BTT  2022-02-28T00:00:00  2022-02-28T09:00:00         0.0023   \n",
       "\n",
       "   high_price  low_price  trade_price      timestamp  candle_acc_trade_price  \\\n",
       "4      0.0024     0.0021       0.0023  1645747198314            1.862725e+10   \n",
       "3      0.0024     0.0022       0.0023  1645833598450            1.471682e+10   \n",
       "2      0.0024     0.0023       0.0023  1645919999557            6.547601e+09   \n",
       "1      0.0024     0.0022       0.0023  1646006399489            6.989035e+09   \n",
       "0      0.0025     0.0022       0.0025  1646092799469            1.149322e+10   \n",
       "\n",
       "   candle_acc_trade_volume  prev_closing_price  change_price  change_rate  \\\n",
       "4             8.399094e+12              0.0023           NaN     0.000000   \n",
       "3             6.413362e+12              0.0023           NaN     0.000000   \n",
       "2             2.754282e+12              0.0023           NaN     0.000000   \n",
       "1             3.029290e+12              0.0023           NaN     0.000000   \n",
       "0             4.915564e+12              0.0023        0.0002     0.086957   \n",
       "\n",
       "       MA5      MA20      MA60  \n",
       "4  0.00234  0.002580  0.002811  \n",
       "3  0.00232  0.002555  0.002792  \n",
       "2  0.00230  0.002530  0.002777  \n",
       "1  0.00230  0.002500  0.002760  \n",
       "0  0.00234  0.002485  0.002745  "
      ]
     },
     "execution_count": 5,
     "metadata": {},
     "output_type": "execute_result"
    }
   ],
   "source": [
    "btt.tail()"
   ]
  },
  {
   "cell_type": "code",
   "execution_count": 6,
   "id": "sitting-haiti",
   "metadata": {},
   "outputs": [],
   "source": [
    "btt.set_index('candle_date_time_kst', inplace = True)"
   ]
  },
  {
   "cell_type": "code",
   "execution_count": 7,
   "id": "modified-validation",
   "metadata": {},
   "outputs": [
    {
     "data": {
      "text/plain": [
       "Text(0, 0.5, 'price')"
      ]
     },
     "execution_count": 7,
     "metadata": {},
     "output_type": "execute_result"
    },
    {
     "data": {
      "image/png": "[encoded data removed]",
      "text/plain": [
       "<Figure size 1152x648 with 1 Axes>"
      ]
     },
     "metadata": {
      "needs_background": "light"
     },
     "output_type": "display_data"
    }
   ],
   "source": [
    "plt.figure(figsize=(16, 9))\n",
    "sns.lineplot(y=btt['trade_price'], x=btt.index)\n",
    "plt.xlabel('candle_date_time_kst')\n",
    "plt.ylabel('price')"
   ]
  },
  {
   "cell_type": "code",
   "execution_count": 8,
   "id": "floral-failure",
   "metadata": {},
   "outputs": [],
   "source": [
    "WINDOW_SIZE=20\n",
    "BATCH_SIZE=32"
   ]
  },
  {
   "cell_type": "code",
   "execution_count": 9,
   "id": "standing-emission",
   "metadata": {},
   "outputs": [],
   "source": [
    "scaler = MinMaxScaler()\n",
    "# 스케일을 적용할 column을 정의합니다.\n",
    "scale_cols = ['change_rate', 'candle_acc_trade_volume', 'trade_price']\n",
    "# scale_cols = ['trade_price']\n",
    "# 스케일 후 columns\n",
    "scaled = scaler.fit_transform(btt[scale_cols])"
   ]
  },
  {
   "cell_type": "code",
   "execution_count": 10,
   "id": "headed-dragon",
   "metadata": {},
   "outputs": [],
   "source": [
    "df = pd.DataFrame(scaled, columns=scale_cols)"
   ]
  },
  {
   "cell_type": "code",
   "execution_count": 11,
   "id": "senior-livestock",
   "metadata": {},
   "outputs": [],
   "source": [
    "train_size = .8\n",
    "n_train = int(np.floor(scaled.shape[0] * train_size))\n",
    "train = scaled[: n_train]\n",
    "test = scaled[n_train - WINDOW_SIZE:]"
   ]
  },
  {
   "cell_type": "code",
   "execution_count": 12,
   "id": "insured-young",
   "metadata": {},
   "outputs": [],
   "source": [
    "# trian_data는 학습용 데이터셋, test_data는 검증용 데이터셋 입니다.\n",
    "train_data = windowed_dataset(train, WINDOW_SIZE, BATCH_SIZE, True)\n",
    "test_data = windowed_dataset(test, WINDOW_SIZE, BATCH_SIZE, False)"
   ]
  },
  {
   "cell_type": "code",
   "execution_count": 13,
   "id": "relative-saskatchewan",
   "metadata": {},
   "outputs": [],
   "source": [
    "from tensorflow.keras.models import Sequential\n",
    "from tensorflow.keras.layers import Dense, LSTM, Conv1D, Lambda\n",
    "from tensorflow.keras.losses import Huber\n",
    "from tensorflow.keras.optimizers import Adam\n",
    "from tensorflow.keras.callbacks import EarlyStopping, ModelCheckpoint\n",
    "\n",
    "\n",
    "model = Sequential([\n",
    "    # 1차원 feature map 생성\n",
    "    Conv1D(filters=64, kernel_size= 6,\n",
    "           padding=\"causal\",\n",
    "           activation=\"relu\",\n",
    "           input_shape=[WINDOW_SIZE, 3]),\n",
    "    # LSTM\n",
    "    LSTM(16, activation='tanh'),\n",
    "    Dense(16, activation=\"relu\"),\n",
    "    Dense(1),\n",
    "])"
   ]
  },
  {
   "cell_type": "code",
   "execution_count": 14,
   "id": "virtual-rainbow",
   "metadata": {},
   "outputs": [],
   "source": [
    "# Sequence 학습에 비교적 좋은 퍼포먼스를 내는 Huber()를 사용합니다.\n",
    "loss = Huber()\n",
    "optimizer = Adam(0.0005)\n",
    "model.compile(loss=Huber(), optimizer=optimizer, metrics=['mse'])"
   ]
  },
  {
   "cell_type": "code",
   "execution_count": 15,
   "id": "consolidated-hawaiian",
   "metadata": {},
   "outputs": [
    {
     "name": "stdout",
     "output_type": "stream",
     "text": [
      "Model: \"sequential\"\n",
      "_________________________________________________________________\n",
      " Layer (type)                Output Shape              Param #   \n",
      "=================================================================\n",
      " conv1d (Conv1D)             (None, 20, 64)            1216      \n",
      "                                                                 \n",
      " lstm (LSTM)                 (None, 16)                5184      \n",
      "                                                                 \n",
      " dense (Dense)               (None, 16)                272       \n",
      "                                                                 \n",
      " dense_1 (Dense)             (None, 1)                 17        \n",
      "                                                                 \n",
      "=================================================================\n",
      "Total params: 6,689\n",
      "Trainable params: 6,689\n",
      "Non-trainable params: 0\n",
      "_________________________________________________________________\n"
     ]
    }
   ],
   "source": [
    "model.summary()"
   ]
  },
  {
   "cell_type": "code",
   "execution_count": 16,
   "id": "devoted-zealand",
   "metadata": {},
   "outputs": [],
   "source": [
    "# earlystopping은 10번 epoch통안 val_loss 개선이 없다면 학습을 멈춥니다.\n",
    "earlystopping = EarlyStopping(monitor='val_loss', patience=10)\n",
    "# val_loss 기준 체크포인터도 생성합니다.\n",
    "filename = os.path.join('tmp', 'btt_with_volume_ckeckpointer.ckpt')\n",
    "checkpoint = ModelCheckpoint(filename, \n",
    "                             save_weights_only=True, \n",
    "                             save_best_only=True, \n",
    "                             monitor='val_loss', \n",
    "                             verbose=1)"
   ]
  },
  {
   "cell_type": "code",
   "execution_count": 17,
   "id": "unnecessary-penny",
   "metadata": {},
   "outputs": [
    {
     "name": "stdout",
     "output_type": "stream",
     "text": [
      "Epoch 1/50\n",
      "     26/Unknown - 3s 11ms/step - loss: 0.0043 - mse: 0.0086\n",
      "Epoch 1: val_loss improved from inf to 0.00064, saving model to tmp/btt_with_volume_ckeckpointer.ckpt\n",
      "28/28 [==============================] - 4s 61ms/step - loss: 0.0041 - mse: 0.0082 - val_loss: 6.4107e-04 - val_mse: 0.0013\n",
      "Epoch 2/50\n",
      "25/28 [=========================>....] - ETA: 0s - loss: 8.7205e-04 - mse: 0.0017\n",
      "Epoch 2: val_loss did not improve from 0.00064\n",
      "28/28 [==============================] - 1s 15ms/step - loss: 9.7605e-04 - mse: 0.0020 - val_loss: 8.9888e-04 - val_mse: 0.0018\n",
      "Epoch 3/50\n",
      "25/28 [=========================>....] - ETA: 0s - loss: 6.6922e-04 - mse: 0.0013\n",
      "Epoch 3: val_loss did not improve from 0.00064\n",
      "28/28 [==============================] - 1s 16ms/step - loss: 7.4754e-04 - mse: 0.0015 - val_loss: 8.7427e-04 - val_mse: 0.0017\n",
      "Epoch 4/50\n",
      "26/28 [==========================>...] - ETA: 0s - loss: 5.7206e-04 - mse: 0.0011\n",
      "Epoch 4: val_loss did not improve from 0.00064\n",
      "28/28 [==============================] - 1s 15ms/step - loss: 6.1819e-04 - mse: 0.0012 - val_loss: 0.0014 - val_mse: 0.0028\n",
      "Epoch 5/50\n",
      "24/28 [========================>.....] - ETA: 0s - loss: 6.5400e-04 - mse: 0.0013\n",
      "Epoch 5: val_loss did not improve from 0.00064\n",
      "28/28 [==============================] - 1s 15ms/step - loss: 5.8866e-04 - mse: 0.0012 - val_loss: 8.5820e-04 - val_mse: 0.0017\n",
      "Epoch 6/50\n",
      "26/28 [==========================>...] - ETA: 0s - loss: 5.0731e-04 - mse: 0.0010  \n",
      "Epoch 6: val_loss did not improve from 0.00064\n",
      "28/28 [==============================] - 0s 15ms/step - loss: 4.9382e-04 - mse: 9.8764e-04 - val_loss: 0.0013 - val_mse: 0.0026\n",
      "Epoch 7/50\n",
      "26/28 [==========================>...] - ETA: 0s - loss: 3.8402e-04 - mse: 7.6804e-04\n",
      "Epoch 7: val_loss did not improve from 0.00064\n",
      "28/28 [==============================] - 0s 15ms/step - loss: 3.8984e-04 - mse: 7.7968e-04 - val_loss: 0.0011 - val_mse: 0.0022\n",
      "Epoch 8/50\n",
      "26/28 [==========================>...] - ETA: 0s - loss: 3.2913e-04 - mse: 6.5826e-04\n",
      "Epoch 8: val_loss did not improve from 0.00064\n",
      "28/28 [==============================] - 0s 15ms/step - loss: 3.1973e-04 - mse: 6.3946e-04 - val_loss: 7.7902e-04 - val_mse: 0.0016\n",
      "Epoch 9/50\n",
      "26/28 [==========================>...] - ETA: 0s - loss: 3.2146e-04 - mse: 6.4292e-04\n",
      "Epoch 9: val_loss improved from 0.00064 to 0.00051, saving model to tmp/btt_with_volume_ckeckpointer.ckpt\n",
      "28/28 [==============================] - 1s 16ms/step - loss: 3.0705e-04 - mse: 6.1411e-04 - val_loss: 5.0895e-04 - val_mse: 0.0010\n",
      "Epoch 10/50\n",
      "26/28 [==========================>...] - ETA: 0s - loss: 3.3973e-04 - mse: 6.7946e-04\n",
      "Epoch 10: val_loss did not improve from 0.00051\n",
      "28/28 [==============================] - 1s 15ms/step - loss: 3.2335e-04 - mse: 6.4669e-04 - val_loss: 5.3612e-04 - val_mse: 0.0011\n",
      "Epoch 11/50\n",
      "25/28 [=========================>....] - ETA: 0s - loss: 2.0156e-04 - mse: 4.0312e-04\n",
      "Epoch 11: val_loss did not improve from 0.00051\n",
      "28/28 [==============================] - 0s 15ms/step - loss: 2.6530e-04 - mse: 5.3060e-04 - val_loss: 7.8603e-04 - val_mse: 0.0016\n",
      "Epoch 12/50\n",
      "25/28 [=========================>....] - ETA: 0s - loss: 2.9033e-04 - mse: 5.8066e-04\n",
      "Epoch 12: val_loss did not improve from 0.00051\n",
      "28/28 [==============================] - 1s 15ms/step - loss: 2.7727e-04 - mse: 5.5454e-04 - val_loss: 6.0832e-04 - val_mse: 0.0012\n",
      "Epoch 13/50\n",
      "26/28 [==========================>...] - ETA: 0s - loss: 2.2292e-04 - mse: 4.4585e-04\n",
      "Epoch 13: val_loss did not improve from 0.00051\n",
      "28/28 [==============================] - 0s 15ms/step - loss: 2.5257e-04 - mse: 5.0515e-04 - val_loss: 9.6391e-04 - val_mse: 0.0019\n",
      "Epoch 14/50\n",
      "27/28 [===========================>..] - ETA: 0s - loss: 2.4174e-04 - mse: 4.8347e-04\n",
      "Epoch 14: val_loss did not improve from 0.00051\n",
      "28/28 [==============================] - 1s 15ms/step - loss: 2.4089e-04 - mse: 4.8179e-04 - val_loss: 6.3941e-04 - val_mse: 0.0013\n",
      "Epoch 15/50\n",
      "26/28 [==========================>...] - ETA: 0s - loss: 2.3372e-04 - mse: 4.6745e-04\n",
      "Epoch 15: val_loss did not improve from 0.00051\n",
      "28/28 [==============================] - 1s 15ms/step - loss: 2.2698e-04 - mse: 4.5396e-04 - val_loss: 7.6162e-04 - val_mse: 0.0015\n",
      "Epoch 16/50\n",
      "24/28 [========================>.....] - ETA: 0s - loss: 2.2969e-04 - mse: 4.5938e-04\n",
      "Epoch 16: val_loss did not improve from 0.00051\n",
      "28/28 [==============================] - 1s 16ms/step - loss: 2.1877e-04 - mse: 4.3755e-04 - val_loss: 5.8514e-04 - val_mse: 0.0012\n",
      "Epoch 17/50\n",
      "24/28 [========================>.....] - ETA: 0s - loss: 2.2162e-04 - mse: 4.4323e-04\n",
      "Epoch 17: val_loss did not improve from 0.00051\n",
      "28/28 [==============================] - 0s 15ms/step - loss: 2.3761e-04 - mse: 4.7522e-04 - val_loss: 9.6425e-04 - val_mse: 0.0019\n",
      "Epoch 18/50\n",
      "25/28 [=========================>....] - ETA: 0s - loss: 2.4595e-04 - mse: 4.9190e-04\n",
      "Epoch 18: val_loss did not improve from 0.00051\n",
      "28/28 [==============================] - 1s 15ms/step - loss: 2.3866e-04 - mse: 4.7731e-04 - val_loss: 0.0010 - val_mse: 0.0020\n",
      "Epoch 19/50\n",
      "26/28 [==========================>...] - ETA: 0s - loss: 2.8584e-04 - mse: 5.7168e-04\n",
      "Epoch 19: val_loss did not improve from 0.00051\n",
      "28/28 [==============================] - 1s 15ms/step - loss: 2.7651e-04 - mse: 5.5302e-04 - val_loss: 5.1403e-04 - val_mse: 0.0010\n",
      "Epoch 20/50\n",
      "25/28 [=========================>....] - ETA: 0s - loss: 2.2501e-04 - mse: 4.5002e-04\n",
      "Epoch 20: val_loss did not improve from 0.00051\n",
      "28/28 [==============================] - 1s 16ms/step - loss: 2.1315e-04 - mse: 4.2631e-04 - val_loss: 6.0630e-04 - val_mse: 0.0012\n",
      "Epoch 21/50\n",
      "24/28 [========================>.....] - ETA: 0s - loss: 1.9989e-04 - mse: 3.9979e-04\n",
      "Epoch 21: val_loss improved from 0.00051 to 0.00049, saving model to tmp/btt_with_volume_ckeckpointer.ckpt\n",
      "28/28 [==============================] - 1s 16ms/step - loss: 2.5781e-04 - mse: 5.1562e-04 - val_loss: 4.9262e-04 - val_mse: 9.8524e-04\n",
      "Epoch 22/50\n",
      "24/28 [========================>.....] - ETA: 0s - loss: 2.2610e-04 - mse: 4.5220e-04\n",
      "Epoch 22: val_loss did not improve from 0.00049\n",
      "28/28 [==============================] - 1s 15ms/step - loss: 2.1036e-04 - mse: 4.2072e-04 - val_loss: 8.0022e-04 - val_mse: 0.0016\n",
      "Epoch 23/50\n",
      "26/28 [==========================>...] - ETA: 0s - loss: 2.4546e-04 - mse: 4.9091e-04\n",
      "Epoch 23: val_loss did not improve from 0.00049\n",
      "28/28 [==============================] - 1s 15ms/step - loss: 2.3583e-04 - mse: 4.7165e-04 - val_loss: 9.1820e-04 - val_mse: 0.0018\n",
      "Epoch 24/50\n",
      "25/28 [=========================>....] - ETA: 0s - loss: 2.4134e-04 - mse: 4.8268e-04\n",
      "Epoch 24: val_loss did not improve from 0.00049\n",
      "28/28 [==============================] - 1s 15ms/step - loss: 2.3163e-04 - mse: 4.6326e-04 - val_loss: 8.8351e-04 - val_mse: 0.0018\n",
      "Epoch 25/50\n",
      "25/28 [=========================>....] - ETA: 0s - loss: 1.9616e-04 - mse: 3.9232e-04\n",
      "Epoch 25: val_loss did not improve from 0.00049\n",
      "28/28 [==============================] - 1s 15ms/step - loss: 1.9568e-04 - mse: 3.9136e-04 - val_loss: 0.0010 - val_mse: 0.0020\n",
      "Epoch 26/50\n",
      "26/28 [==========================>...] - ETA: 0s - loss: 2.3159e-04 - mse: 4.6318e-04\n",
      "Epoch 26: val_loss improved from 0.00049 to 0.00046, saving model to tmp/btt_with_volume_ckeckpointer.ckpt\n",
      "28/28 [==============================] - 1s 16ms/step - loss: 2.2246e-04 - mse: 4.4493e-04 - val_loss: 4.6344e-04 - val_mse: 9.2687e-04\n",
      "Epoch 27/50\n",
      "26/28 [==========================>...] - ETA: 0s - loss: 2.3600e-04 - mse: 4.7199e-04\n",
      "Epoch 27: val_loss did not improve from 0.00046\n",
      "28/28 [==============================] - 1s 15ms/step - loss: 2.3361e-04 - mse: 4.6721e-04 - val_loss: 7.6567e-04 - val_mse: 0.0015\n",
      "Epoch 28/50\n",
      "26/28 [==========================>...] - ETA: 0s - loss: 1.7538e-04 - mse: 3.5077e-04\n",
      "Epoch 28: val_loss did not improve from 0.00046\n",
      "28/28 [==============================] - 1s 15ms/step - loss: 1.7197e-04 - mse: 3.4393e-04 - val_loss: 0.0016 - val_mse: 0.0032\n",
      "Epoch 29/50\n",
      "24/28 [========================>.....] - ETA: 0s - loss: 2.4737e-04 - mse: 4.9474e-04\n",
      "Epoch 29: val_loss did not improve from 0.00046\n",
      "28/28 [==============================] - 1s 15ms/step - loss: 2.3574e-04 - mse: 4.7148e-04 - val_loss: 8.3369e-04 - val_mse: 0.0017\n",
      "Epoch 30/50\n",
      "25/28 [=========================>....] - ETA: 0s - loss: 2.3270e-04 - mse: 4.6541e-04\n",
      "Epoch 30: val_loss did not improve from 0.00046\n",
      "28/28 [==============================] - 0s 15ms/step - loss: 2.3508e-04 - mse: 4.7017e-04 - val_loss: 6.3038e-04 - val_mse: 0.0013\n",
      "Epoch 31/50\n",
      "26/28 [==========================>...] - ETA: 0s - loss: 1.7111e-04 - mse: 3.4222e-04\n",
      "Epoch 31: val_loss did not improve from 0.00046\n",
      "28/28 [==============================] - 1s 15ms/step - loss: 1.7550e-04 - mse: 3.5101e-04 - val_loss: 4.7016e-04 - val_mse: 9.4031e-04\n",
      "Epoch 32/50\n",
      "25/28 [=========================>....] - ETA: 0s - loss: 2.3267e-04 - mse: 4.6533e-04\n",
      "Epoch 32: val_loss did not improve from 0.00046\n",
      "28/28 [==============================] - 0s 14ms/step - loss: 2.2572e-04 - mse: 4.5144e-04 - val_loss: 4.6441e-04 - val_mse: 9.2882e-04\n",
      "Epoch 33/50\n",
      "24/28 [========================>.....] - ETA: 0s - loss: 1.7604e-04 - mse: 3.5207e-04\n",
      "Epoch 33: val_loss did not improve from 0.00046\n",
      "28/28 [==============================] - 1s 15ms/step - loss: 1.6350e-04 - mse: 3.2700e-04 - val_loss: 4.9724e-04 - val_mse: 9.9448e-04\n",
      "Epoch 34/50\n",
      "25/28 [=========================>....] - ETA: 0s - loss: 1.8686e-04 - mse: 3.7372e-04\n",
      "Epoch 34: val_loss did not improve from 0.00046\n",
      "28/28 [==============================] - 1s 15ms/step - loss: 1.7419e-04 - mse: 3.4838e-04 - val_loss: 7.3119e-04 - val_mse: 0.0015\n",
      "Epoch 35/50\n",
      "26/28 [==========================>...] - ETA: 0s - loss: 1.7915e-04 - mse: 3.5829e-04\n",
      "Epoch 35: val_loss did not improve from 0.00046\n",
      "28/28 [==============================] - 1s 15ms/step - loss: 1.7296e-04 - mse: 3.4593e-04 - val_loss: 0.0010 - val_mse: 0.0021\n",
      "Epoch 36/50\n",
      "24/28 [========================>.....] - ETA: 0s - loss: 1.5051e-04 - mse: 3.0103e-04\n",
      "Epoch 36: val_loss did not improve from 0.00046\n",
      "28/28 [==============================] - 1s 16ms/step - loss: 1.6996e-04 - mse: 3.3991e-04 - val_loss: 0.0010 - val_mse: 0.0020\n",
      "Epoch 37/50\n",
      "25/28 [=========================>....] - ETA: 0s - loss: 1.7350e-04 - mse: 3.4700e-04\n",
      "Epoch 37: val_loss did not improve from 0.00046\n",
      "28/28 [==============================] - 1s 15ms/step - loss: 1.6188e-04 - mse: 3.2377e-04 - val_loss: 8.3946e-04 - val_mse: 0.0017\n",
      "Epoch 38/50\n",
      "26/28 [==========================>...] - ETA: 0s - loss: 1.7631e-04 - mse: 3.5263e-04\n",
      "Epoch 38: val_loss did not improve from 0.00046\n",
      "28/28 [==============================] - 1s 15ms/step - loss: 1.7076e-04 - mse: 3.4153e-04 - val_loss: 6.5381e-04 - val_mse: 0.0013\n",
      "Epoch 39/50\n",
      "26/28 [==========================>...] - ETA: 0s - loss: 1.7931e-04 - mse: 3.5862e-04\n",
      "Epoch 39: val_loss did not improve from 0.00046\n",
      "28/28 [==============================] - 0s 15ms/step - loss: 1.7194e-04 - mse: 3.4388e-04 - val_loss: 9.6683e-04 - val_mse: 0.0019\n",
      "Epoch 40/50\n",
      "26/28 [==========================>...] - ETA: 0s - loss: 1.8656e-04 - mse: 3.7311e-04\n",
      "Epoch 40: val_loss did not improve from 0.00046\n",
      "28/28 [==============================] - 1s 16ms/step - loss: 1.7869e-04 - mse: 3.5739e-04 - val_loss: 8.1883e-04 - val_mse: 0.0016\n",
      "Epoch 41/50\n",
      "26/28 [==========================>...] - ETA: 0s - loss: 1.6170e-04 - mse: 3.2341e-04\n",
      "Epoch 41: val_loss did not improve from 0.00046\n",
      "28/28 [==============================] - 0s 15ms/step - loss: 1.6265e-04 - mse: 3.2529e-04 - val_loss: 0.0010 - val_mse: 0.0021\n",
      "Epoch 42/50\n",
      "26/28 [==========================>...] - ETA: 0s - loss: 1.6320e-04 - mse: 3.2641e-04\n",
      "Epoch 42: val_loss did not improve from 0.00046\n",
      "28/28 [==============================] - 1s 16ms/step - loss: 1.5980e-04 - mse: 3.1959e-04 - val_loss: 6.0009e-04 - val_mse: 0.0012\n",
      "Epoch 43/50\n",
      "26/28 [==========================>...] - ETA: 0s - loss: 1.8735e-04 - mse: 3.7470e-04\n",
      "Epoch 43: val_loss did not improve from 0.00046\n",
      "28/28 [==============================] - 1s 15ms/step - loss: 1.8449e-04 - mse: 3.6898e-04 - val_loss: 0.0012 - val_mse: 0.0025\n",
      "Epoch 44/50\n",
      "26/28 [==========================>...] - ETA: 0s - loss: 1.7860e-04 - mse: 3.5720e-04\n",
      "Epoch 44: val_loss did not improve from 0.00046\n",
      "28/28 [==============================] - 0s 15ms/step - loss: 1.7520e-04 - mse: 3.5040e-04 - val_loss: 6.7729e-04 - val_mse: 0.0014\n",
      "Epoch 45/50\n",
      "25/28 [=========================>....] - ETA: 0s - loss: 1.6517e-04 - mse: 3.3034e-04\n",
      "Epoch 45: val_loss did not improve from 0.00046\n",
      "28/28 [==============================] - 1s 15ms/step - loss: 1.7455e-04 - mse: 3.4910e-04 - val_loss: 9.2382e-04 - val_mse: 0.0018\n",
      "Epoch 46/50\n",
      "25/28 [=========================>....] - ETA: 0s - loss: 1.0436e-04 - mse: 2.0872e-04\n",
      "Epoch 46: val_loss did not improve from 0.00046\n",
      "28/28 [==============================] - 1s 15ms/step - loss: 1.5982e-04 - mse: 3.1964e-04 - val_loss: 6.5513e-04 - val_mse: 0.0013\n",
      "Epoch 47/50\n",
      "26/28 [==========================>...] - ETA: 0s - loss: 1.4641e-04 - mse: 2.9281e-04\n",
      "Epoch 47: val_loss did not improve from 0.00046\n",
      "28/28 [==============================] - 1s 15ms/step - loss: 1.5718e-04 - mse: 3.1436e-04 - val_loss: 5.1025e-04 - val_mse: 0.0010\n",
      "Epoch 48/50\n",
      "26/28 [==========================>...] - ETA: 0s - loss: 1.4688e-04 - mse: 2.9376e-04\n",
      "Epoch 48: val_loss did not improve from 0.00046\n",
      "28/28 [==============================] - 0s 14ms/step - loss: 1.4640e-04 - mse: 2.9281e-04 - val_loss: 5.9483e-04 - val_mse: 0.0012\n",
      "Epoch 49/50\n",
      "26/28 [==========================>...] - ETA: 0s - loss: 1.7066e-04 - mse: 3.4131e-04\n",
      "Epoch 49: val_loss did not improve from 0.00046\n",
      "28/28 [==============================] - 1s 15ms/step - loss: 1.7025e-04 - mse: 3.4049e-04 - val_loss: 0.0013 - val_mse: 0.0026\n",
      "Epoch 50/50\n",
      "26/28 [==========================>...] - ETA: 0s - loss: 1.6195e-04 - mse: 3.2389e-04\n",
      "Epoch 50: val_loss did not improve from 0.00046\n",
      "28/28 [==============================] - 0s 15ms/step - loss: 1.5989e-04 - mse: 3.1978e-04 - val_loss: 8.2526e-04 - val_mse: 0.0017\n"
     ]
    }
   ],
   "source": [
    "history = model.fit(train_data, \n",
    "                    validation_data=(test_data), \n",
    "                    epochs=50, \n",
    "                    callbacks=[checkpoint, ]) # earlystopping"
   ]
  },
  {
   "cell_type": "code",
   "execution_count": 18,
   "id": "binary-politics",
   "metadata": {},
   "outputs": [
    {
     "data": {
      "text/plain": [
       "<tensorflow.python.training.tracking.util.CheckpointLoadStatus at 0x7fa4d7446a30>"
      ]
     },
     "execution_count": 18,
     "metadata": {},
     "output_type": "execute_result"
    }
   ],
   "source": [
    "model.load_weights(filename)"
   ]
  },
  {
   "cell_type": "code",
   "execution_count": 19,
   "id": "documented-stage",
   "metadata": {},
   "outputs": [],
   "source": [
    "pred = model.predict(test_data)"
   ]
  },
  {
   "cell_type": "code",
   "execution_count": 20,
   "id": "subtle-coral",
   "metadata": {},
   "outputs": [
    {
     "data": {
      "text/plain": [
       "(225, 1)"
      ]
     },
     "execution_count": 20,
     "metadata": {},
     "output_type": "execute_result"
    }
   ],
   "source": [
    "pred.shape"
   ]
  },
  {
   "cell_type": "markdown",
   "id": "ordered-assistant",
   "metadata": {},
   "source": [
    "## Plot result"
   ]
  },
  {
   "cell_type": "code",
   "execution_count": 21,
   "id": "mounted-constitution",
   "metadata": {},
   "outputs": [
    {
     "data": {
      "text/plain": [
       "(20, 1)"
      ]
     },
     "execution_count": 21,
     "metadata": {},
     "output_type": "execute_result"
    }
   ],
   "source": [
    "np.expand_dims(train[-WINDOW_SIZE:, 2], axis = -1).shape"
   ]
  },
  {
   "cell_type": "code",
   "execution_count": 22,
   "id": "generous-myrtle",
   "metadata": {},
   "outputs": [
    {
     "data": {
      "text/plain": [
       "(205, 1)"
      ]
     },
     "execution_count": 22,
     "metadata": {},
     "output_type": "execute_result"
    }
   ],
   "source": [
    "pred[WINDOW_SIZE:, : ].shape"
   ]
  },
  {
   "cell_type": "code",
   "execution_count": 23,
   "id": "freelance-point",
   "metadata": {},
   "outputs": [],
   "source": [
    "pred_plot = np.concatenate((test[WINDOW_SIZE:,0:2], pred), axis = 1)\n",
    "pred_plot = np.concatenate((train, pred_plot))\n",
    "pred_plot = scaler.inverse_transform(pred_plot)[:, 2]\n",
    "# 원래 데이터를 그대로 사용\n",
    "actual_plot = scaler.inverse_transform(np.concatenate((train, test[WINDOW_SIZE:, :])))[:, 2]"
   ]
  },
  {
   "cell_type": "code",
   "execution_count": 24,
   "id": "radical-brunei",
   "metadata": {},
   "outputs": [
    {
     "data": {
      "text/plain": [
       "(1125,)"
      ]
     },
     "execution_count": 24,
     "metadata": {},
     "output_type": "execute_result"
    }
   ],
   "source": [
    "pred_plot.shape"
   ]
  },
  {
   "cell_type": "code",
   "execution_count": 25,
   "id": "frozen-prospect",
   "metadata": {},
   "outputs": [
    {
     "name": "stdout",
     "output_type": "stream",
     "text": [
      "sMAPE = 7.746790451483269\n"
     ]
    }
   ],
   "source": [
    "print(f'sMAPE = {smape(actual_plot[train.shape[0]:], pred_plot[train.shape[0]:])}')"
   ]
  },
  {
   "cell_type": "code",
   "execution_count": 26,
   "id": "identical-sentence",
   "metadata": {},
   "outputs": [
    {
     "data": {
      "image/png": "[encoded data removed]",
      "text/plain": [
       "<Figure size 864x648 with 1 Axes>"
      ]
     },
     "metadata": {
      "needs_background": "light"
     },
     "output_type": "display_data"
    }
   ],
   "source": [
    "plt.figure(figsize=(12, 9))\n",
    "plt.plot(pred_plot, label='prediction')\n",
    "plt.plot(actual_plot, label='actual')\n",
    "plt.axvline(x = train.shape[0], c = 'r', linestyle = '--')\n",
    "plt.suptitle('Timeseries Prediction')\n",
    "plt.legend()\n",
    "plt.show()"
   ]
  },
  {
   "cell_type": "markdown",
   "id": "twelve-material",
   "metadata": {},
   "source": [
    "### OOT test"
   ]
  },
  {
   "cell_type": "code",
   "execution_count": 27,
   "id": "durable-preservation",
   "metadata": {},
   "outputs": [],
   "source": [
    "import pickle \n",
    "\n",
    "with open('../data/crypto_currency_oot.pickle', 'rb') as f:\n",
    "    oot_data = pickle.load(f)"
   ]
  },
  {
   "cell_type": "code",
   "execution_count": 28,
   "id": "hindu-avatar",
   "metadata": {},
   "outputs": [
    {
     "data": {
      "text/plain": [
       "candle_date_time_kst\n",
       "2022-02-24T09:00:00    0.0023\n",
       "2022-02-25T09:00:00    0.0023\n",
       "2022-02-26T09:00:00    0.0023\n",
       "2022-02-27T09:00:00    0.0023\n",
       "2022-02-28T09:00:00    0.0025\n",
       "Name: trade_price, dtype: float64"
      ]
     },
     "execution_count": 28,
     "metadata": {},
     "output_type": "execute_result"
    }
   ],
   "source": [
    "data['KRW-BTT'].tail()['trade_price']"
   ]
  },
  {
   "cell_type": "code",
   "execution_count": 29,
   "id": "continental-addition",
   "metadata": {},
   "outputs": [],
   "source": [
    "oot_btt = oot_data['KRW-BTT']\n",
    "oot_scaled = scaler. transform(oot_btt[scale_cols])\n",
    "oot_scaled = np.concatenate((test[-WINDOW_SIZE:, :], oot_scaled))"
   ]
  },
  {
   "cell_type": "code",
   "execution_count": 30,
   "id": "legal-protocol",
   "metadata": {},
   "outputs": [],
   "source": [
    "oot_test_data = windowed_dataset(oot_scaled, WINDOW_SIZE, BATCH_SIZE, False)\n"
   ]
  },
  {
   "cell_type": "code",
   "execution_count": 31,
   "id": "raised-bones",
   "metadata": {},
   "outputs": [],
   "source": [
    "oot_pred = model.predict(oot_test_data)"
   ]
  },
  {
   "cell_type": "code",
   "execution_count": 32,
   "id": "unavailable-legend",
   "metadata": {},
   "outputs": [
    {
     "data": {
      "text/plain": [
       "(60, 1)"
      ]
     },
     "execution_count": 32,
     "metadata": {},
     "output_type": "execute_result"
    }
   ],
   "source": [
    "np.concatenate((np.expand_dims(test[-WINDOW_SIZE:, 2], axis = -1), oot_pred)).shape"
   ]
  },
  {
   "cell_type": "code",
   "execution_count": 33,
   "id": "eight-philip",
   "metadata": {},
   "outputs": [
    {
     "data": {
      "text/plain": [
       "(60, 3)"
      ]
     },
     "execution_count": 33,
     "metadata": {},
     "output_type": "execute_result"
    }
   ],
   "source": [
    "np.concatenate((oot_scaled[:,0:2], np.concatenate((np.expand_dims(test[-WINDOW_SIZE:, 2], axis = -1), oot_pred))), axis = 1).shape"
   ]
  },
  {
   "cell_type": "code",
   "execution_count": 35,
   "id": "center-regression",
   "metadata": {},
   "outputs": [],
   "source": [
    "# oot pred 데이터 만들기\n",
    "oot_pred_plot = np.concatenate((oot_scaled[WINDOW_SIZE:,0:2], oot_pred), axis = 1)\n",
    "# pred 데이터 만들기\n",
    "pred_plot = np.concatenate((test[WINDOW_SIZE:,0:2], pred), axis = 1)\n",
    "# 모두 합해서 역변환하기\n",
    "oot_pred_plot = scaler.inverse_transform(np.concatenate((train, pred_plot, oot_pred_plot)))[:, 2]\n",
    "# Actual 데이터 만들기\n",
    "oot_actual_plot = scaler.inverse_transform(np.concatenate((train, test[WINDOW_SIZE:, :], oot_scaled[WINDOW_SIZE:, :])))[:, 2]"
   ]
  },
  {
   "cell_type": "code",
   "execution_count": 36,
   "id": "narrow-israel",
   "metadata": {},
   "outputs": [
    {
     "data": {
      "text/plain": [
       "(1165,)"
      ]
     },
     "execution_count": 36,
     "metadata": {},
     "output_type": "execute_result"
    }
   ],
   "source": [
    "oot_actual_plot.shape"
   ]
  },
  {
   "cell_type": "code",
   "execution_count": 37,
   "id": "armed-legislature",
   "metadata": {},
   "outputs": [
    {
     "data": {
      "image/png": "[encoded data removed]",
      "text/plain": [
       "<Figure size 864x648 with 1 Axes>"
      ]
     },
     "metadata": {
      "needs_background": "light"
     },
     "output_type": "display_data"
    }
   ],
   "source": [
    "plt.figure(figsize=(12, 9))\n",
    "plt.plot(oot_pred_plot, label='prediction')\n",
    "plt.plot(oot_actual_plot, label='actual')\n",
    "plt.axvline(x = train.shape[0], c = 'r', linestyle = '--')\n",
    "plt.axvline(x = train.shape[0] + test.shape[0], c = 'b', linestyle = '--')\n",
    "plt.suptitle('Timeseries Prediction')\n",
    "plt.legend()\n",
    "plt.show()"
   ]
  },
  {
   "cell_type": "code",
   "execution_count": 38,
   "id": "material-daughter",
   "metadata": {},
   "outputs": [
    {
     "name": "stdout",
     "output_type": "stream",
     "text": [
      "sMAPE = 4.2799567350836405\n"
     ]
    }
   ],
   "source": [
    "print(f'sMAPE = {smape(oot_actual_plot[train.shape[0] + test.shape[0]:], oot_pred_plot[train.shape[0] + test.shape[0]:])}')"
   ]
  },
  {
   "cell_type": "code",
   "execution_count": null,
   "id": "noted-pontiac",
   "metadata": {},
   "outputs": [],
   "source": []
  }
 ],
 "metadata": {
  "kernelspec": {
   "display_name": "ImageProcesss",
   "language": "python",
   "name": "image_crawler"
  },
  "language_info": {
   "codemirror_mode": {
    "name": "ipython",
    "version": 3
   },
   "file_extension": ".py",
   "mimetype": "text/x-python",
   "name": "python",
   "nbconvert_exporter": "python",
   "pygments_lexer": "ipython3",
   "version": "3.8.3"
  }
 },
 "nbformat": 4,
 "nbformat_minor": 5
}
