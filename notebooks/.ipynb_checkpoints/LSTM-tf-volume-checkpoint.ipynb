{
 "cells": [
  {
   "cell_type": "code",
   "execution_count": 1,
   "id": "empty-milton",
   "metadata": {},
   "outputs": [],
   "source": [
    "import pandas as pd\n",
    "import numpy as np\n",
    "import matplotlib.pyplot as plt\n",
    "import seaborn as sns\n",
    "import warnings\n",
    "import os\n",
    "\n",
    "import pickle\n",
    "\n",
    "from sklearn.preprocessing import MinMaxScaler\n",
    "from sklearn.model_selection import train_test_split\n",
    "\n",
    "import tensorflow as tf\n",
    "\n",
    "%matplotlib inline\n",
    "warnings.filterwarnings('ignore')\n",
    "\n",
    "plt.rcParams['font.family'] = 'NanumGothic'"
   ]
  },
  {
   "cell_type": "code",
   "execution_count": null,
   "id": "greater-arbor",
   "metadata": {},
   "outputs": [],
   "source": [
    "def smape(a, f):\n",
    "    return 1/len(a) * np.sum(2 * np.abs(f-a) / (np.abs(a) + np.abs(f))*100)\n",
    "\n",
    "\n",
    "def windowed_dataset(series, window_size, batch_size, shuffle):\n",
    "    ds = tf.data.Dataset.from_tensor_slices(series)\n",
    "    ds = ds.window(window_size + 1, shift=1, drop_remainder=True)\n",
    "    ds = ds.flat_map(lambda w: w.batch(window_size + 1))\n",
    "    if shuffle:\n",
    "        ds = ds.shuffle(1000)\n",
    "    ds = ds.map(lambda w: (w[:-1], w[-1][2]))\n",
    "    return ds.batch(batch_size).prefetch(1)"
   ]
  },
  {
   "cell_type": "code",
   "execution_count": 11,
   "id": "acoustic-mathematics",
   "metadata": {},
   "outputs": [],
   "source": [
    "with open('../data/crypto_currency.pickle', 'rb') as f:\n",
    "    data = pickle.load(f)"
   ]
  },
  {
   "cell_type": "code",
   "execution_count": 12,
   "id": "cutting-knock",
   "metadata": {},
   "outputs": [],
   "source": [
    "btt = data['KRW-BTT']"
   ]
  },
  {
   "cell_type": "code",
   "execution_count": 13,
   "id": "exposed-globe",
   "metadata": {},
   "outputs": [
    {
     "data": {
      "text/html": [
       "<div>\n",
       "<style scoped>\n",
       "    .dataframe tbody tr th:only-of-type {\n",
       "        vertical-align: middle;\n",
       "    }\n",
       "\n",
       "    .dataframe tbody tr th {\n",
       "        vertical-align: top;\n",
       "    }\n",
       "\n",
       "    .dataframe thead th {\n",
       "        text-align: right;\n",
       "    }\n",
       "</style>\n",
       "<table border=\"1\" class=\"dataframe\">\n",
       "  <thead>\n",
       "    <tr style=\"text-align: right;\">\n",
       "      <th></th>\n",
       "      <th>market</th>\n",
       "      <th>candle_date_time_utc</th>\n",
       "      <th>candle_date_time_kst</th>\n",
       "      <th>opening_price</th>\n",
       "      <th>high_price</th>\n",
       "      <th>low_price</th>\n",
       "      <th>trade_price</th>\n",
       "      <th>timestamp</th>\n",
       "      <th>candle_acc_trade_price</th>\n",
       "      <th>candle_acc_trade_volume</th>\n",
       "      <th>prev_closing_price</th>\n",
       "      <th>change_price</th>\n",
       "      <th>change_rate</th>\n",
       "      <th>MA5</th>\n",
       "      <th>MA20</th>\n",
       "      <th>MA60</th>\n",
       "    </tr>\n",
       "  </thead>\n",
       "  <tbody>\n",
       "    <tr>\n",
       "      <th>4</th>\n",
       "      <td>KRW-BTT</td>\n",
       "      <td>2022-02-24T00:00:00</td>\n",
       "      <td>2022-02-24T09:00:00</td>\n",
       "      <td>0.0023</td>\n",
       "      <td>0.0024</td>\n",
       "      <td>0.0021</td>\n",
       "      <td>0.0023</td>\n",
       "      <td>1645747198314</td>\n",
       "      <td>1.862725e+10</td>\n",
       "      <td>8.399094e+12</td>\n",
       "      <td>0.0023</td>\n",
       "      <td>NaN</td>\n",
       "      <td>0.000000</td>\n",
       "      <td>0.00234</td>\n",
       "      <td>0.002580</td>\n",
       "      <td>0.002811</td>\n",
       "    </tr>\n",
       "    <tr>\n",
       "      <th>3</th>\n",
       "      <td>KRW-BTT</td>\n",
       "      <td>2022-02-25T00:00:00</td>\n",
       "      <td>2022-02-25T09:00:00</td>\n",
       "      <td>0.0023</td>\n",
       "      <td>0.0024</td>\n",
       "      <td>0.0022</td>\n",
       "      <td>0.0023</td>\n",
       "      <td>1645833598450</td>\n",
       "      <td>1.471682e+10</td>\n",
       "      <td>6.413362e+12</td>\n",
       "      <td>0.0023</td>\n",
       "      <td>NaN</td>\n",
       "      <td>0.000000</td>\n",
       "      <td>0.00232</td>\n",
       "      <td>0.002555</td>\n",
       "      <td>0.002792</td>\n",
       "    </tr>\n",
       "    <tr>\n",
       "      <th>2</th>\n",
       "      <td>KRW-BTT</td>\n",
       "      <td>2022-02-26T00:00:00</td>\n",
       "      <td>2022-02-26T09:00:00</td>\n",
       "      <td>0.0023</td>\n",
       "      <td>0.0024</td>\n",
       "      <td>0.0023</td>\n",
       "      <td>0.0023</td>\n",
       "      <td>1645919999557</td>\n",
       "      <td>6.547601e+09</td>\n",
       "      <td>2.754282e+12</td>\n",
       "      <td>0.0023</td>\n",
       "      <td>NaN</td>\n",
       "      <td>0.000000</td>\n",
       "      <td>0.00230</td>\n",
       "      <td>0.002530</td>\n",
       "      <td>0.002777</td>\n",
       "    </tr>\n",
       "    <tr>\n",
       "      <th>1</th>\n",
       "      <td>KRW-BTT</td>\n",
       "      <td>2022-02-27T00:00:00</td>\n",
       "      <td>2022-02-27T09:00:00</td>\n",
       "      <td>0.0023</td>\n",
       "      <td>0.0024</td>\n",
       "      <td>0.0022</td>\n",
       "      <td>0.0023</td>\n",
       "      <td>1646006399489</td>\n",
       "      <td>6.989035e+09</td>\n",
       "      <td>3.029290e+12</td>\n",
       "      <td>0.0023</td>\n",
       "      <td>NaN</td>\n",
       "      <td>0.000000</td>\n",
       "      <td>0.00230</td>\n",
       "      <td>0.002500</td>\n",
       "      <td>0.002760</td>\n",
       "    </tr>\n",
       "    <tr>\n",
       "      <th>0</th>\n",
       "      <td>KRW-BTT</td>\n",
       "      <td>2022-02-28T00:00:00</td>\n",
       "      <td>2022-02-28T09:00:00</td>\n",
       "      <td>0.0023</td>\n",
       "      <td>0.0025</td>\n",
       "      <td>0.0022</td>\n",
       "      <td>0.0025</td>\n",
       "      <td>1646092799469</td>\n",
       "      <td>1.149322e+10</td>\n",
       "      <td>4.915564e+12</td>\n",
       "      <td>0.0023</td>\n",
       "      <td>0.0002</td>\n",
       "      <td>0.086957</td>\n",
       "      <td>0.00234</td>\n",
       "      <td>0.002485</td>\n",
       "      <td>0.002745</td>\n",
       "    </tr>\n",
       "  </tbody>\n",
       "</table>\n",
       "</div>"
      ],
      "text/plain": [
       "    market candle_date_time_utc candle_date_time_kst  opening_price  \\\n",
       "4  KRW-BTT  2022-02-24T00:00:00  2022-02-24T09:00:00         0.0023   \n",
       "3  KRW-BTT  2022-02-25T00:00:00  2022-02-25T09:00:00         0.0023   \n",
       "2  KRW-BTT  2022-02-26T00:00:00  2022-02-26T09:00:00         0.0023   \n",
       "1  KRW-BTT  2022-02-27T00:00:00  2022-02-27T09:00:00         0.0023   \n",
       "0  KRW-BTT  2022-02-28T00:00:00  2022-02-28T09:00:00         0.0023   \n",
       "\n",
       "   high_price  low_price  trade_price      timestamp  candle_acc_trade_price  \\\n",
       "4      0.0024     0.0021       0.0023  1645747198314            1.862725e+10   \n",
       "3      0.0024     0.0022       0.0023  1645833598450            1.471682e+10   \n",
       "2      0.0024     0.0023       0.0023  1645919999557            6.547601e+09   \n",
       "1      0.0024     0.0022       0.0023  1646006399489            6.989035e+09   \n",
       "0      0.0025     0.0022       0.0025  1646092799469            1.149322e+10   \n",
       "\n",
       "   candle_acc_trade_volume  prev_closing_price  change_price  change_rate  \\\n",
       "4             8.399094e+12              0.0023           NaN     0.000000   \n",
       "3             6.413362e+12              0.0023           NaN     0.000000   \n",
       "2             2.754282e+12              0.0023           NaN     0.000000   \n",
       "1             3.029290e+12              0.0023           NaN     0.000000   \n",
       "0             4.915564e+12              0.0023        0.0002     0.086957   \n",
       "\n",
       "       MA5      MA20      MA60  \n",
       "4  0.00234  0.002580  0.002811  \n",
       "3  0.00232  0.002555  0.002792  \n",
       "2  0.00230  0.002530  0.002777  \n",
       "1  0.00230  0.002500  0.002760  \n",
       "0  0.00234  0.002485  0.002745  "
      ]
     },
     "execution_count": 13,
     "metadata": {},
     "output_type": "execute_result"
    }
   ],
   "source": [
    "btt.tail()"
   ]
  },
  {
   "cell_type": "code",
   "execution_count": 14,
   "id": "preliminary-particle",
   "metadata": {},
   "outputs": [],
   "source": [
    "btt.set_index('candle_date_time_kst', inplace = True)"
   ]
  },
  {
   "cell_type": "code",
   "execution_count": 7,
   "id": "contemporary-calvin",
   "metadata": {},
   "outputs": [
    {
     "data": {
      "text/plain": [
       "Text(0, 0.5, 'price')"
      ]
     },
     "execution_count": 7,
     "metadata": {},
     "output_type": "execute_result"
    },
    {
     "data": {
      "image/png": "[encoded data removed]",
      "text/plain": [
       "<Figure size 1152x648 with 1 Axes>"
      ]
     },
     "metadata": {
      "needs_background": "light"
     },
     "output_type": "display_data"
    }
   ],
   "source": [
    "plt.figure(figsize=(16, 9))\n",
    "sns.lineplot(y=btt['trade_price'], x=btt.index)\n",
    "plt.xlabel('candle_date_time_kst')\n",
    "plt.ylabel('price')"
   ]
  },
  {
   "cell_type": "code",
   "execution_count": 15,
   "id": "direct-sport",
   "metadata": {},
   "outputs": [],
   "source": [
    "scaler = MinMaxScaler()\n",
    "# 스케일을 적용할 column을 정의합니다.\n",
    "scale_cols = ['change_rate', 'candle_acc_trade_volume', 'trade_price']\n",
    "# scale_cols = ['trade_price']\n",
    "# 스케일 후 columns\n",
    "scaled = scaler.fit_transform(btt[scale_cols])"
   ]
  },
  {
   "cell_type": "code",
   "execution_count": 149,
   "id": "mental-passing",
   "metadata": {},
   "outputs": [],
   "source": [
    "df = pd.DataFrame(scaled, columns=scale_cols)"
   ]
  },
  {
   "cell_type": "code",
   "execution_count": 150,
   "id": "prepared-photographer",
   "metadata": {},
   "outputs": [],
   "source": [
    "train_size = .8\n",
    "n_train = int(np.floor(scaled.shape[0] * train_size))\n",
    "train = scaled[: n_train]\n",
    "test = scaled[n_train - WINDOW_SIZE:]"
   ]
  },
  {
   "cell_type": "code",
   "execution_count": 152,
   "id": "proper-problem",
   "metadata": {},
   "outputs": [],
   "source": [
    "WINDOW_SIZE=20\n",
    "BATCH_SIZE=32"
   ]
  },
  {
   "cell_type": "code",
   "execution_count": 153,
   "id": "stylish-accident",
   "metadata": {},
   "outputs": [],
   "source": [
    "# trian_data는 학습용 데이터셋, test_data는 검증용 데이터셋 입니다.\n",
    "train_data = windowed_dataset(train, WINDOW_SIZE, BATCH_SIZE, True)\n",
    "test_data = windowed_dataset(test, WINDOW_SIZE, BATCH_SIZE, False)"
   ]
  },
  {
   "cell_type": "code",
   "execution_count": 261,
   "id": "friendly-andorra",
   "metadata": {},
   "outputs": [],
   "source": [
    "from tensorflow.keras.models import Sequential\n",
    "from tensorflow.keras.layers import Dense, LSTM, Conv1D, Lambda\n",
    "from tensorflow.keras.losses import Huber\n",
    "from tensorflow.keras.optimizers import Adam\n",
    "from tensorflow.keras.callbacks import EarlyStopping, ModelCheckpoint\n",
    "\n",
    "\n",
    "model = Sequential([\n",
    "    # 1차원 feature map 생성\n",
    "    Conv1D(filters=64, kernel_size=3,\n",
    "           padding=\"causal\",\n",
    "           activation=\"relu\",\n",
    "           input_shape=[WINDOW_SIZE, 3]),\n",
    "    # LSTM\n",
    "    LSTM(16, activation='tanh'),\n",
    "    Dense(16, activation=\"relu\"),\n",
    "    Dense(1),\n",
    "])"
   ]
  },
  {
   "cell_type": "code",
   "execution_count": 262,
   "id": "delayed-stranger",
   "metadata": {},
   "outputs": [],
   "source": [
    "# Sequence 학습에 비교적 좋은 퍼포먼스를 내는 Huber()를 사용합니다.\n",
    "loss = Huber()\n",
    "optimizer = Adam(0.0005)\n",
    "model.compile(loss=Huber(), optimizer=optimizer, metrics=['mse'])"
   ]
  },
  {
   "cell_type": "code",
   "execution_count": 263,
   "id": "critical-durham",
   "metadata": {},
   "outputs": [],
   "source": [
    "# earlystopping은 10번 epoch통안 val_loss 개선이 없다면 학습을 멈춥니다.\n",
    "earlystopping = EarlyStopping(monitor='val_loss', patience=10)\n",
    "# val_loss 기준 체크포인터도 생성합니다.\n",
    "filename = os.path.join('tmp', 'btt_with_volume_ckeckpointer.ckpt')\n",
    "checkpoint = ModelCheckpoint(filename, \n",
    "                             save_weights_only=True, \n",
    "                             save_best_only=True, \n",
    "                             monitor='val_loss', \n",
    "                             verbose=1)"
   ]
  },
  {
   "cell_type": "code",
   "execution_count": 264,
   "id": "superb-cabin",
   "metadata": {},
   "outputs": [
    {
     "name": "stdout",
     "output_type": "stream",
     "text": [
      "Epoch 1/50\n",
      "     12/Unknown - 2s 11ms/step - loss: 0.0446 - mse: 0.0892\n",
      "Epoch 1: val_loss improved from inf to 0.01853, saving model to tmp/btt_with_volume_ckeckpointer.ckpt\n",
      "15/15 [==============================] - 3s 57ms/step - loss: 0.0405 - mse: 0.0810 - val_loss: 0.0185 - val_mse: 0.0371\n",
      "Epoch 2/50\n",
      "11/15 [=====================>........] - ETA: 0s - loss: 0.0292 - mse: 0.0584\n",
      "Epoch 2: val_loss improved from 0.01853 to 0.00832, saving model to tmp/btt_with_volume_ckeckpointer.ckpt\n",
      "15/15 [==============================] - 0s 17ms/step - loss: 0.0273 - mse: 0.0545 - val_loss: 0.0083 - val_mse: 0.0166\n",
      "Epoch 3/50\n",
      "11/15 [=====================>........] - ETA: 0s - loss: 0.0186 - mse: 0.0372\n",
      "Epoch 3: val_loss improved from 0.00832 to 0.00187, saving model to tmp/btt_with_volume_ckeckpointer.ckpt\n",
      "15/15 [==============================] - 0s 18ms/step - loss: 0.0170 - mse: 0.0340 - val_loss: 0.0019 - val_mse: 0.0037\n",
      "Epoch 4/50\n",
      "11/15 [=====================>........] - ETA: 0s - loss: 0.0100 - mse: 0.0200\n",
      "Epoch 4: val_loss improved from 0.00187 to 0.00047, saving model to tmp/btt_with_volume_ckeckpointer.ckpt\n",
      "15/15 [==============================] - 0s 18ms/step - loss: 0.0092 - mse: 0.0183 - val_loss: 4.7100e-04 - val_mse: 9.4199e-04\n",
      "Epoch 5/50\n",
      "11/15 [=====================>........] - ETA: 0s - loss: 0.0050 - mse: 0.0099\n",
      "Epoch 5: val_loss improved from 0.00047 to 0.00035, saving model to tmp/btt_with_volume_ckeckpointer.ckpt\n",
      "15/15 [==============================] - 0s 18ms/step - loss: 0.0042 - mse: 0.0084 - val_loss: 3.5098e-04 - val_mse: 7.0196e-04\n",
      "Epoch 6/50\n",
      "11/15 [=====================>........] - ETA: 0s - loss: 0.0018 - mse: 0.0036\n",
      "Epoch 6: val_loss did not improve from 0.00035\n",
      "15/15 [==============================] - 0s 16ms/step - loss: 0.0018 - mse: 0.0036 - val_loss: 6.7311e-04 - val_mse: 0.0013\n",
      "Epoch 7/50\n",
      "12/15 [=======================>......] - ETA: 0s - loss: 0.0017 - mse: 0.0034\n",
      "Epoch 7: val_loss did not improve from 0.00035\n",
      "15/15 [==============================] - 0s 17ms/step - loss: 0.0016 - mse: 0.0031 - val_loss: 5.5152e-04 - val_mse: 0.0011\n",
      "Epoch 8/50\n",
      "11/15 [=====================>........] - ETA: 0s - loss: 0.0016 - mse: 0.0032\n",
      "Epoch 8: val_loss did not improve from 0.00035\n",
      "15/15 [==============================] - 0s 16ms/step - loss: 0.0014 - mse: 0.0028 - val_loss: 5.5657e-04 - val_mse: 0.0011\n",
      "Epoch 9/50\n",
      "11/15 [=====================>........] - ETA: 0s - loss: 0.0012 - mse: 0.0025   \n",
      "Epoch 9: val_loss did not improve from 0.00035\n",
      "15/15 [==============================] - 0s 16ms/step - loss: 0.0014 - mse: 0.0027 - val_loss: 5.7156e-04 - val_mse: 0.0011\n",
      "Epoch 10/50\n",
      "11/15 [=====================>........] - ETA: 0s - loss: 0.0013 - mse: 0.0027   \n",
      "Epoch 10: val_loss did not improve from 0.00035\n",
      "15/15 [==============================] - 0s 17ms/step - loss: 0.0013 - mse: 0.0026 - val_loss: 5.7424e-04 - val_mse: 0.0011\n",
      "Epoch 11/50\n",
      "11/15 [=====================>........] - ETA: 0s - loss: 0.0013 - mse: 0.0027   \n",
      "Epoch 11: val_loss did not improve from 0.00035\n",
      "15/15 [==============================] - 0s 17ms/step - loss: 0.0013 - mse: 0.0026 - val_loss: 5.5294e-04 - val_mse: 0.0011\n",
      "Epoch 12/50\n",
      "11/15 [=====================>........] - ETA: 0s - loss: 0.0011 - mse: 0.0022\n",
      "Epoch 12: val_loss did not improve from 0.00035\n",
      "15/15 [==============================] - 0s 17ms/step - loss: 0.0012 - mse: 0.0024 - val_loss: 5.4639e-04 - val_mse: 0.0011\n",
      "Epoch 13/50\n",
      "11/15 [=====================>........] - ETA: 0s - loss: 0.0010 - mse: 0.0020    \n",
      "Epoch 13: val_loss did not improve from 0.00035\n",
      "15/15 [==============================] - 0s 16ms/step - loss: 0.0012 - mse: 0.0024 - val_loss: 6.5532e-04 - val_mse: 0.0013\n",
      "Epoch 14/50\n",
      "11/15 [=====================>........] - ETA: 0s - loss: 7.7368e-04 - mse: 0.0015\n",
      "Epoch 14: val_loss did not improve from 0.00035\n",
      "15/15 [==============================] - 0s 16ms/step - loss: 0.0012 - mse: 0.0023 - val_loss: 5.3633e-04 - val_mse: 0.0011\n",
      "Epoch 15/50\n",
      "11/15 [=====================>........] - ETA: 0s - loss: 0.0013 - mse: 0.0026   \n",
      "Epoch 15: val_loss did not improve from 0.00035\n",
      "15/15 [==============================] - 0s 16ms/step - loss: 0.0011 - mse: 0.0022 - val_loss: 5.1722e-04 - val_mse: 0.0010\n",
      "Epoch 16/50\n",
      "11/15 [=====================>........] - ETA: 0s - loss: 0.0012 - mse: 0.0023       \n",
      "Epoch 16: val_loss did not improve from 0.00035\n",
      "15/15 [==============================] - 0s 17ms/step - loss: 9.8228e-04 - mse: 0.0020 - val_loss: 4.6774e-04 - val_mse: 9.3548e-04\n",
      "Epoch 17/50\n",
      "11/15 [=====================>........] - ETA: 0s - loss: 9.2638e-04 - mse: 0.0019   \n",
      "Epoch 17: val_loss did not improve from 0.00035\n",
      "15/15 [==============================] - 0s 18ms/step - loss: 9.5103e-04 - mse: 0.0019 - val_loss: 4.6614e-04 - val_mse: 9.3228e-04\n",
      "Epoch 18/50\n",
      "11/15 [=====================>........] - ETA: 0s - loss: 9.4050e-04 - mse: 0.0019   \n",
      "Epoch 18: val_loss did not improve from 0.00035\n",
      "15/15 [==============================] - 0s 17ms/step - loss: 8.9009e-04 - mse: 0.0018 - val_loss: 4.8358e-04 - val_mse: 9.6715e-04\n",
      "Epoch 19/50\n",
      "11/15 [=====================>........] - ETA: 0s - loss: 8.8258e-04 - mse: 0.0018\n",
      "Epoch 19: val_loss did not improve from 0.00035\n",
      "15/15 [==============================] - 0s 16ms/step - loss: 8.6959e-04 - mse: 0.0017 - val_loss: 4.5625e-04 - val_mse: 9.1250e-04\n",
      "Epoch 20/50\n",
      "11/15 [=====================>........] - ETA: 0s - loss: 8.7534e-04 - mse: 0.0018    \n",
      "Epoch 20: val_loss did not improve from 0.00035\n",
      "15/15 [==============================] - 0s 17ms/step - loss: 8.2149e-04 - mse: 0.0016 - val_loss: 4.6030e-04 - val_mse: 9.2060e-04\n",
      "Epoch 21/50\n",
      "11/15 [=====================>........] - ETA: 0s - loss: 9.0757e-04 - mse: 0.0018\n",
      "Epoch 21: val_loss did not improve from 0.00035\n",
      "15/15 [==============================] - 0s 17ms/step - loss: 8.0422e-04 - mse: 0.0016 - val_loss: 5.9032e-04 - val_mse: 0.0012\n",
      "Epoch 22/50\n",
      "11/15 [=====================>........] - ETA: 0s - loss: 9.1284e-04 - mse: 0.0018\n",
      "Epoch 22: val_loss did not improve from 0.00035\n",
      "15/15 [==============================] - 0s 17ms/step - loss: 7.9124e-04 - mse: 0.0016 - val_loss: 4.6531e-04 - val_mse: 9.3062e-04\n",
      "Epoch 23/50\n",
      "11/15 [=====================>........] - ETA: 0s - loss: 6.5936e-04 - mse: 0.0013\n",
      "Epoch 23: val_loss did not improve from 0.00035\n",
      "15/15 [==============================] - 0s 17ms/step - loss: 7.0947e-04 - mse: 0.0014 - val_loss: 3.8338e-04 - val_mse: 7.6676e-04\n",
      "Epoch 24/50\n",
      "11/15 [=====================>........] - ETA: 0s - loss: 5.9431e-04 - mse: 0.0012   \n",
      "Epoch 24: val_loss did not improve from 0.00035\n",
      "15/15 [==============================] - 0s 16ms/step - loss: 6.6323e-04 - mse: 0.0013 - val_loss: 3.7900e-04 - val_mse: 7.5800e-04\n",
      "Epoch 25/50\n",
      "11/15 [=====================>........] - ETA: 0s - loss: 5.0163e-04 - mse: 0.0010    \n",
      "Epoch 25: val_loss did not improve from 0.00035\n",
      "15/15 [==============================] - 0s 17ms/step - loss: 6.1011e-04 - mse: 0.0012 - val_loss: 4.0654e-04 - val_mse: 8.1307e-04\n",
      "Epoch 26/50\n",
      "11/15 [=====================>........] - ETA: 0s - loss: 7.7726e-04 - mse: 0.0016\n",
      "Epoch 26: val_loss did not improve from 0.00035\n",
      "15/15 [==============================] - 0s 16ms/step - loss: 7.1217e-04 - mse: 0.0014 - val_loss: 4.1721e-04 - val_mse: 8.3442e-04\n",
      "Epoch 27/50\n",
      "11/15 [=====================>........] - ETA: 0s - loss: 5.4208e-04 - mse: 0.0011    \n",
      "Epoch 27: val_loss did not improve from 0.00035\n",
      "15/15 [==============================] - 0s 17ms/step - loss: 5.6956e-04 - mse: 0.0011 - val_loss: 5.2819e-04 - val_mse: 0.0011\n",
      "Epoch 28/50\n",
      "11/15 [=====================>........] - ETA: 0s - loss: 6.8819e-04 - mse: 0.0014    \n",
      "Epoch 28: val_loss did not improve from 0.00035\n",
      "15/15 [==============================] - 0s 16ms/step - loss: 5.8427e-04 - mse: 0.0012 - val_loss: 5.4358e-04 - val_mse: 0.0011\n",
      "Epoch 29/50\n",
      "11/15 [=====================>........] - ETA: 0s - loss: 7.1839e-04 - mse: 0.0014\n",
      "Epoch 29: val_loss did not improve from 0.00035\n",
      "15/15 [==============================] - 0s 16ms/step - loss: 6.0599e-04 - mse: 0.0012 - val_loss: 5.5484e-04 - val_mse: 0.0011\n",
      "Epoch 30/50\n",
      "11/15 [=====================>........] - ETA: 0s - loss: 6.5333e-04 - mse: 0.0013\n",
      "Epoch 30: val_loss did not improve from 0.00035\n",
      "15/15 [==============================] - 0s 16ms/step - loss: 5.4851e-04 - mse: 0.0011 - val_loss: 3.7173e-04 - val_mse: 7.4347e-04\n",
      "Epoch 31/50\n",
      "11/15 [=====================>........] - ETA: 0s - loss: 5.8060e-04 - mse: 0.0012\n",
      "Epoch 31: val_loss improved from 0.00035 to 0.00035, saving model to tmp/btt_with_volume_ckeckpointer.ckpt\n",
      "15/15 [==============================] - 0s 18ms/step - loss: 4.9753e-04 - mse: 9.9505e-04 - val_loss: 3.4716e-04 - val_mse: 6.9431e-04\n",
      "Epoch 32/50\n",
      "11/15 [=====================>........] - ETA: 0s - loss: 4.0995e-04 - mse: 8.1990e-04\n",
      "Epoch 32: val_loss did not improve from 0.00035\n",
      "15/15 [==============================] - 0s 16ms/step - loss: 4.7775e-04 - mse: 9.5551e-04 - val_loss: 4.2272e-04 - val_mse: 8.4544e-04\n",
      "Epoch 33/50\n",
      "11/15 [=====================>........] - ETA: 0s - loss: 4.9857e-04 - mse: 9.9715e-04\n",
      "Epoch 33: val_loss did not improve from 0.00035\n",
      "15/15 [==============================] - 0s 16ms/step - loss: 4.7643e-04 - mse: 9.5286e-04 - val_loss: 3.6882e-04 - val_mse: 7.3765e-04\n",
      "Epoch 34/50\n",
      "11/15 [=====================>........] - ETA: 0s - loss: 4.3636e-04 - mse: 8.7272e-04\n",
      "Epoch 34: val_loss improved from 0.00035 to 0.00034, saving model to tmp/btt_with_volume_ckeckpointer.ckpt\n",
      "15/15 [==============================] - 0s 18ms/step - loss: 4.9015e-04 - mse: 9.8031e-04 - val_loss: 3.3942e-04 - val_mse: 6.7885e-04\n",
      "Epoch 35/50\n",
      "11/15 [=====================>........] - ETA: 0s - loss: 5.3344e-04 - mse: 0.0011    \n",
      "Epoch 35: val_loss improved from 0.00034 to 0.00032, saving model to tmp/btt_with_volume_ckeckpointer.ckpt\n",
      "15/15 [==============================] - 0s 19ms/step - loss: 4.8869e-04 - mse: 9.7738e-04 - val_loss: 3.2226e-04 - val_mse: 6.4451e-04\n",
      "Epoch 36/50\n",
      "11/15 [=====================>........] - ETA: 0s - loss: 5.1771e-04 - mse: 0.0010\n",
      "Epoch 36: val_loss did not improve from 0.00032\n",
      "15/15 [==============================] - 0s 17ms/step - loss: 4.8331e-04 - mse: 9.6663e-04 - val_loss: 3.5947e-04 - val_mse: 7.1894e-04\n",
      "Epoch 37/50\n",
      "11/15 [=====================>........] - ETA: 0s - loss: 5.3722e-04 - mse: 0.0011    \n",
      "Epoch 37: val_loss did not improve from 0.00032\n",
      "15/15 [==============================] - 0s 17ms/step - loss: 4.7324e-04 - mse: 9.4648e-04 - val_loss: 3.8232e-04 - val_mse: 7.6465e-04\n",
      "Epoch 38/50\n",
      "11/15 [=====================>........] - ETA: 0s - loss: 3.9261e-04 - mse: 7.8521e-04\n",
      "Epoch 38: val_loss improved from 0.00032 to 0.00031, saving model to tmp/btt_with_volume_ckeckpointer.ckpt\n",
      "15/15 [==============================] - 0s 19ms/step - loss: 5.0891e-04 - mse: 0.0010 - val_loss: 3.1370e-04 - val_mse: 6.2740e-04\n",
      "Epoch 39/50\n",
      "11/15 [=====================>........] - ETA: 0s - loss: 3.0016e-04 - mse: 6.0032e-04\n",
      "Epoch 39: val_loss improved from 0.00031 to 0.00029, saving model to tmp/btt_with_volume_ckeckpointer.ckpt\n",
      "15/15 [==============================] - 0s 18ms/step - loss: 4.4015e-04 - mse: 8.8030e-04 - val_loss: 2.8809e-04 - val_mse: 5.7619e-04\n",
      "Epoch 40/50\n",
      "11/15 [=====================>........] - ETA: 0s - loss: 4.7977e-04 - mse: 9.5954e-04\n",
      "Epoch 40: val_loss did not improve from 0.00029\n",
      "15/15 [==============================] - 0s 17ms/step - loss: 4.3799e-04 - mse: 8.7597e-04 - val_loss: 3.0850e-04 - val_mse: 6.1700e-04\n",
      "Epoch 41/50\n",
      "11/15 [=====================>........] - ETA: 0s - loss: 4.2739e-04 - mse: 8.5479e-04\n",
      "Epoch 41: val_loss did not improve from 0.00029\n",
      "15/15 [==============================] - 0s 17ms/step - loss: 4.4123e-04 - mse: 8.8245e-04 - val_loss: 3.8190e-04 - val_mse: 7.6381e-04\n",
      "Epoch 42/50\n",
      "11/15 [=====================>........] - ETA: 0s - loss: 4.7794e-04 - mse: 9.5588e-04\n",
      "Epoch 42: val_loss did not improve from 0.00029\n",
      "15/15 [==============================] - 0s 17ms/step - loss: 4.5244e-04 - mse: 9.0489e-04 - val_loss: 2.9131e-04 - val_mse: 5.8262e-04\n",
      "Epoch 43/50\n",
      "11/15 [=====================>........] - ETA: 0s - loss: 4.6828e-04 - mse: 9.3656e-04\n",
      "Epoch 43: val_loss improved from 0.00029 to 0.00028, saving model to tmp/btt_with_volume_ckeckpointer.ckpt\n",
      "15/15 [==============================] - 0s 19ms/step - loss: 4.1566e-04 - mse: 8.3132e-04 - val_loss: 2.8239e-04 - val_mse: 5.6479e-04\n",
      "Epoch 44/50\n",
      "11/15 [=====================>........] - ETA: 0s - loss: 3.9443e-04 - mse: 7.8887e-04\n",
      "Epoch 44: val_loss did not improve from 0.00028\n",
      "15/15 [==============================] - 0s 16ms/step - loss: 4.1799e-04 - mse: 8.3597e-04 - val_loss: 3.9848e-04 - val_mse: 7.9696e-04\n",
      "Epoch 45/50\n",
      "11/15 [=====================>........] - ETA: 0s - loss: 3.4779e-04 - mse: 6.9558e-04\n",
      "Epoch 45: val_loss did not improve from 0.00028\n",
      "15/15 [==============================] - 0s 17ms/step - loss: 4.1304e-04 - mse: 8.2608e-04 - val_loss: 3.0499e-04 - val_mse: 6.0997e-04\n",
      "Epoch 46/50\n",
      "11/15 [=====================>........] - ETA: 0s - loss: 4.4145e-04 - mse: 8.8290e-04\n",
      "Epoch 46: val_loss did not improve from 0.00028\n",
      "15/15 [==============================] - 0s 17ms/step - loss: 4.1233e-04 - mse: 8.2466e-04 - val_loss: 2.9386e-04 - val_mse: 5.8772e-04\n",
      "Epoch 47/50\n",
      "11/15 [=====================>........] - ETA: 0s - loss: 3.7804e-04 - mse: 7.5608e-04\n",
      "Epoch 47: val_loss improved from 0.00028 to 0.00028, saving model to tmp/btt_with_volume_ckeckpointer.ckpt\n",
      "15/15 [==============================] - 0s 19ms/step - loss: 4.2364e-04 - mse: 8.4729e-04 - val_loss: 2.8132e-04 - val_mse: 5.6264e-04\n",
      "Epoch 48/50\n",
      "11/15 [=====================>........] - ETA: 0s - loss: 4.4153e-04 - mse: 8.8306e-04\n",
      "Epoch 48: val_loss improved from 0.00028 to 0.00025, saving model to tmp/btt_with_volume_ckeckpointer.ckpt\n",
      "15/15 [==============================] - 0s 17ms/step - loss: 3.8859e-04 - mse: 7.7718e-04 - val_loss: 2.5314e-04 - val_mse: 5.0627e-04\n",
      "Epoch 49/50\n",
      "11/15 [=====================>........] - ETA: 0s - loss: 3.7463e-04 - mse: 7.4926e-04\n",
      "Epoch 49: val_loss did not improve from 0.00025\n",
      "15/15 [==============================] - 0s 17ms/step - loss: 3.9108e-04 - mse: 7.8215e-04 - val_loss: 3.2074e-04 - val_mse: 6.4148e-04\n",
      "Epoch 50/50\n",
      "11/15 [=====================>........] - ETA: 0s - loss: 4.8185e-04 - mse: 9.6370e-04\n",
      "Epoch 50: val_loss did not improve from 0.00025\n",
      "15/15 [==============================] - 0s 17ms/step - loss: 4.5357e-04 - mse: 9.0713e-04 - val_loss: 3.6819e-04 - val_mse: 7.3639e-04\n"
     ]
    }
   ],
   "source": [
    "history = model.fit(train_data, \n",
    "                    validation_data=(test_data), \n",
    "                    epochs=50, \n",
    "                    callbacks=[checkpoint, ]) # earlystopping"
   ]
  },
  {
   "cell_type": "code",
   "execution_count": 265,
   "id": "laughing-midnight",
   "metadata": {},
   "outputs": [
    {
     "data": {
      "text/plain": [
       "<tensorflow.python.training.tracking.util.CheckpointLoadStatus at 0x7f63bbbf31c0>"
      ]
     },
     "execution_count": 265,
     "metadata": {},
     "output_type": "execute_result"
    }
   ],
   "source": [
    "model.load_weights(filename)"
   ]
  },
  {
   "cell_type": "code",
   "execution_count": 266,
   "id": "integral-material",
   "metadata": {},
   "outputs": [],
   "source": [
    "pred = model.predict(test_data)"
   ]
  },
  {
   "cell_type": "code",
   "execution_count": 267,
   "id": "american-wheat",
   "metadata": {},
   "outputs": [
    {
     "data": {
      "text/plain": [
       "(120, 1)"
      ]
     },
     "execution_count": 267,
     "metadata": {},
     "output_type": "execute_result"
    }
   ],
   "source": [
    "pred.shape"
   ]
  },
  {
   "cell_type": "markdown",
   "id": "neutral-graduate",
   "metadata": {},
   "source": [
    "## Plot result"
   ]
  },
  {
   "cell_type": "code",
   "execution_count": 268,
   "id": "figured-extraction",
   "metadata": {},
   "outputs": [
    {
     "data": {
      "text/plain": [
       "(20, 1)"
      ]
     },
     "execution_count": 268,
     "metadata": {},
     "output_type": "execute_result"
    }
   ],
   "source": [
    "np.expand_dims(train[-WINDOW_SIZE:, 2], axis = -1).shape"
   ]
  },
  {
   "cell_type": "code",
   "execution_count": 269,
   "id": "worldwide-domestic",
   "metadata": {},
   "outputs": [
    {
     "data": {
      "text/plain": [
       "(100, 1)"
      ]
     },
     "execution_count": 269,
     "metadata": {},
     "output_type": "execute_result"
    }
   ],
   "source": [
    "pred[WINDOW_SIZE:, : ].shape"
   ]
  },
  {
   "cell_type": "code",
   "execution_count": 270,
   "id": "economic-whale",
   "metadata": {},
   "outputs": [],
   "source": [
    "pred_plot = np.concatenate((test[WINDOW_SIZE:,0:2], pred), axis = 1)\n",
    "pred_plot = np.concatenate((train, pred_plot))\n",
    "pred_plot = scaler.inverse_transform(pred_plot)[:, 2]\n",
    "# 원래 데이터를 그대로 사용\n",
    "actual_plot = scaler.inverse_transform(np.concatenate((train, test[WINDOW_SIZE:, :])))[:, 2]"
   ]
  },
  {
   "cell_type": "code",
   "execution_count": 271,
   "id": "posted-syndication",
   "metadata": {},
   "outputs": [
    {
     "data": {
      "text/plain": [
       "(600,)"
      ]
     },
     "execution_count": 271,
     "metadata": {},
     "output_type": "execute_result"
    }
   ],
   "source": [
    "pred_plot.shape"
   ]
  },
  {
   "cell_type": "code",
   "execution_count": 272,
   "id": "eligible-country",
   "metadata": {},
   "outputs": [
    {
     "name": "stdout",
     "output_type": "stream",
     "text": [
      "sMAPE = 5.579787490348895\n"
     ]
    }
   ],
   "source": [
    "print(f'sMAPE = {smape(actual_plot[train.shape[0]:], pred_plot[train.shape[0]:])}')"
   ]
  },
  {
   "cell_type": "code",
   "execution_count": 273,
   "id": "suburban-european",
   "metadata": {},
   "outputs": [
    {
     "data": {
      "image/png": "[encoded data removed]",
      "text/plain": [
       "<Figure size 864x648 with 1 Axes>"
      ]
     },
     "metadata": {
      "needs_background": "light"
     },
     "output_type": "display_data"
    }
   ],
   "source": [
    "plt.figure(figsize=(12, 9))\n",
    "plt.plot(pred_plot, label='prediction')\n",
    "plt.plot(actual_plot, label='actual')\n",
    "plt.axvline(x = train.shape[0], c = 'r', linestyle = '--')\n",
    "plt.suptitle('Timeseries Prediction')\n",
    "plt.legend()\n",
    "plt.show()"
   ]
  },
  {
   "cell_type": "markdown",
   "id": "turkish-dominican",
   "metadata": {},
   "source": [
    "### OOT test"
   ]
  },
  {
   "cell_type": "code",
   "execution_count": 274,
   "id": "least-auditor",
   "metadata": {},
   "outputs": [],
   "source": [
    "import pickle \n",
    "\n",
    "with open('../data/crypto_currency_oot.pickle', 'rb') as f:\n",
    "    oot_data = pickle.load(f)"
   ]
  },
  {
   "cell_type": "code",
   "execution_count": 275,
   "id": "american-sailing",
   "metadata": {},
   "outputs": [
    {
     "data": {
      "text/plain": [
       "candle_date_time_kst\n",
       "2022-02-24T09:00:00    0.0023\n",
       "2022-02-25T09:00:00    0.0023\n",
       "2022-02-26T09:00:00    0.0023\n",
       "2022-02-27T09:00:00    0.0023\n",
       "2022-02-28T09:00:00    0.0025\n",
       "Name: trade_price, dtype: float64"
      ]
     },
     "execution_count": 275,
     "metadata": {},
     "output_type": "execute_result"
    }
   ],
   "source": [
    "data['KRW-BTT'].tail()['trade_price']"
   ]
  },
  {
   "cell_type": "code",
   "execution_count": 276,
   "id": "suspected-conditioning",
   "metadata": {},
   "outputs": [],
   "source": [
    "oot_btt = oot_data['KRW-BTT']\n",
    "oot_scaled = scaler. transform(oot_btt[scale_cols])\n",
    "oot_scaled = np.concatenate((test[-WINDOW_SIZE:, :], oot_scaled))"
   ]
  },
  {
   "cell_type": "code",
   "execution_count": 277,
   "id": "engaging-transportation",
   "metadata": {},
   "outputs": [],
   "source": [
    "oot_test_data = windowed_dataset(oot_scaled, WINDOW_SIZE, BATCH_SIZE, False)\n"
   ]
  },
  {
   "cell_type": "code",
   "execution_count": 278,
   "id": "binary-ethiopia",
   "metadata": {},
   "outputs": [],
   "source": [
    "oot_pred = model.predict(oot_test_data)"
   ]
  },
  {
   "cell_type": "code",
   "execution_count": 279,
   "id": "married-shirt",
   "metadata": {},
   "outputs": [
    {
     "data": {
      "text/plain": [
       "(60, 1)"
      ]
     },
     "execution_count": 279,
     "metadata": {},
     "output_type": "execute_result"
    }
   ],
   "source": [
    "np.concatenate((np.expand_dims(test[-WINDOW_SIZE:, 2], axis = -1), oot_pred)).shape"
   ]
  },
  {
   "cell_type": "code",
   "execution_count": 280,
   "id": "developing-score",
   "metadata": {},
   "outputs": [
    {
     "data": {
      "text/plain": [
       "(60, 3)"
      ]
     },
     "execution_count": 280,
     "metadata": {},
     "output_type": "execute_result"
    }
   ],
   "source": [
    "np.concatenate((oot_scaled[:,0:2], np.concatenate((np.expand_dims(test[-WINDOW_SIZE:, 2], axis = -1), oot_pred))), axis = 1).shape"
   ]
  },
  {
   "cell_type": "code",
   "execution_count": 281,
   "id": "complimentary-holder",
   "metadata": {},
   "outputs": [
    {
     "data": {
      "text/plain": [
       "(640,)"
      ]
     },
     "execution_count": 281,
     "metadata": {},
     "output_type": "execute_result"
    }
   ],
   "source": [
    "oot_actual_plot.shape"
   ]
  },
  {
   "cell_type": "code",
   "execution_count": 282,
   "id": "patient-person",
   "metadata": {},
   "outputs": [],
   "source": [
    "# oot pred 데이터 만들기\n",
    "oot_pred_plot = np.concatenate((oot_scaled[WINDOW_SIZE:,0:2], oot_pred), axis = 1)\n",
    "# pred 데이터 만들기\n",
    "pred_plot = np.concatenate((test[WINDOW_SIZE:,0:2], pred), axis = 1)\n",
    "# 모두 합해서 역변환하기\n",
    "oot_pred_plot = scaler.inverse_transform(np.concatenate((train, pred_plot, oot_pred_plot)))[:, 2]\n",
    "# Actual 데이터 만들기\n",
    "oot_actual_plot = scaler.inverse_transform(np.concatenate((train, test[WINDOW_SIZE:, :], oot_scaled[WINDOW_SIZE:, :])))[:, 2]"
   ]
  },
  {
   "cell_type": "code",
   "execution_count": 283,
   "id": "convertible-genealogy",
   "metadata": {},
   "outputs": [
    {
     "data": {
      "image/png": "[encoded data removed]",
      "text/plain": [
       "<Figure size 864x648 with 1 Axes>"
      ]
     },
     "metadata": {
      "needs_background": "light"
     },
     "output_type": "display_data"
    }
   ],
   "source": [
    "plt.figure(figsize=(12, 9))\n",
    "plt.plot(oot_pred_plot, label='prediction')\n",
    "plt.plot(oot_actual_plot, label='actual')\n",
    "plt.axvline(x = train.shape[0], c = 'r', linestyle = '--')\n",
    "plt.axvline(x = train.shape[0] + test.shape[0], c = 'b', linestyle = '--')\n",
    "plt.suptitle('Timeseries Prediction')\n",
    "plt.legend()\n",
    "plt.show()"
   ]
  },
  {
   "cell_type": "code",
   "execution_count": 284,
   "id": "certain-casting",
   "metadata": {},
   "outputs": [
    {
     "name": "stdout",
     "output_type": "stream",
     "text": [
      "sMAPE = 5.164058643550302\n"
     ]
    }
   ],
   "source": [
    "print(f'sMAPE = {smape(oot_actual_plot[train.shape[0] + test.shape[0]:], oot_pred_plot[train.shape[0] + test.shape[0]:])}')"
   ]
  },
  {
   "cell_type": "code",
   "execution_count": null,
   "id": "narrative-threshold",
   "metadata": {},
   "outputs": [],
   "source": []
  }
 ],
 "metadata": {
  "kernelspec": {
   "display_name": "ImageProcesss",
   "language": "python",
   "name": "image_crawler"
  },
  "language_info": {
   "codemirror_mode": {
    "name": "ipython",
    "version": 3
   },
   "file_extension": ".py",
   "mimetype": "text/x-python",
   "name": "python",
   "nbconvert_exporter": "python",
   "pygments_lexer": "ipython3",
   "version": "3.8.3"
  }
 },
 "nbformat": 4,
 "nbformat_minor": 5
}
