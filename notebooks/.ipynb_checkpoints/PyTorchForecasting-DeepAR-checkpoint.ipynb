{
 "cells": [
  {
   "cell_type": "code",
   "execution_count": 32,
   "id": "quarterly-postage",
   "metadata": {},
   "outputs": [],
   "source": [
    "import os\n",
    "import warnings\n",
    "warnings.filterwarnings('ignore')\n",
    "import pickle\n",
    "import numpy as np\n",
    "import pandas as pd\n",
    "from typing import Any, Callable, Dict, List, Optional, Tuple, Union"
   ]
  },
  {
   "cell_type": "code",
   "execution_count": 50,
   "id": "crazy-intro",
   "metadata": {},
   "outputs": [
    {
     "name": "stdout",
     "output_type": "stream",
     "text": [
      "Defaulting to user installation because normal site-packages is not writeable\n",
      "Collecting update\n",
      "  Using cached update-0.0.1-py2.py3-none-any.whl (2.9 kB)\n",
      "Collecting style==1.1.0\n",
      "  Using cached style-1.1.0-py2.py3-none-any.whl (6.4 kB)\n",
      "Installing collected packages: style, update\n",
      "Successfully installed style-1.1.0 update-0.0.1\n",
      "\u001b[33mWARNING: You are using pip version 21.0.1; however, version 22.0.4 is available.\n",
      "You should consider upgrading via the '/usr/bin/python -m pip install --upgrade pip' command.\u001b[0m\n"
     ]
    }
   ],
   "source": [
    "! pip install update --upgrade\n",
    "! pip install pytorch-forecasting"
   ]
  },
  {
   "cell_type": "code",
   "execution_count": 121,
   "id": "vocal-hampton",
   "metadata": {},
   "outputs": [],
   "source": [
    "import matplotlib.pyplot as plt\n",
    "import pandas as pd\n",
    "import pytorch_lightning as pl\n",
    "from pytorch_lightning.callbacks import EarlyStopping, LearningRateMonitor\n",
    "import torch\n",
    "\n",
    "from pytorch_forecasting import Baseline, DeepAR, TimeSeriesDataSet\n",
    "from pytorch_forecasting.data import NaNLabelEncoder\n",
    "from pytorch_forecasting.metrics import SMAPE, DistributionLoss, NormalDistributionLoss, LogNormalDistributionLoss"
   ]
  },
  {
   "cell_type": "code",
   "execution_count": 29,
   "id": "referenced-civilization",
   "metadata": {},
   "outputs": [],
   "source": [
    "class MultivariateDistributionLoss(DistributionLoss):\n",
    "    \"\"\"Base class for multivariate distribution losses.\n",
    "\n",
    "    Class should be inherited for all multivariate distribution losses, i.e. if a batch of values\n",
    "    is predicted in one go and the batch dimension is not independent, but the time dimension still\n",
    "    remains independent.\n",
    "    \"\"\"\n",
    "\n",
    "    def sample(self, y_pred, n_samples: int) -> torch.Tensor:\n",
    "        \"\"\"\n",
    "        Sample from distribution.\n",
    "\n",
    "        Args:\n",
    "            y_pred: prediction output of network (shape batch_size x n_timesteps x n_paramters)\n",
    "            n_samples (int): number of samples to draw\n",
    "\n",
    "        Returns:\n",
    "            torch.Tensor: tensor with samples  (shape batch_size x n_timesteps x n_samples)\n",
    "        \"\"\"\n",
    "        dist = self.map_x_to_distribution(y_pred)\n",
    "        samples = dist.sample((n_samples,)).permute(\n",
    "            2, 1, 0\n",
    "        )  # returned as (n_samples, n_timesteps, batch_size), so reshape to (batch_size, n_timesteps, n_samples)\n",
    "        return samples\n",
    "\n",
    "\n",
    "    def to_prediction(self, y_pred: torch.Tensor) -> torch.Tensor:\n",
    "        \"\"\"\n",
    "        Convert network prediction into a point prediction.\n",
    "\n",
    "        Args:\n",
    "            y_pred: prediction output of network\n",
    "\n",
    "        Returns:\n",
    "            torch.Tensor: mean prediction\n",
    "        \"\"\"\n",
    "        distribution = self.map_x_to_distribution(y_pred)\n",
    "\n",
    "        return distribution.mean.transpose(0, 1)  # switch to batch_size x n_timesteps\n",
    "\n",
    "\n",
    "    def loss(self, y_pred: torch.Tensor, y_actual: torch.Tensor) -> torch.Tensor:\n",
    "        \"\"\"\n",
    "        Calculate negative likelihood\n",
    "\n",
    "        Args:\n",
    "            y_pred: network output\n",
    "            y_actual: actual values\n",
    "\n",
    "        Returns:\n",
    "            torch.Tensor: metric value on which backpropagation can be applied\n",
    "        \"\"\"\n",
    "        distribution = self.map_x_to_distribution(y_pred)\n",
    "        # calculate one number and scale with batch size\n",
    "        loss = -distribution.log_prob(y_actual.transpose(0, 1)).sum() * y_actual.size(0)\n",
    "        return loss"
   ]
  },
  {
   "cell_type": "code",
   "execution_count": 53,
   "id": "religious-dealer",
   "metadata": {},
   "outputs": [],
   "source": [
    "from torch import distributions\n",
    "from sklearn.base import BaseEstimator\n",
    "class MultivariateNormalDistributionLoss(MultivariateDistributionLoss):\n",
    "    \"\"\"\n",
    "    Multivariate low-rank normal distribution loss.\n",
    "\n",
    "    Use this loss to make out of a DeepAR model a DeepVAR network.\n",
    "\n",
    "    Requirements for original target normalizer:\n",
    "        * not normalized in log space (use :py:class:`~LogNormalDistributionLoss`)\n",
    "        * not coerced to be positive\n",
    "    \"\"\"\n",
    "\n",
    "    distribution_class = distributions.LowRankMultivariateNormal\n",
    "\n",
    "    def __init__(\n",
    "        self,\n",
    "        name: str = None,\n",
    "        quantiles: List[float] = [0.02, 0.1, 0.25, 0.5, 0.75, 0.9, 0.98],\n",
    "        reduction: str = \"mean\",\n",
    "        rank: int = 10,\n",
    "        sigma_init: float = 1.0,\n",
    "        sigma_minimum: float = 1e-3,\n",
    "    ):\n",
    "        \"\"\"\n",
    "        Initialize metric\n",
    "\n",
    "        Args:\n",
    "            name (str): metric name. Defaults to class name.\n",
    "            quantiles (List[float], optional): quantiles for probability range.\n",
    "                Defaults to [0.02, 0.1, 0.25, 0.5, 0.75, 0.9, 0.98].\n",
    "            reduction (str, optional): Reduction, \"none\", \"mean\" or \"sqrt-mean\". Defaults to \"mean\".\n",
    "            rank (int): rank of low-rank approximation for covariance matrix. Defaults to 10.\n",
    "            sigma_init (float, optional): default value for diagonal covariance. Defaults to 1.0.\n",
    "            sigma_minimum (float, optional): minimum value for diagonal covariance. Defaults to 1e-3.\n",
    "        \"\"\"\n",
    "        super().__init__(name=name, quantiles=quantiles, reduction=reduction)\n",
    "        self.rank = rank\n",
    "        self.sigma_minimum = sigma_minimum\n",
    "        self.sigma_init = sigma_init\n",
    "        self.distribution_arguments = list(range(2 + rank))\n",
    "\n",
    "        # determine bias\n",
    "        self._diag_bias: float = self.inv_softplus(self.sigma_init**2) if self.sigma_init > 0.0 else 0.0\n",
    "\n",
    "    def map_x_to_distribution(self, x: torch.Tensor) -> distributions.Normal:\n",
    "        x = x.permute(1, 0, 2)\n",
    "        return self.distribution_class(\n",
    "            loc=x[..., 0],\n",
    "            cov_factor=x[..., 2:],\n",
    "            cov_diag=x[..., 1],\n",
    "        )\n",
    "\n",
    "\n",
    "    @staticmethod\n",
    "    def validate_encoder(encoder: BaseEstimator):\n",
    "        assert encoder.transformation not in [\n",
    "            \"log\",\n",
    "            \"log1p\",\n",
    "        ], \"Use MultivariateLogNormalDistributionLoss for log scaled data\"  # todo: implement\n",
    "        assert encoder.transformation not in [\n",
    "            \"softplus\",\n",
    "            \"relu\",\n",
    "        ], \"Cannot use NormalDistributionLoss for positive data\"\n",
    "        assert encoder.transformation not in [\"logit\"], \"Cannot use bound transformation such as 'logit'\"\n",
    "\n",
    "    def rescale_parameters(\n",
    "        self, parameters: torch.Tensor, target_scale: torch.Tensor, encoder: BaseEstimator\n",
    "    ) -> torch.Tensor:\n",
    "        self.validate_encoder(encoder)\n",
    "\n",
    "        # scale\n",
    "        loc = encoder(dict(prediction=parameters[..., 0], target_scale=target_scale)).unsqueeze(-1)\n",
    "        scale = (\n",
    "            F.softplus(parameters[..., 1].unsqueeze(-1) + self._diag_bias) + self.sigma_minimum**2\n",
    "        ) * target_scale[..., 1, None, None] ** 2\n",
    "\n",
    "        cov_factor = parameters[..., 2:] * target_scale[..., 1, None, None]\n",
    "        return torch.concat([loc, scale, cov_factor], dim=-1)\n",
    "\n",
    "\n",
    "    def inv_softplus(self, y):\n",
    "        if y < 20.0:\n",
    "            return np.log(np.exp(y) - 1.0)\n",
    "        else:\n",
    "            return y"
   ]
  },
  {
   "cell_type": "markdown",
   "id": "stunning-honey",
   "metadata": {},
   "source": [
    "## Data"
   ]
  },
  {
   "cell_type": "code",
   "execution_count": 9,
   "id": "frequent-simple",
   "metadata": {},
   "outputs": [],
   "source": [
    "with open('../data/crypto_currency.pickle', 'rb') as f:\n",
    "    data = pickle.load(f)"
   ]
  },
  {
   "cell_type": "code",
   "execution_count": 10,
   "id": "retained-correspondence",
   "metadata": {},
   "outputs": [],
   "source": [
    "d1 = data['KRW-ZIL']\n",
    "d1 = d1.sort_values('candle_date_time_kst')\n",
    "d1['time_index'] = np.arange(len(d1))\n",
    "date_index = d1[['time_index', 'candle_date_time_kst']]"
   ]
  },
  {
   "cell_type": "code",
   "execution_count": 93,
   "id": "adequate-rapid",
   "metadata": {},
   "outputs": [],
   "source": [
    "res_data = pd.DataFrame()\n",
    "for i, key in enumerate(data.keys()):\n",
    "    tmp = data[key]\n",
    "#     if tmp.shape[0] == 720:\n",
    "    tmp_1 = pd.merge(tmp, date_index, on ='candle_date_time_kst')\n",
    "    try:\n",
    "        res_data = pd.concat([res_data, tmp_1[['market', 'candle_acc_trade_volume', 'time_index', 'change_price', 'candle_date_time_kst', 'trade_price']]])\n",
    "    except Exception as e:\n",
    "        res_data = pd.concat([res_data, tmp_1[['market', 'candle_acc_trade_volume', 'time_index_y', 'change_price', 'candle_date_time_kst', 'trade_price']]])\n",
    "        pass"
   ]
  },
  {
   "cell_type": "code",
   "execution_count": 94,
   "id": "visible-invalid",
   "metadata": {},
   "outputs": [],
   "source": [
    "res_data['new_idx'] = res_data['market'] + '_' + res_data['time_index'].astype(str)\n",
    "res_data.drop_duplicates(subset = ['new_idx'], inplace = True)\n",
    "res_data.set_index('new_idx', inplace = True)"
   ]
  },
  {
   "cell_type": "code",
   "execution_count": 95,
   "id": "approximate-intake",
   "metadata": {},
   "outputs": [],
   "source": [
    "res_data.sort_values(['market', 'time_index'], inplace = True)"
   ]
  },
  {
   "cell_type": "code",
   "execution_count": 96,
   "id": "broadband-silence",
   "metadata": {},
   "outputs": [],
   "source": [
    "# create dataset and dataloader\n",
    "max_encoder_length = 60\n",
    "max_prediction_length = 20\n",
    "\n",
    "training_cutoff = res_data['time_index'].max() - max_prediction_length"
   ]
  },
  {
   "cell_type": "code",
   "execution_count": 97,
   "id": "speaking-liquid",
   "metadata": {},
   "outputs": [],
   "source": [
    "context_length = max_encoder_length\n",
    "prediction_length = max_prediction_length"
   ]
  },
  {
   "cell_type": "code",
   "execution_count": 98,
   "id": "straight-multiple",
   "metadata": {},
   "outputs": [],
   "source": [
    "training = TimeSeriesDataSet(\n",
    "    res_data[lambda x: x.time_index <= training_cutoff],\n",
    "    time_idx = 'time_index',\n",
    "    target = 'trade_price',\n",
    "    categorical_encoders = {'market': NaNLabelEncoder().fit(res_data.market)},\n",
    "    group_ids = ['market'],\n",
    "    time_varying_unknown_reals = ['trade_price'],\n",
    "    max_encoder_length = context_length,\n",
    "    max_prediction_length = prediction_length,\n",
    "    allow_missing_timesteps=True\n",
    ")"
   ]
  },
  {
   "cell_type": "code",
   "execution_count": 99,
   "id": "restricted-quarter",
   "metadata": {},
   "outputs": [],
   "source": [
    "validation = TimeSeriesDataSet.from_dataset(\n",
    "    training,\n",
    "    res_data,\n",
    "    min_prediction_idx = training_cutoff + 1\n",
    ")"
   ]
  },
  {
   "cell_type": "code",
   "execution_count": 100,
   "id": "requested-demonstration",
   "metadata": {},
   "outputs": [],
   "source": [
    "batch_size = 128\n",
    "train_dataloader = training.to_dataloader(train = True, batch_size = batch_size, num_workers = 0)\n",
    "val_dataloader = validation.to_dataloader(train = False, batch_size = batch_size, num_workers = 0)"
   ]
  },
  {
   "cell_type": "markdown",
   "id": "young-yesterday",
   "metadata": {},
   "source": [
    "# Calculate baseline error"
   ]
  },
  {
   "cell_type": "code",
   "execution_count": 101,
   "id": "tough-philippines",
   "metadata": {},
   "outputs": [],
   "source": [
    "actuals = torch.cat([y[0] for x, y in iter(val_dataloader)])"
   ]
  },
  {
   "cell_type": "code",
   "execution_count": 102,
   "id": "certified-bidding",
   "metadata": {},
   "outputs": [
    {
     "data": {
      "text/plain": [
       "[torch.Size([128, 20]), torch.Size([60, 20])]"
      ]
     },
     "execution_count": 102,
     "metadata": {},
     "output_type": "execute_result"
    }
   ],
   "source": [
    "[y[0].shape for x, y in iter(val_dataloader)]"
   ]
  },
  {
   "cell_type": "code",
   "execution_count": 103,
   "id": "theoretical-newfoundland",
   "metadata": {},
   "outputs": [
    {
     "data": {
      "text/plain": [
       "tensor(0.1218)"
      ]
     },
     "execution_count": 103,
     "metadata": {},
     "output_type": "execute_result"
    }
   ],
   "source": [
    "baseline_predictions = Baseline().predict(val_dataloader)\n",
    "SMAPE()(baseline_predictions, actuals)"
   ]
  },
  {
   "cell_type": "code",
   "execution_count": 140,
   "id": "adverse-egyptian",
   "metadata": {},
   "outputs": [
    {
     "name": "stderr",
     "output_type": "stream",
     "text": [
      "Global seed set to 42\n",
      "GPU available: True, used: False\n",
      "TPU available: False, using: 0 TPU cores\n",
      "IPU available: False, using: 0 IPUs\n",
      "HPU available: False, using: 0 HPUs\n"
     ]
    }
   ],
   "source": [
    "pl.seed_everything(42)\n",
    "trainer = pl.Trainer(gpus = 0, gradient_clip_val = .1)\n",
    "net = DeepAR.from_dataset(\n",
    "    training, \n",
    "    learning_rate = 3e-2, \n",
    "    hidden_size = 30, \n",
    "    rnn_layers = 2, \n",
    "   loss = LogNormalDistributionLoss()\n",
    ")"
   ]
  },
  {
   "cell_type": "code",
   "execution_count": 141,
   "id": "criminal-update",
   "metadata": {},
   "outputs": [
    {
     "data": {
      "application/vnd.jupyter.widget-view+json": {
       "model_id": "ff61fd12e0204aaab2f12dc2c9036e9d",
       "version_major": 2,
       "version_minor": 0
      },
      "text/plain": [
       "Finding best initial lr:   0%|          | 0/100 [00:00<?, ?it/s]"
      ]
     },
     "metadata": {},
     "output_type": "display_data"
    },
    {
     "name": "stderr",
     "output_type": "stream",
     "text": [
      "Restoring states from the checkpoint path at /home/kyle/course-material/notebooks/.lr_find_605d743d-ec22-4292-9a72-06f7031f0466.ckpt\n"
     ]
    },
    {
     "name": "stdout",
     "output_type": "stream",
     "text": [
      "suggested learning rate: 0.00022387211385683402\n"
     ]
    },
    {
     "data": {
      "image/png": "[encoded data removed]",
      "text/plain": [
       "<Figure size 432x288 with 1 Axes>"
      ]
     },
     "metadata": {
      "needs_background": "light"
     },
     "output_type": "display_data"
    }
   ],
   "source": [
    "# find optimal learning rate\n",
    "res = trainer.tuner.lr_find(net, train_dataloaders=train_dataloader, val_dataloaders=val_dataloader, min_lr=1e-5)\n",
    "print(f\"suggested learning rate: {res.suggestion()}\")\n",
    "fig = res.plot(show=True, suggest=True)\n",
    "fig.show()\n",
    "net.hparams.learning_rate = res.suggestion()"
   ]
  },
  {
   "cell_type": "code",
   "execution_count": 142,
   "id": "cooked-sense",
   "metadata": {},
   "outputs": [],
   "source": [
    "early_stop_callback = EarlyStopping(monitor=\"val_loss\", min_delta=1e-4, patience=10, verbose=True, mode=\"min\")\n",
    "lr_logger = LearningRateMonitor()"
   ]
  },
  {
   "cell_type": "code",
   "execution_count": 143,
   "id": "cleared-nutrition",
   "metadata": {},
   "outputs": [
    {
     "name": "stderr",
     "output_type": "stream",
     "text": [
      "GPU available: True, used: False\n",
      "TPU available: False, using: 0 TPU cores\n",
      "IPU available: False, using: 0 IPUs\n",
      "HPU available: False, using: 0 HPUs\n"
     ]
    }
   ],
   "source": [
    "trainer = pl.Trainer(\n",
    "    max_epochs = 10,\n",
    "    gpus = 0,\n",
    "    weights_summary = 'top',\n",
    "    gradient_clip_val = .01,\n",
    "    callbacks = [lr_logger, early_stop_callback],\n",
    "    limit_train_batches = 30,\n",
    "    enable_checkpointing = True,\n",
    ")"
   ]
  },
  {
   "cell_type": "code",
   "execution_count": 144,
   "id": "educational-canberra",
   "metadata": {},
   "outputs": [],
   "source": [
    "torch.set_num_threads(10)"
   ]
  },
  {
   "cell_type": "code",
   "execution_count": 145,
   "id": "deadly-prerequisite",
   "metadata": {},
   "outputs": [
    {
     "name": "stderr",
     "output_type": "stream",
     "text": [
      "\n",
      "  | Name                   | Type                      | Params\n",
      "---------------------------------------------------------------------\n",
      "0 | loss                   | LogNormalDistributionLoss | 0     \n",
      "1 | logging_metrics        | ModuleList                | 0     \n",
      "2 | embeddings             | MultiEmbedding            | 0     \n",
      "3 | rnn                    | LSTM                      | 11.4 K\n",
      "4 | distribution_projector | Linear                    | 62    \n",
      "---------------------------------------------------------------------\n",
      "11.5 K    Trainable params\n",
      "0         Non-trainable params\n",
      "11.5 K    Total params\n",
      "0.046     Total estimated model params size (MB)\n"
     ]
    },
    {
     "data": {
      "application/vnd.jupyter.widget-view+json": {
       "model_id": "",
       "version_major": 2,
       "version_minor": 0
      },
      "text/plain": [
       "Sanity Checking: 0it [00:00, ?it/s]"
      ]
     },
     "metadata": {},
     "output_type": "display_data"
    },
    {
     "data": {
      "application/vnd.jupyter.widget-view+json": {
       "model_id": "a101d72352b540fdae2a492a0d50b0a7",
       "version_major": 2,
       "version_minor": 0
      },
      "text/plain": [
       "Training: 0it [00:00, ?it/s]"
      ]
     },
     "metadata": {},
     "output_type": "display_data"
    },
    {
     "data": {
      "application/vnd.jupyter.widget-view+json": {
       "model_id": "",
       "version_major": 2,
       "version_minor": 0
      },
      "text/plain": [
       "Validation: 0it [00:00, ?it/s]"
      ]
     },
     "metadata": {},
     "output_type": "display_data"
    },
    {
     "name": "stderr",
     "output_type": "stream",
     "text": [
      "Metric val_loss improved. New best score: -0.010\n"
     ]
    },
    {
     "data": {
      "application/vnd.jupyter.widget-view+json": {
       "model_id": "",
       "version_major": 2,
       "version_minor": 0
      },
      "text/plain": [
       "Validation: 0it [00:00, ?it/s]"
      ]
     },
     "metadata": {},
     "output_type": "display_data"
    },
    {
     "name": "stderr",
     "output_type": "stream",
     "text": [
      "Metric val_loss improved by 0.015 >= min_delta = 0.0001. New best score: -0.025\n"
     ]
    },
    {
     "data": {
      "application/vnd.jupyter.widget-view+json": {
       "model_id": "",
       "version_major": 2,
       "version_minor": 0
      },
      "text/plain": [
       "Validation: 0it [00:00, ?it/s]"
      ]
     },
     "metadata": {},
     "output_type": "display_data"
    },
    {
     "name": "stderr",
     "output_type": "stream",
     "text": [
      "Metric val_loss improved by 0.021 >= min_delta = 0.0001. New best score: -0.046\n"
     ]
    },
    {
     "data": {
      "application/vnd.jupyter.widget-view+json": {
       "model_id": "",
       "version_major": 2,
       "version_minor": 0
      },
      "text/plain": [
       "Validation: 0it [00:00, ?it/s]"
      ]
     },
     "metadata": {},
     "output_type": "display_data"
    },
    {
     "name": "stderr",
     "output_type": "stream",
     "text": [
      "Metric val_loss improved by 0.027 >= min_delta = 0.0001. New best score: -0.073\n"
     ]
    },
    {
     "data": {
      "application/vnd.jupyter.widget-view+json": {
       "model_id": "",
       "version_major": 2,
       "version_minor": 0
      },
      "text/plain": [
       "Validation: 0it [00:00, ?it/s]"
      ]
     },
     "metadata": {},
     "output_type": "display_data"
    },
    {
     "name": "stderr",
     "output_type": "stream",
     "text": [
      "Metric val_loss improved by 0.029 >= min_delta = 0.0001. New best score: -0.101\n"
     ]
    },
    {
     "data": {
      "application/vnd.jupyter.widget-view+json": {
       "model_id": "",
       "version_major": 2,
       "version_minor": 0
      },
      "text/plain": [
       "Validation: 0it [00:00, ?it/s]"
      ]
     },
     "metadata": {},
     "output_type": "display_data"
    },
    {
     "name": "stderr",
     "output_type": "stream",
     "text": [
      "Metric val_loss improved by 0.034 >= min_delta = 0.0001. New best score: -0.135\n"
     ]
    },
    {
     "data": {
      "application/vnd.jupyter.widget-view+json": {
       "model_id": "",
       "version_major": 2,
       "version_minor": 0
      },
      "text/plain": [
       "Validation: 0it [00:00, ?it/s]"
      ]
     },
     "metadata": {},
     "output_type": "display_data"
    },
    {
     "name": "stderr",
     "output_type": "stream",
     "text": [
      "Metric val_loss improved by 0.037 >= min_delta = 0.0001. New best score: -0.172\n"
     ]
    },
    {
     "data": {
      "application/vnd.jupyter.widget-view+json": {
       "model_id": "",
       "version_major": 2,
       "version_minor": 0
      },
      "text/plain": [
       "Validation: 0it [00:00, ?it/s]"
      ]
     },
     "metadata": {},
     "output_type": "display_data"
    },
    {
     "name": "stderr",
     "output_type": "stream",
     "text": [
      "Metric val_loss improved by 0.040 >= min_delta = 0.0001. New best score: -0.212\n"
     ]
    },
    {
     "data": {
      "application/vnd.jupyter.widget-view+json": {
       "model_id": "",
       "version_major": 2,
       "version_minor": 0
      },
      "text/plain": [
       "Validation: 0it [00:00, ?it/s]"
      ]
     },
     "metadata": {},
     "output_type": "display_data"
    },
    {
     "name": "stderr",
     "output_type": "stream",
     "text": [
      "Metric val_loss improved by 0.045 >= min_delta = 0.0001. New best score: -0.257\n"
     ]
    },
    {
     "data": {
      "application/vnd.jupyter.widget-view+json": {
       "model_id": "",
       "version_major": 2,
       "version_minor": 0
      },
      "text/plain": [
       "Validation: 0it [00:00, ?it/s]"
      ]
     },
     "metadata": {},
     "output_type": "display_data"
    },
    {
     "name": "stderr",
     "output_type": "stream",
     "text": [
      "Metric val_loss improved by 0.047 >= min_delta = 0.0001. New best score: -0.303\n"
     ]
    }
   ],
   "source": [
    "trainer.fit(\n",
    "    net,\n",
    "    train_dataloaders = train_dataloader,\n",
    "    val_dataloaders = val_dataloader,\n",
    ")"
   ]
  },
  {
   "cell_type": "code",
   "execution_count": 146,
   "id": "transparent-thought",
   "metadata": {},
   "outputs": [],
   "source": [
    "best_model_path = trainer.checkpoint_callback.best_model_path\n",
    "best_model = DeepAR.load_from_checkpoint(best_model_path)"
   ]
  },
  {
   "cell_type": "code",
   "execution_count": 147,
   "id": "secondary-finding",
   "metadata": {},
   "outputs": [
    {
     "data": {
      "text/plain": [
       "tensor(4568.8213)"
      ]
     },
     "execution_count": 147,
     "metadata": {},
     "output_type": "execute_result"
    }
   ],
   "source": [
    "actuals = torch.cat([y[0] for x, y in iter(val_dataloader)])\n",
    "predictions = best_model.predict(val_dataloader)\n",
    "(actuals - predictions).abs().mean()"
   ]
  },
  {
   "cell_type": "code",
   "execution_count": 148,
   "id": "sized-cyprus",
   "metadata": {},
   "outputs": [],
   "source": [
    "val_dataloader = validation.to_dataloader(\n",
    "    train=False, batch_size=batch_size, num_workers=0\n",
    ")"
   ]
  },
  {
   "cell_type": "code",
   "execution_count": 149,
   "id": "bibliographic-latvia",
   "metadata": {},
   "outputs": [],
   "source": [
    "raw_predictions, x = net.predict(val_dataloader, mode=\"raw\", return_x=True, n_samples=100)"
   ]
  },
  {
   "cell_type": "code",
   "execution_count": 152,
   "id": "accessible-transport",
   "metadata": {},
   "outputs": [
    {
     "data": {
      "text/plain": [
       "tensor([5.1853e-06, 5.1297e-06, 5.1468e-06, 5.1264e-06, 5.1288e-06, 5.1316e-06,\n",
       "        5.1455e-06, 5.1548e-06, 5.1581e-06, 5.1335e-06, 5.1802e-06, 5.1501e-06,\n",
       "        5.1681e-06, 5.1436e-06, 5.1713e-06, 5.1298e-06, 5.1519e-06, 5.1295e-06,\n",
       "        5.1526e-06, 5.1538e-06])"
      ]
     },
     "execution_count": 152,
     "metadata": {},
     "output_type": "execute_result"
    }
   ],
   "source": [
    "predictions[0]"
   ]
  },
  {
   "cell_type": "code",
   "execution_count": 159,
   "id": "chronic-enough",
   "metadata": {},
   "outputs": [
    {
     "data": {
      "text/plain": [
       "torch.Size([188, 20, 100])"
      ]
     },
     "execution_count": 159,
     "metadata": {},
     "output_type": "execute_result"
    }
   ],
   "source": [
    "raw_predictions[0].shape"
   ]
  },
  {
   "cell_type": "code",
   "execution_count": 164,
   "id": "informative-serum",
   "metadata": {},
   "outputs": [
    {
     "data": {
      "text/plain": [
       "tensor([[5.3100e-06, 5.2200e-06, 5.1000e-06,  ..., 5.2100e-06, 5.1400e-06,\n",
       "         4.9600e-06],\n",
       "        [2.7000e-07, 2.6000e-07, 2.6000e-07,  ..., 2.6000e-07, 2.6000e-07,\n",
       "         2.5000e-07],\n",
       "        [3.1290e-05, 3.0650e-05, 2.8290e-05,  ..., 2.3830e-05, 2.4490e-05,\n",
       "         2.3090e-05],\n",
       "        ...,\n",
       "        [1.6018e-02, 1.6475e-02, 1.5200e-02,  ..., 1.1100e-02, 1.1253e-02,\n",
       "         1.1592e-02],\n",
       "        [9.2199e-02, 9.3900e-02, 8.6893e-02,  ..., 6.4395e-02, 6.9368e-02,\n",
       "         6.8205e-02],\n",
       "        [8.3800e-01, 8.4229e-01, 7.9298e-01,  ..., 6.8051e-01, 8.2645e-01,\n",
       "         8.8100e-01]])"
      ]
     },
     "execution_count": 164,
     "metadata": {},
     "output_type": "execute_result"
    }
   ],
   "source": [
    "x['encoder_target']"
   ]
  },
  {
   "cell_type": "code",
   "execution_count": 162,
   "id": "accurate-field",
   "metadata": {},
   "outputs": [
    {
     "data": {
      "image/png": "[encoded data removed]",
      "text/plain": [
       "<Figure size 432x288 with 1 Axes>"
      ]
     },
     "metadata": {
      "needs_background": "light"
     },
     "output_type": "display_data"
    },
    {
     "data": {
      "image/png": "[encoded data removed]",
      "text/plain": [
       "<Figure size 432x288 with 1 Axes>"
      ]
     },
     "metadata": {
      "needs_background": "light"
     },
     "output_type": "display_data"
    }
   ],
   "source": [
    "for idx in range(2):  # plot 10 examples\n",
    "    best_model.plot_prediction(x, raw_predictions, idx=idx, add_loss_to_title=True);"
   ]
  },
  {
   "cell_type": "code",
   "execution_count": null,
   "id": "constitutional-plaintiff",
   "metadata": {},
   "outputs": [],
   "source": []
  }
 ],
 "metadata": {
  "kernelspec": {
   "display_name": "Python 3",
   "language": "python",
   "name": "python3"
  },
  "language_info": {
   "codemirror_mode": {
    "name": "ipython",
    "version": 3
   },
   "file_extension": ".py",
   "mimetype": "text/x-python",
   "name": "python",
   "nbconvert_exporter": "python",
   "pygments_lexer": "ipython3",
   "version": "3.8.3"
  }
 },
 "nbformat": 4,
 "nbformat_minor": 5
}
