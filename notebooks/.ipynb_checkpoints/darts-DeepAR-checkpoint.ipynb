{
 "cells": [
  {
   "cell_type": "markdown",
   "id": "enormous-herald",
   "metadata": {},
   "source": [
    "### Probabilistic RNN\n",
    "* a probabilistic RNN can be used with darts. This type of RNN was inspired by, and is almost identical to DeepAR: https://arxiv.org/abs/1704.04110"
   ]
  },
  {
   "cell_type": "code",
   "execution_count": 1,
   "id": "narrow-station",
   "metadata": {},
   "outputs": [],
   "source": [
    "import pickle\n",
    "with open('../data/crypto_currency.pickle', 'rb') as f:\n",
    "    data = pickle.load(f)\n",
    "    \n",
    "BTC = data['KRW-BTC']\n",
    "# ETH = data['KRW-BTC'][['candle_date_time_kst', 'trade_price']]"
   ]
  },
  {
   "cell_type": "code",
   "execution_count": 10,
   "id": "charming-project",
   "metadata": {},
   "outputs": [],
   "source": [
    "import numpy as np\n",
    "import pandas as pd\n",
    "from tqdm import tqdm_notebook as tqdm\n",
    "import matplotlib.pyplot as plt\n",
    "\n",
    "from darts import TimeSeries\n",
    "from darts.dataprocessing.transformers import Scaler\n",
    "from darts.models import RNNModel\n",
    "from darts.metrics import mape, r2_score\n",
    "from darts.utils.statistics import check_seasonality, plot_acf\n",
    "from darts.utils.timeseries_generation import datetime_attribute_timeseries\n",
    "from darts.utils.likelihood_models import GaussianLikelihood\n",
    "\n",
    "import warnings\n",
    "warnings.filterwarnings('ignore')\n",
    "import logging\n",
    "\n",
    "logging.disable(logging.CRITICAL)"
   ]
  },
  {
   "cell_type": "code",
   "execution_count": 3,
   "id": "every-russia",
   "metadata": {},
   "outputs": [],
   "source": [
    "num_samples = 200\n",
    "figsize = (9, 6)"
   ]
  },
  {
   "cell_type": "code",
   "execution_count": 4,
   "id": "liquid-wheel",
   "metadata": {},
   "outputs": [],
   "source": [
    "cols = ['candle_date_time_kst', 'opening_price', 'high_price', 'low_price', \n",
    "        'trade_price', 'candle_acc_trade_price', 'candle_acc_trade_volume', \n",
    "        'prev_closing_price', 'change_price', 'change_rate', 'MA5', 'MA20', 'MA60']\n",
    "coin = data['KRW-BTC']\n",
    "coin.set_index(pd.to_datetime(coin['candle_date_time_kst']), inplace = True)\n",
    "coin = coin.drop(columns = ['candle_date_time_kst'])\n",
    "coin = coin[~coin.index.duplicated(keep = 'first')]\n",
    "series = TimeSeries.from_dataframe(coin,  value_cols = 'trade_price', fill_missing_dates=True, freq=None)"
   ]
  },
  {
   "cell_type": "code",
   "execution_count": 5,
   "id": "worst-disorder",
   "metadata": {},
   "outputs": [],
   "source": [
    "# Create training and validation sets:\n",
    "training_cutoff = pd.Timestamp(\"20220101\")\n",
    "train, val = series.split_after(training_cutoff)"
   ]
  },
  {
   "cell_type": "code",
   "execution_count": 6,
   "id": "permanent-intensity",
   "metadata": {},
   "outputs": [],
   "source": [
    "# Normalize the time series (note: we avoid fitting the transformer on the validation set)\n",
    "transformer = Scaler()\n",
    "train_transformed = transformer.fit_transform(train)\n",
    "val_transformed = transformer.transform(val)\n",
    "series_transformed = transformer.transform(series)"
   ]
  },
  {
   "cell_type": "markdown",
   "id": "operating-polish",
   "metadata": {},
   "source": [
    "### DeepAR"
   ]
  },
  {
   "cell_type": "code",
   "execution_count": 20,
   "id": "hearing-gasoline",
   "metadata": {},
   "outputs": [],
   "source": [
    "# add the day as a covariate\n",
    "day_series = datetime_attribute_timeseries(\n",
    "    series_transformed, attribute=\"day\", one_hot=True, dtype=np.float32\n",
    ")\n",
    "scaler_day = Scaler()\n",
    "day_series = scaler_day.fit_transform(day_series)\n",
    "train_day, val_day = day_series.split_after(training_cutoff)"
   ]
  },
  {
   "cell_type": "code",
   "execution_count": 21,
   "id": "neutral-entrance",
   "metadata": {},
   "outputs": [],
   "source": [
    "input_chunk_length = 24\n",
    "output_chunk_length=7\n",
    "\n",
    "my_model = RNNModel(\n",
    "    model=\"LSTM\",\n",
    "    hidden_dim=20,\n",
    "    dropout=0,\n",
    "    batch_size=16,\n",
    "    n_epochs=50,\n",
    "    optimizer_kwargs={\"lr\": 1e-3},\n",
    "    random_state=0,\n",
    "    training_length=50,\n",
    "    input_chunk_length= input_chunk_length,\n",
    "    likelihood=GaussianLikelihood(),\n",
    "    model_name = 'DeepAR-BTC'\n",
    ")"
   ]
  },
  {
   "cell_type": "code",
   "execution_count": 30,
   "id": "civilian-longer",
   "metadata": {},
   "outputs": [
    {
     "data": {
      "application/vnd.jupyter.widget-view+json": {
       "model_id": "e112fcb37a6e4dc6bc552166e4ef8115",
       "version_major": 2,
       "version_minor": 0
      },
      "text/plain": [
       "Training: 0it [00:00, ?it/s]"
      ]
     },
     "metadata": {},
     "output_type": "display_data"
    },
    {
     "data": {
      "text/plain": [
       "<darts.models.forecasting.rnn_model.RNNModel at 0x7fb8940927f0>"
      ]
     },
     "execution_count": 30,
     "metadata": {},
     "output_type": "execute_result"
    }
   ],
   "source": [
    "my_model.fit(\n",
    "    train_transformed, \n",
    "#     val_series = val_transformed,\n",
    "    future_covariates = day_series,\n",
    "    verbose=True\n",
    ")"
   ]
  },
  {
   "cell_type": "code",
   "execution_count": 37,
   "id": "vietnamese-timer",
   "metadata": {},
   "outputs": [
    {
     "data": {
      "application/vnd.jupyter.widget-view+json": {
       "model_id": "8ef3ba167ad14f58bd2443d9d0ac0b43",
       "version_major": 2,
       "version_minor": 0
      },
      "text/plain": [
       "Predicting: 95it [00:00, ?it/s]"
      ]
     },
     "metadata": {},
     "output_type": "display_data"
    },
    {
     "data": {
      "image/png": "[encoded data removed]",
      "text/plain": [
       "<Figure size 432x288 with 1 Axes>"
      ]
     },
     "metadata": {
      "needs_background": "light"
     },
     "output_type": "display_data"
    }
   ],
   "source": [
    "pred = my_model.predict(50, num_samples=100)\n",
    "val_transformed.slice_intersect(pred).plot(label=\"target\")\n",
    "pred.plot(label=\"prediction\")"
   ]
  },
  {
   "cell_type": "code",
   "execution_count": 38,
   "id": "respected-discovery",
   "metadata": {},
   "outputs": [
    {
     "data": {
      "application/vnd.jupyter.widget-view+json": {
       "model_id": "9d7447937d6942e885edb2f82d9c1c9f",
       "version_major": 2,
       "version_minor": 0
      },
      "text/plain": [
       "  0%|          | 0/92 [00:00<?, ?it/s]"
      ]
     },
     "metadata": {},
     "output_type": "display_data"
    },
    {
     "data": {
      "application/vnd.jupyter.widget-view+json": {
       "model_id": "9c6707ceb517469f904b9cc84df09dcd",
       "version_major": 2,
       "version_minor": 0
      },
      "text/plain": [
       "Predicting: 95it [00:00, ?it/s]"
      ]
     },
     "metadata": {},
     "output_type": "display_data"
    },
    {
     "data": {
      "application/vnd.jupyter.widget-view+json": {
       "model_id": "83a1babbd5a04459bfc58d68f61a8148",
       "version_major": 2,
       "version_minor": 0
      },
      "text/plain": [
       "Predicting: 95it [00:00, ?it/s]"
      ]
     },
     "metadata": {},
     "output_type": "display_data"
    },
    {
     "data": {
      "application/vnd.jupyter.widget-view+json": {
       "model_id": "37153a94f82547a497a20eb15d19b342",
       "version_major": 2,
       "version_minor": 0
      },
      "text/plain": [
       "Predicting: 95it [00:00, ?it/s]"
      ]
     },
     "metadata": {},
     "output_type": "display_data"
    },
    {
     "data": {
      "application/vnd.jupyter.widget-view+json": {
       "model_id": "319af432b1d049af9b0eaa6fa3396414",
       "version_major": 2,
       "version_minor": 0
      },
      "text/plain": [
       "Predicting: 95it [00:00, ?it/s]"
      ]
     },
     "metadata": {},
     "output_type": "display_data"
    },
    {
     "data": {
      "application/vnd.jupyter.widget-view+json": {
       "model_id": "96cb92c44e054b088fa91b8654d65e4b",
       "version_major": 2,
       "version_minor": 0
      },
      "text/plain": [
       "Predicting: 95it [00:00, ?it/s]"
      ]
     },
     "metadata": {},
     "output_type": "display_data"
    },
    {
     "data": {
      "application/vnd.jupyter.widget-view+json": {
       "model_id": "c22528cc22e94ffc9fee819ae95130b3",
       "version_major": 2,
       "version_minor": 0
      },
      "text/plain": [
       "Predicting: 95it [00:00, ?it/s]"
      ]
     },
     "metadata": {},
     "output_type": "display_data"
    },
    {
     "data": {
      "application/vnd.jupyter.widget-view+json": {
       "model_id": "37d56498eb6f4831bfe68c04c236f2ff",
       "version_major": 2,
       "version_minor": 0
      },
      "text/plain": [
       "Predicting: 95it [00:00, ?it/s]"
      ]
     },
     "metadata": {},
     "output_type": "display_data"
    },
    {
     "data": {
      "application/vnd.jupyter.widget-view+json": {
       "model_id": "408e3768e8504d3ab803ed6a1b6f8cf8",
       "version_major": 2,
       "version_minor": 0
      },
      "text/plain": [
       "Predicting: 95it [00:00, ?it/s]"
      ]
     },
     "metadata": {},
     "output_type": "display_data"
    },
    {
     "data": {
      "application/vnd.jupyter.widget-view+json": {
       "model_id": "d45bc76ef5de4656b57dde13a115655f",
       "version_major": 2,
       "version_minor": 0
      },
      "text/plain": [
       "Predicting: 95it [00:00, ?it/s]"
      ]
     },
     "metadata": {},
     "output_type": "display_data"
    },
    {
     "data": {
      "application/vnd.jupyter.widget-view+json": {
       "model_id": "bd7dc85ac2264f749f76bc84c9159ffd",
       "version_major": 2,
       "version_minor": 0
      },
      "text/plain": [
       "Predicting: 95it [00:00, ?it/s]"
      ]
     },
     "metadata": {},
     "output_type": "display_data"
    },
    {
     "data": {
      "application/vnd.jupyter.widget-view+json": {
       "model_id": "6c5c0734b59e410a91354da4577ea658",
       "version_major": 2,
       "version_minor": 0
      },
      "text/plain": [
       "Predicting: 95it [00:00, ?it/s]"
      ]
     },
     "metadata": {},
     "output_type": "display_data"
    },
    {
     "data": {
      "application/vnd.jupyter.widget-view+json": {
       "model_id": "a50179d2adab42f888acdf02125b969e",
       "version_major": 2,
       "version_minor": 0
      },
      "text/plain": [
       "Predicting: 95it [00:00, ?it/s]"
      ]
     },
     "metadata": {},
     "output_type": "display_data"
    },
    {
     "data": {
      "application/vnd.jupyter.widget-view+json": {
       "model_id": "387765f9ba5249848d435412de5ff298",
       "version_major": 2,
       "version_minor": 0
      },
      "text/plain": [
       "Predicting: 95it [00:00, ?it/s]"
      ]
     },
     "metadata": {},
     "output_type": "display_data"
    },
    {
     "data": {
      "application/vnd.jupyter.widget-view+json": {
       "model_id": "98bd8d5f89f24131a5ec126965475db8",
       "version_major": 2,
       "version_minor": 0
      },
      "text/plain": [
       "Predicting: 95it [00:00, ?it/s]"
      ]
     },
     "metadata": {},
     "output_type": "display_data"
    },
    {
     "data": {
      "application/vnd.jupyter.widget-view+json": {
       "model_id": "b3e062a2795a4acaadc088412be63de3",
       "version_major": 2,
       "version_minor": 0
      },
      "text/plain": [
       "Predicting: 95it [00:00, ?it/s]"
      ]
     },
     "metadata": {},
     "output_type": "display_data"
    },
    {
     "data": {
      "application/vnd.jupyter.widget-view+json": {
       "model_id": "753b076d7421493d8fa9ec4db261b364",
       "version_major": 2,
       "version_minor": 0
      },
      "text/plain": [
       "Predicting: 95it [00:00, ?it/s]"
      ]
     },
     "metadata": {},
     "output_type": "display_data"
    },
    {
     "data": {
      "application/vnd.jupyter.widget-view+json": {
       "model_id": "9bd996ce583e431e8a5918332488fd5a",
       "version_major": 2,
       "version_minor": 0
      },
      "text/plain": [
       "Predicting: 95it [00:00, ?it/s]"
      ]
     },
     "metadata": {},
     "output_type": "display_data"
    },
    {
     "data": {
      "application/vnd.jupyter.widget-view+json": {
       "model_id": "5f95f225d539453c98d51fbade935d9e",
       "version_major": 2,
       "version_minor": 0
      },
      "text/plain": [
       "Predicting: 95it [00:00, ?it/s]"
      ]
     },
     "metadata": {},
     "output_type": "display_data"
    },
    {
     "data": {
      "application/vnd.jupyter.widget-view+json": {
       "model_id": "6e93385d44484bf3a6b9026e9cd01267",
       "version_major": 2,
       "version_minor": 0
      },
      "text/plain": [
       "Predicting: 95it [00:00, ?it/s]"
      ]
     },
     "metadata": {},
     "output_type": "display_data"
    },
    {
     "data": {
      "application/vnd.jupyter.widget-view+json": {
       "model_id": "dbebf68105bf46699724abed13ad2e64",
       "version_major": 2,
       "version_minor": 0
      },
      "text/plain": [
       "Predicting: 95it [00:00, ?it/s]"
      ]
     },
     "metadata": {},
     "output_type": "display_data"
    },
    {
     "data": {
      "application/vnd.jupyter.widget-view+json": {
       "model_id": "e7fe9d5583fd4df4bcabcec9450231a9",
       "version_major": 2,
       "version_minor": 0
      },
      "text/plain": [
       "Predicting: 95it [00:00, ?it/s]"
      ]
     },
     "metadata": {},
     "output_type": "display_data"
    },
    {
     "data": {
      "application/vnd.jupyter.widget-view+json": {
       "model_id": "dcc339fc8b3e47ccbbd5086af955fb49",
       "version_major": 2,
       "version_minor": 0
      },
      "text/plain": [
       "Predicting: 95it [00:00, ?it/s]"
      ]
     },
     "metadata": {},
     "output_type": "display_data"
    },
    {
     "data": {
      "application/vnd.jupyter.widget-view+json": {
       "model_id": "eafc2732926c46bcb81b39b1115273b4",
       "version_major": 2,
       "version_minor": 0
      },
      "text/plain": [
       "Predicting: 95it [00:00, ?it/s]"
      ]
     },
     "metadata": {},
     "output_type": "display_data"
    },
    {
     "data": {
      "application/vnd.jupyter.widget-view+json": {
       "model_id": "eb343bbed59d469699b94fe3146a1400",
       "version_major": 2,
       "version_minor": 0
      },
      "text/plain": [
       "Predicting: 95it [00:00, ?it/s]"
      ]
     },
     "metadata": {},
     "output_type": "display_data"
    },
    {
     "data": {
      "application/vnd.jupyter.widget-view+json": {
       "model_id": "846ace70a95c4dd9831916120524cef4",
       "version_major": 2,
       "version_minor": 0
      },
      "text/plain": [
       "Predicting: 95it [00:00, ?it/s]"
      ]
     },
     "metadata": {},
     "output_type": "display_data"
    },
    {
     "data": {
      "application/vnd.jupyter.widget-view+json": {
       "model_id": "0b9ece4e357a433aa9cd91cfeb922172",
       "version_major": 2,
       "version_minor": 0
      },
      "text/plain": [
       "Predicting: 95it [00:00, ?it/s]"
      ]
     },
     "metadata": {},
     "output_type": "display_data"
    },
    {
     "data": {
      "application/vnd.jupyter.widget-view+json": {
       "model_id": "ec07e24014ac4de6b2554f7467791c14",
       "version_major": 2,
       "version_minor": 0
      },
      "text/plain": [
       "Predicting: 95it [00:00, ?it/s]"
      ]
     },
     "metadata": {},
     "output_type": "display_data"
    },
    {
     "data": {
      "application/vnd.jupyter.widget-view+json": {
       "model_id": "ea192ee137bf4cf185f19e9167abdd88",
       "version_major": 2,
       "version_minor": 0
      },
      "text/plain": [
       "Predicting: 95it [00:00, ?it/s]"
      ]
     },
     "metadata": {},
     "output_type": "display_data"
    },
    {
     "data": {
      "application/vnd.jupyter.widget-view+json": {
       "model_id": "7655923cfef04ed9a98cc79d645dcabc",
       "version_major": 2,
       "version_minor": 0
      },
      "text/plain": [
       "Predicting: 95it [00:00, ?it/s]"
      ]
     },
     "metadata": {},
     "output_type": "display_data"
    },
    {
     "data": {
      "application/vnd.jupyter.widget-view+json": {
       "model_id": "8e9c16325736458da57b6f9dbc0112b5",
       "version_major": 2,
       "version_minor": 0
      },
      "text/plain": [
       "Predicting: 95it [00:00, ?it/s]"
      ]
     },
     "metadata": {},
     "output_type": "display_data"
    },
    {
     "data": {
      "application/vnd.jupyter.widget-view+json": {
       "model_id": "c66f8002417148af8868f4c139ec02dd",
       "version_major": 2,
       "version_minor": 0
      },
      "text/plain": [
       "Predicting: 95it [00:00, ?it/s]"
      ]
     },
     "metadata": {},
     "output_type": "display_data"
    },
    {
     "data": {
      "application/vnd.jupyter.widget-view+json": {
       "model_id": "4259b1a25f2a4fe39f221ed3177c1e66",
       "version_major": 2,
       "version_minor": 0
      },
      "text/plain": [
       "Predicting: 95it [00:00, ?it/s]"
      ]
     },
     "metadata": {},
     "output_type": "display_data"
    },
    {
     "data": {
      "application/vnd.jupyter.widget-view+json": {
       "model_id": "85b4df7924eb4d22ad71ced7c2d03137",
       "version_major": 2,
       "version_minor": 0
      },
      "text/plain": [
       "Predicting: 95it [00:00, ?it/s]"
      ]
     },
     "metadata": {},
     "output_type": "display_data"
    },
    {
     "data": {
      "application/vnd.jupyter.widget-view+json": {
       "model_id": "25a80e3d5a5c4221b9c5c6909a0ee688",
       "version_major": 2,
       "version_minor": 0
      },
      "text/plain": [
       "Predicting: 95it [00:00, ?it/s]"
      ]
     },
     "metadata": {},
     "output_type": "display_data"
    },
    {
     "data": {
      "application/vnd.jupyter.widget-view+json": {
       "model_id": "fde34c0700094433a6246dc4deee9aaf",
       "version_major": 2,
       "version_minor": 0
      },
      "text/plain": [
       "Predicting: 95it [00:00, ?it/s]"
      ]
     },
     "metadata": {},
     "output_type": "display_data"
    },
    {
     "data": {
      "application/vnd.jupyter.widget-view+json": {
       "model_id": "d830d8783a3e48f185dfd3fb92e7beda",
       "version_major": 2,
       "version_minor": 0
      },
      "text/plain": [
       "Predicting: 95it [00:00, ?it/s]"
      ]
     },
     "metadata": {},
     "output_type": "display_data"
    },
    {
     "data": {
      "application/vnd.jupyter.widget-view+json": {
       "model_id": "957581c922a64080addde34f2c9dfc90",
       "version_major": 2,
       "version_minor": 0
      },
      "text/plain": [
       "Predicting: 95it [00:00, ?it/s]"
      ]
     },
     "metadata": {},
     "output_type": "display_data"
    },
    {
     "data": {
      "application/vnd.jupyter.widget-view+json": {
       "model_id": "8dbf219eda9d4f51abc62387933887d6",
       "version_major": 2,
       "version_minor": 0
      },
      "text/plain": [
       "Predicting: 95it [00:00, ?it/s]"
      ]
     },
     "metadata": {},
     "output_type": "display_data"
    },
    {
     "data": {
      "application/vnd.jupyter.widget-view+json": {
       "model_id": "20c38ce83e2c4af4a6aad0f43c5b69ef",
       "version_major": 2,
       "version_minor": 0
      },
      "text/plain": [
       "Predicting: 95it [00:00, ?it/s]"
      ]
     },
     "metadata": {},
     "output_type": "display_data"
    },
    {
     "data": {
      "application/vnd.jupyter.widget-view+json": {
       "model_id": "a2f1a5bc4eb3484c8fb5160c9b8532bf",
       "version_major": 2,
       "version_minor": 0
      },
      "text/plain": [
       "Predicting: 95it [00:00, ?it/s]"
      ]
     },
     "metadata": {},
     "output_type": "display_data"
    },
    {
     "data": {
      "application/vnd.jupyter.widget-view+json": {
       "model_id": "b2995fccf7ff4e008743a7ffae06bd8a",
       "version_major": 2,
       "version_minor": 0
      },
      "text/plain": [
       "Predicting: 95it [00:00, ?it/s]"
      ]
     },
     "metadata": {},
     "output_type": "display_data"
    },
    {
     "data": {
      "application/vnd.jupyter.widget-view+json": {
       "model_id": "93be2e7f5ae84a7eb234a6d3199b2290",
       "version_major": 2,
       "version_minor": 0
      },
      "text/plain": [
       "Predicting: 95it [00:00, ?it/s]"
      ]
     },
     "metadata": {},
     "output_type": "display_data"
    },
    {
     "data": {
      "application/vnd.jupyter.widget-view+json": {
       "model_id": "f01edc28b70a4b90b286917bf824e78f",
       "version_major": 2,
       "version_minor": 0
      },
      "text/plain": [
       "Predicting: 95it [00:00, ?it/s]"
      ]
     },
     "metadata": {},
     "output_type": "display_data"
    },
    {
     "data": {
      "application/vnd.jupyter.widget-view+json": {
       "model_id": "411ec2c314d24291937534ad924b5f7b",
       "version_major": 2,
       "version_minor": 0
      },
      "text/plain": [
       "Predicting: 95it [00:00, ?it/s]"
      ]
     },
     "metadata": {},
     "output_type": "display_data"
    },
    {
     "data": {
      "application/vnd.jupyter.widget-view+json": {
       "model_id": "95c1a156a5aa4f199e08f85062009363",
       "version_major": 2,
       "version_minor": 0
      },
      "text/plain": [
       "Predicting: 95it [00:00, ?it/s]"
      ]
     },
     "metadata": {},
     "output_type": "display_data"
    },
    {
     "data": {
      "application/vnd.jupyter.widget-view+json": {
       "model_id": "536bdfeff8e94c43b4e9c44f3ffcc0a6",
       "version_major": 2,
       "version_minor": 0
      },
      "text/plain": [
       "Predicting: 95it [00:00, ?it/s]"
      ]
     },
     "metadata": {},
     "output_type": "display_data"
    },
    {
     "data": {
      "application/vnd.jupyter.widget-view+json": {
       "model_id": "b3f81d7fa4ca4618a5bbb918145aaf86",
       "version_major": 2,
       "version_minor": 0
      },
      "text/plain": [
       "Predicting: 95it [00:00, ?it/s]"
      ]
     },
     "metadata": {},
     "output_type": "display_data"
    },
    {
     "data": {
      "application/vnd.jupyter.widget-view+json": {
       "model_id": "48ba94fa253245fc815220c2a34d2780",
       "version_major": 2,
       "version_minor": 0
      },
      "text/plain": [
       "Predicting: 95it [00:00, ?it/s]"
      ]
     },
     "metadata": {},
     "output_type": "display_data"
    },
    {
     "data": {
      "application/vnd.jupyter.widget-view+json": {
       "model_id": "cee3e41e92e046d09e6e7f38972663ff",
       "version_major": 2,
       "version_minor": 0
      },
      "text/plain": [
       "Predicting: 95it [00:00, ?it/s]"
      ]
     },
     "metadata": {},
     "output_type": "display_data"
    },
    {
     "data": {
      "application/vnd.jupyter.widget-view+json": {
       "model_id": "aa2d9cdd41f74973b47753ad00f05cac",
       "version_major": 2,
       "version_minor": 0
      },
      "text/plain": [
       "Predicting: 95it [00:00, ?it/s]"
      ]
     },
     "metadata": {},
     "output_type": "display_data"
    },
    {
     "data": {
      "application/vnd.jupyter.widget-view+json": {
       "model_id": "12a9b237c2984c69970c82e011a8c5d2",
       "version_major": 2,
       "version_minor": 0
      },
      "text/plain": [
       "Predicting: 95it [00:00, ?it/s]"
      ]
     },
     "metadata": {},
     "output_type": "display_data"
    },
    {
     "data": {
      "application/vnd.jupyter.widget-view+json": {
       "model_id": "dec52b619fbc4322b2fd04e36e6ee8c1",
       "version_major": 2,
       "version_minor": 0
      },
      "text/plain": [
       "Predicting: 95it [00:00, ?it/s]"
      ]
     },
     "metadata": {},
     "output_type": "display_data"
    },
    {
     "data": {
      "application/vnd.jupyter.widget-view+json": {
       "model_id": "023ce4361e064585a8e6d20902b4034e",
       "version_major": 2,
       "version_minor": 0
      },
      "text/plain": [
       "Predicting: 95it [00:00, ?it/s]"
      ]
     },
     "metadata": {},
     "output_type": "display_data"
    },
    {
     "data": {
      "application/vnd.jupyter.widget-view+json": {
       "model_id": "5adf4093d9e74028a9ddd105d3a2a4fe",
       "version_major": 2,
       "version_minor": 0
      },
      "text/plain": [
       "Predicting: 95it [00:00, ?it/s]"
      ]
     },
     "metadata": {},
     "output_type": "display_data"
    },
    {
     "data": {
      "application/vnd.jupyter.widget-view+json": {
       "model_id": "aef8ac4d671144869c297fa9352c9b09",
       "version_major": 2,
       "version_minor": 0
      },
      "text/plain": [
       "Predicting: 95it [00:00, ?it/s]"
      ]
     },
     "metadata": {},
     "output_type": "display_data"
    },
    {
     "data": {
      "application/vnd.jupyter.widget-view+json": {
       "model_id": "00b555ff04af4439b14a376484a4f191",
       "version_major": 2,
       "version_minor": 0
      },
      "text/plain": [
       "Predicting: 95it [00:00, ?it/s]"
      ]
     },
     "metadata": {},
     "output_type": "display_data"
    },
    {
     "data": {
      "application/vnd.jupyter.widget-view+json": {
       "model_id": "f9f58571ddaa44f2853ffaeef75c658a",
       "version_major": 2,
       "version_minor": 0
      },
      "text/plain": [
       "Predicting: 95it [00:00, ?it/s]"
      ]
     },
     "metadata": {},
     "output_type": "display_data"
    },
    {
     "data": {
      "application/vnd.jupyter.widget-view+json": {
       "model_id": "e5cc51fd06f04307960714566eef7f26",
       "version_major": 2,
       "version_minor": 0
      },
      "text/plain": [
       "Predicting: 95it [00:00, ?it/s]"
      ]
     },
     "metadata": {},
     "output_type": "display_data"
    },
    {
     "data": {
      "application/vnd.jupyter.widget-view+json": {
       "model_id": "156a012e7dcf4d539d58217a1532262f",
       "version_major": 2,
       "version_minor": 0
      },
      "text/plain": [
       "Predicting: 95it [00:00, ?it/s]"
      ]
     },
     "metadata": {},
     "output_type": "display_data"
    },
    {
     "data": {
      "application/vnd.jupyter.widget-view+json": {
       "model_id": "386e9c35c3c7414f864b769d53450240",
       "version_major": 2,
       "version_minor": 0
      },
      "text/plain": [
       "Predicting: 95it [00:00, ?it/s]"
      ]
     },
     "metadata": {},
     "output_type": "display_data"
    },
    {
     "data": {
      "application/vnd.jupyter.widget-view+json": {
       "model_id": "9f08c8c370304f069afe11913085b7df",
       "version_major": 2,
       "version_minor": 0
      },
      "text/plain": [
       "Predicting: 95it [00:00, ?it/s]"
      ]
     },
     "metadata": {},
     "output_type": "display_data"
    },
    {
     "data": {
      "application/vnd.jupyter.widget-view+json": {
       "model_id": "72527c52d21a4e2686e7a5cb9397e01b",
       "version_major": 2,
       "version_minor": 0
      },
      "text/plain": [
       "Predicting: 95it [00:00, ?it/s]"
      ]
     },
     "metadata": {},
     "output_type": "display_data"
    },
    {
     "data": {
      "application/vnd.jupyter.widget-view+json": {
       "model_id": "1618583838aa4c2caba97f594b9b6b1b",
       "version_major": 2,
       "version_minor": 0
      },
      "text/plain": [
       "Predicting: 95it [00:00, ?it/s]"
      ]
     },
     "metadata": {},
     "output_type": "display_data"
    },
    {
     "data": {
      "application/vnd.jupyter.widget-view+json": {
       "model_id": "97692e903a7a4f238f700570bc084c61",
       "version_major": 2,
       "version_minor": 0
      },
      "text/plain": [
       "Predicting: 95it [00:00, ?it/s]"
      ]
     },
     "metadata": {},
     "output_type": "display_data"
    },
    {
     "data": {
      "application/vnd.jupyter.widget-view+json": {
       "model_id": "e9b9e6c687ef42c1817f596008cdb775",
       "version_major": 2,
       "version_minor": 0
      },
      "text/plain": [
       "Predicting: 95it [00:00, ?it/s]"
      ]
     },
     "metadata": {},
     "output_type": "display_data"
    },
    {
     "data": {
      "application/vnd.jupyter.widget-view+json": {
       "model_id": "6d6039b143b247edbe7e3e90ab484763",
       "version_major": 2,
       "version_minor": 0
      },
      "text/plain": [
       "Predicting: 95it [00:00, ?it/s]"
      ]
     },
     "metadata": {},
     "output_type": "display_data"
    },
    {
     "data": {
      "application/vnd.jupyter.widget-view+json": {
       "model_id": "2857649d07c84fb18ff63acb06bec588",
       "version_major": 2,
       "version_minor": 0
      },
      "text/plain": [
       "Predicting: 95it [00:00, ?it/s]"
      ]
     },
     "metadata": {},
     "output_type": "display_data"
    },
    {
     "data": {
      "application/vnd.jupyter.widget-view+json": {
       "model_id": "aab5b4d14ffe4b9d96a4cb0c8f3e6410",
       "version_major": 2,
       "version_minor": 0
      },
      "text/plain": [
       "Predicting: 95it [00:00, ?it/s]"
      ]
     },
     "metadata": {},
     "output_type": "display_data"
    },
    {
     "data": {
      "application/vnd.jupyter.widget-view+json": {
       "model_id": "e4cffb766da249458f6f71edae1a1142",
       "version_major": 2,
       "version_minor": 0
      },
      "text/plain": [
       "Predicting: 95it [00:00, ?it/s]"
      ]
     },
     "metadata": {},
     "output_type": "display_data"
    },
    {
     "data": {
      "application/vnd.jupyter.widget-view+json": {
       "model_id": "cf7aa54132294d5ca30e75f3065510d2",
       "version_major": 2,
       "version_minor": 0
      },
      "text/plain": [
       "Predicting: 95it [00:00, ?it/s]"
      ]
     },
     "metadata": {},
     "output_type": "display_data"
    },
    {
     "data": {
      "application/vnd.jupyter.widget-view+json": {
       "model_id": "4bc7477e06554c63966131ad31cf2dbd",
       "version_major": 2,
       "version_minor": 0
      },
      "text/plain": [
       "Predicting: 95it [00:00, ?it/s]"
      ]
     },
     "metadata": {},
     "output_type": "display_data"
    },
    {
     "data": {
      "application/vnd.jupyter.widget-view+json": {
       "model_id": "f95b3d75d81246f782207277bdae762c",
       "version_major": 2,
       "version_minor": 0
      },
      "text/plain": [
       "Predicting: 95it [00:00, ?it/s]"
      ]
     },
     "metadata": {},
     "output_type": "display_data"
    },
    {
     "data": {
      "application/vnd.jupyter.widget-view+json": {
       "model_id": "5fb16341e5054b14911382272fa818e0",
       "version_major": 2,
       "version_minor": 0
      },
      "text/plain": [
       "Predicting: 95it [00:00, ?it/s]"
      ]
     },
     "metadata": {},
     "output_type": "display_data"
    },
    {
     "data": {
      "application/vnd.jupyter.widget-view+json": {
       "model_id": "c33c2acf7b584480a060bfde6888db66",
       "version_major": 2,
       "version_minor": 0
      },
      "text/plain": [
       "Predicting: 95it [00:00, ?it/s]"
      ]
     },
     "metadata": {},
     "output_type": "display_data"
    },
    {
     "data": {
      "application/vnd.jupyter.widget-view+json": {
       "model_id": "d12ba548f23d4f2db95e4474690ee0fa",
       "version_major": 2,
       "version_minor": 0
      },
      "text/plain": [
       "Predicting: 95it [00:00, ?it/s]"
      ]
     },
     "metadata": {},
     "output_type": "display_data"
    },
    {
     "data": {
      "application/vnd.jupyter.widget-view+json": {
       "model_id": "1e5c8e056a9741169966a063935b45e0",
       "version_major": 2,
       "version_minor": 0
      },
      "text/plain": [
       "Predicting: 95it [00:00, ?it/s]"
      ]
     },
     "metadata": {},
     "output_type": "display_data"
    },
    {
     "data": {
      "application/vnd.jupyter.widget-view+json": {
       "model_id": "351757862e1c4f858e8d5df294e360c3",
       "version_major": 2,
       "version_minor": 0
      },
      "text/plain": [
       "Predicting: 95it [00:00, ?it/s]"
      ]
     },
     "metadata": {},
     "output_type": "display_data"
    },
    {
     "data": {
      "application/vnd.jupyter.widget-view+json": {
       "model_id": "5a7c004b8f744757853af5baf789eef6",
       "version_major": 2,
       "version_minor": 0
      },
      "text/plain": [
       "Predicting: 95it [00:00, ?it/s]"
      ]
     },
     "metadata": {},
     "output_type": "display_data"
    },
    {
     "data": {
      "application/vnd.jupyter.widget-view+json": {
       "model_id": "5a1069dd2b274cb393f2c813ecd85d13",
       "version_major": 2,
       "version_minor": 0
      },
      "text/plain": [
       "Predicting: 95it [00:00, ?it/s]"
      ]
     },
     "metadata": {},
     "output_type": "display_data"
    },
    {
     "data": {
      "application/vnd.jupyter.widget-view+json": {
       "model_id": "5e0ce5c03f504a12b72543ff5476f674",
       "version_major": 2,
       "version_minor": 0
      },
      "text/plain": [
       "Predicting: 95it [00:00, ?it/s]"
      ]
     },
     "metadata": {},
     "output_type": "display_data"
    },
    {
     "data": {
      "application/vnd.jupyter.widget-view+json": {
       "model_id": "2eeb81d927fc4112aa7daaee1e3fd7fa",
       "version_major": 2,
       "version_minor": 0
      },
      "text/plain": [
       "Predicting: 95it [00:00, ?it/s]"
      ]
     },
     "metadata": {},
     "output_type": "display_data"
    },
    {
     "data": {
      "application/vnd.jupyter.widget-view+json": {
       "model_id": "103f8db699b14affb6719666aab8eed5",
       "version_major": 2,
       "version_minor": 0
      },
      "text/plain": [
       "Predicting: 95it [00:00, ?it/s]"
      ]
     },
     "metadata": {},
     "output_type": "display_data"
    },
    {
     "data": {
      "application/vnd.jupyter.widget-view+json": {
       "model_id": "c33db582edf0468b82463098515a6a58",
       "version_major": 2,
       "version_minor": 0
      },
      "text/plain": [
       "Predicting: 95it [00:00, ?it/s]"
      ]
     },
     "metadata": {},
     "output_type": "display_data"
    },
    {
     "data": {
      "application/vnd.jupyter.widget-view+json": {
       "model_id": "7028eb1492d2423b91b31e55af736340",
       "version_major": 2,
       "version_minor": 0
      },
      "text/plain": [
       "Predicting: 95it [00:00, ?it/s]"
      ]
     },
     "metadata": {},
     "output_type": "display_data"
    },
    {
     "data": {
      "application/vnd.jupyter.widget-view+json": {
       "model_id": "2b2e5dfb81064695976fea35ac019779",
       "version_major": 2,
       "version_minor": 0
      },
      "text/plain": [
       "Predicting: 95it [00:00, ?it/s]"
      ]
     },
     "metadata": {},
     "output_type": "display_data"
    },
    {
     "data": {
      "application/vnd.jupyter.widget-view+json": {
       "model_id": "82deb47a9b0a41bf8b82a07ef944895c",
       "version_major": 2,
       "version_minor": 0
      },
      "text/plain": [
       "Predicting: 95it [00:00, ?it/s]"
      ]
     },
     "metadata": {},
     "output_type": "display_data"
    },
    {
     "data": {
      "application/vnd.jupyter.widget-view+json": {
       "model_id": "fd4cd7579c22453b8b2bb856563d3d3d",
       "version_major": 2,
       "version_minor": 0
      },
      "text/plain": [
       "Predicting: 95it [00:00, ?it/s]"
      ]
     },
     "metadata": {},
     "output_type": "display_data"
    },
    {
     "data": {
      "application/vnd.jupyter.widget-view+json": {
       "model_id": "d4b5ea8e4f9442ccb038166890471c7f",
       "version_major": 2,
       "version_minor": 0
      },
      "text/plain": [
       "Predicting: 95it [00:00, ?it/s]"
      ]
     },
     "metadata": {},
     "output_type": "display_data"
    },
    {
     "data": {
      "application/vnd.jupyter.widget-view+json": {
       "model_id": "6d01ccbc1e424fa1a70230fa4233e684",
       "version_major": 2,
       "version_minor": 0
      },
      "text/plain": [
       "Predicting: 95it [00:00, ?it/s]"
      ]
     },
     "metadata": {},
     "output_type": "display_data"
    },
    {
     "data": {
      "application/vnd.jupyter.widget-view+json": {
       "model_id": "5fab9e0ebc804d0cb3b722c935bc00e7",
       "version_major": 2,
       "version_minor": 0
      },
      "text/plain": [
       "Predicting: 95it [00:00, ?it/s]"
      ]
     },
     "metadata": {},
     "output_type": "display_data"
    },
    {
     "data": {
      "application/vnd.jupyter.widget-view+json": {
       "model_id": "8f942de2ae0f47f4bebcb40761f45452",
       "version_major": 2,
       "version_minor": 0
      },
      "text/plain": [
       "Predicting: 95it [00:00, ?it/s]"
      ]
     },
     "metadata": {},
     "output_type": "display_data"
    },
    {
     "data": {
      "application/vnd.jupyter.widget-view+json": {
       "model_id": "52023da11de74052bb1e706b214b1675",
       "version_major": 2,
       "version_minor": 0
      },
      "text/plain": [
       "Predicting: 95it [00:00, ?it/s]"
      ]
     },
     "metadata": {},
     "output_type": "display_data"
    }
   ],
   "source": [
    "backtest = my_model.historical_forecasts(\n",
    "    series=series_transformed,\n",
    "    future_covariates=day_series,\n",
    "    num_samples=50,\n",
    "    start=0.7,\n",
    "    forecast_horizon=30,\n",
    "    stride=5,\n",
    "    retrain=False,\n",
    "    verbose=True,\n",
    ")"
   ]
  },
  {
   "cell_type": "code",
   "execution_count": 39,
   "id": "opened-china",
   "metadata": {},
   "outputs": [
    {
     "data": {
      "text/plain": [
       "<matplotlib.legend.Legend at 0x7fb858262dc0>"
      ]
     },
     "execution_count": 39,
     "metadata": {},
     "output_type": "execute_result"
    },
    {
     "data": {
      "image/png": "[encoded data removed]",
      "text/plain": [
       "<Figure size 720x432 with 1 Axes>"
      ]
     },
     "metadata": {
      "needs_background": "light"
     },
     "output_type": "display_data"
    }
   ],
   "source": [
    "plt.figure(figsize=(10, 6))\n",
    "series_transformed[1000:].plot(label=\"actual\")\n",
    "backtest.plot(label=\"backtest (H=30)\", low_quantile=0.01, high_quantile=0.99)\n",
    "plt.legend()"
   ]
  },
  {
   "cell_type": "code",
   "execution_count": null,
   "id": "herbal-basement",
   "metadata": {},
   "outputs": [],
   "source": []
  }
 ],
 "metadata": {
  "kernelspec": {
   "display_name": "Python 3",
   "language": "python",
   "name": "python3"
  },
  "language_info": {
   "codemirror_mode": {
    "name": "ipython",
    "version": 3
   },
   "file_extension": ".py",
   "mimetype": "text/x-python",
   "name": "python",
   "nbconvert_exporter": "python",
   "pygments_lexer": "ipython3",
   "version": "3.8.3"
  }
 },
 "nbformat": 4,
 "nbformat_minor": 5
}
