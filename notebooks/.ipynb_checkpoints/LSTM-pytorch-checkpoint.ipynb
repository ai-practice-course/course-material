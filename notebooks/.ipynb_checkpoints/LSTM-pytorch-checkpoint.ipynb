{
 "cells": [
  {
   "cell_type": "code",
   "execution_count": null,
   "id": "vocational-evolution",
   "metadata": {},
   "outputs": [],
   "source": [
    "# https://hongl.tistory.com/247"
   ]
  },
  {
   "cell_type": "code",
   "execution_count": 1,
   "id": "devoted-wichita",
   "metadata": {},
   "outputs": [],
   "source": [
    "import torch\n",
    "import torch.nn as nn\n",
    "\n",
    "import numpy as np\n",
    "import pandas as pd\n",
    "import matplotlib.pyplot as plt\n",
    "\n",
    "from torch.autograd import Variable\n",
    "from sklearn.preprocessing import MinMaxScaler\n",
    "from sklearn.model_selection import train_test_split\n",
    "from torch.utils.data import TensorDataset, DataLoader\n",
    "\n",
    "import pickle"
   ]
  },
  {
   "cell_type": "code",
   "execution_count": 2,
   "id": "circular-tuition",
   "metadata": {},
   "outputs": [],
   "source": [
    "with open('../data/crypto_currency.pickle', 'rb') as f:\n",
    "    data = pickle.load(f)"
   ]
  },
  {
   "cell_type": "code",
   "execution_count": 46,
   "id": "private-upset",
   "metadata": {},
   "outputs": [],
   "source": [
    "coin = data['KRW-ETH'][['candle_date_time_kst', 'trade_price']]"
   ]
  },
  {
   "cell_type": "code",
   "execution_count": 47,
   "id": "illegal-passion",
   "metadata": {},
   "outputs": [
    {
     "data": {
      "text/html": [
       "<div>\n",
       "<style scoped>\n",
       "    .dataframe tbody tr th:only-of-type {\n",
       "        vertical-align: middle;\n",
       "    }\n",
       "\n",
       "    .dataframe tbody tr th {\n",
       "        vertical-align: top;\n",
       "    }\n",
       "\n",
       "    .dataframe thead th {\n",
       "        text-align: right;\n",
       "    }\n",
       "</style>\n",
       "<table border=\"1\" class=\"dataframe\">\n",
       "  <thead>\n",
       "    <tr style=\"text-align: right;\">\n",
       "      <th></th>\n",
       "      <th>candle_date_time_kst</th>\n",
       "      <th>trade_price</th>\n",
       "    </tr>\n",
       "  </thead>\n",
       "  <tbody>\n",
       "    <tr>\n",
       "      <th>17</th>\n",
       "      <td>2017-09-25T09:00:00</td>\n",
       "      <td>325000.0</td>\n",
       "    </tr>\n",
       "    <tr>\n",
       "      <th>16</th>\n",
       "      <td>2017-09-26T09:00:00</td>\n",
       "      <td>321500.0</td>\n",
       "    </tr>\n",
       "    <tr>\n",
       "      <th>15</th>\n",
       "      <td>2017-09-27T09:00:00</td>\n",
       "      <td>342500.0</td>\n",
       "    </tr>\n",
       "    <tr>\n",
       "      <th>14</th>\n",
       "      <td>2017-09-28T09:00:00</td>\n",
       "      <td>332500.0</td>\n",
       "    </tr>\n",
       "    <tr>\n",
       "      <th>13</th>\n",
       "      <td>2017-09-29T09:00:00</td>\n",
       "      <td>327500.0</td>\n",
       "    </tr>\n",
       "  </tbody>\n",
       "</table>\n",
       "</div>"
      ],
      "text/plain": [
       "   candle_date_time_kst  trade_price\n",
       "17  2017-09-25T09:00:00     325000.0\n",
       "16  2017-09-26T09:00:00     321500.0\n",
       "15  2017-09-27T09:00:00     342500.0\n",
       "14  2017-09-28T09:00:00     332500.0\n",
       "13  2017-09-29T09:00:00     327500.0"
      ]
     },
     "execution_count": 47,
     "metadata": {},
     "output_type": "execute_result"
    }
   ],
   "source": [
    "coin.head()"
   ]
  },
  {
   "cell_type": "code",
   "execution_count": 48,
   "id": "occupational-anime",
   "metadata": {},
   "outputs": [],
   "source": [
    "sc = MinMaxScaler()\n",
    "training_data = sc.fit_transform(coin[['trade_price']])"
   ]
  },
  {
   "cell_type": "code",
   "execution_count": 49,
   "id": "geographic-preserve",
   "metadata": {},
   "outputs": [],
   "source": [
    "def sliding_windows(data, seq_length):\n",
    "    x = []\n",
    "    y = []\n",
    "    \n",
    "    for i in range(len(data) - seq_length - 1):\n",
    "        _x = data[i: (i + seq_length)]\n",
    "        _y = data[i + seq_length]\n",
    "        x.append(_x)\n",
    "        y.append(_y)\n",
    "    return np.array(x), np.array(y)"
   ]
  },
  {
   "cell_type": "code",
   "execution_count": 50,
   "id": "ambient-button",
   "metadata": {},
   "outputs": [],
   "source": [
    "seq_length = 4\n",
    "x, y = sliding_windows(training_data, seq_length)"
   ]
  },
  {
   "cell_type": "code",
   "execution_count": 51,
   "id": "juvenile-grocery",
   "metadata": {},
   "outputs": [],
   "source": [
    "class LSTM(nn.Module):\n",
    "    def __init__(self, num_classes, input_size, hidden_size, num_layers):\n",
    "        super(LSTM, self).__init__()\n",
    "        self.num_classes = num_classes\n",
    "        self.num_layers = num_layers\n",
    "        self.input_size = input_size\n",
    "        self.hidden_size = hidden_size\n",
    "        self.seq_length = seq_length\n",
    "        \n",
    "        self.lstm = nn.LSTM(input_size = input_size, hidden_size = hidden_size,\n",
    "                            num_layers = num_layers, batch_first = True)\n",
    "        \n",
    "        self.fc = nn.Linear(hidden_size , num_classes)\n",
    "        \n",
    "    def forward(self, x):\n",
    "        h_0 = Variable(torch.zeros(self.num_layers, x.size(0), self.hidden_size))\n",
    "        c_0 = Variable(torch.zeros(self.num_layers, x.size(0), self.hidden_size))\n",
    "        \n",
    "        # Propagate input through LSTM\n",
    "        ula, (h_out, _) = self.lstm(x, (h_0, c_0))\n",
    "        h_out = h_out.view(-1, self.hidden_size)\n",
    "        \n",
    "        out = self.fc(h_out)\n",
    "        \n",
    "        return out"
   ]
  },
  {
   "cell_type": "code",
   "execution_count": 52,
   "id": "based-anthropology",
   "metadata": {},
   "outputs": [],
   "source": [
    "num_epochs = 2000\n",
    "learning_rate = .01\n",
    "\n",
    "input_size = 1\n",
    "hidden_size = 2\n",
    "num_layers = 1\n",
    "num_classes = 1\n",
    "\n",
    "lstm = LSTM(num_classes, input_size, hidden_size, num_layers)\n",
    "\n",
    "criterion = torch.nn.MSELoss() # mean-squared error for regression\n",
    "optimizer = torch.optim.Adam(lstm.parameters(), lr = learning_rate)"
   ]
  },
  {
   "cell_type": "code",
   "execution_count": 53,
   "id": "paperback-proposition",
   "metadata": {},
   "outputs": [],
   "source": [
    "x_train, x_test, y_train, y_test = train_test_split(x, y, test_size=0.2, random_state=0, shuffle=False)"
   ]
  },
  {
   "cell_type": "code",
   "execution_count": 54,
   "id": "clean-african",
   "metadata": {},
   "outputs": [],
   "source": [
    "x_train_tensor = torch.Tensor(y_train)"
   ]
  },
  {
   "cell_type": "code",
   "execution_count": 55,
   "id": "noted-municipality",
   "metadata": {},
   "outputs": [],
   "source": [
    "train_ds = TensorDataset(torch.Tensor(x_train), torch.Tensor(y_train))\n",
    "train_dl = DataLoader(train_ds, batch_size = 32)"
   ]
  },
  {
   "cell_type": "code",
   "execution_count": 56,
   "id": "japanese-conversation",
   "metadata": {},
   "outputs": [],
   "source": [
    "test_ds = TensorDataset(torch.Tensor(x_test), torch.Tensor(y_test))\n",
    "test_dl = DataLoader(test_ds, batch_size = 32)"
   ]
  },
  {
   "cell_type": "code",
   "execution_count": 57,
   "id": "alive-prize",
   "metadata": {},
   "outputs": [
    {
     "name": "stdout",
     "output_type": "stream",
     "text": [
      "Epoch: 0, loss: 0.11429636180400848\n",
      "Epoch: 100, loss: 0.00039355846820399165\n",
      "Epoch: 200, loss: 0.0004427832900546491\n",
      "Epoch: 300, loss: 0.0005052611813880503\n",
      "Epoch: 400, loss: 0.0005273643182590604\n",
      "Epoch: 500, loss: 0.0005349605344235897\n",
      "Epoch: 600, loss: 0.0005400005029514432\n",
      "Epoch: 700, loss: 0.0005445132264867425\n",
      "Epoch: 800, loss: 0.0005475041689351201\n",
      "Epoch: 900, loss: 0.0005488271126523614\n",
      "Epoch: 1000, loss: 0.0005494875367730856\n",
      "Epoch: 1100, loss: 0.0005507249152287841\n",
      "Epoch: 1200, loss: 0.0005533864023163915\n",
      "Epoch: 1300, loss: 0.0005578047130256891\n",
      "Epoch: 1400, loss: 0.0005641604075208306\n",
      "Epoch: 1500, loss: 0.0005722977221012115\n",
      "Epoch: 1600, loss: 0.000580127292778343\n",
      "Epoch: 1700, loss: 0.0005839840741828084\n",
      "Epoch: 1800, loss: 0.0005613105604425073\n",
      "Epoch: 1900, loss: 0.0005865356652066112\n"
     ]
    }
   ],
   "source": [
    "for epoch in range(num_epochs):\n",
    "    for xb, yb in train_dl:\n",
    "        outputs = lstm(xb)\n",
    "        optimizer.zero_grad()\n",
    "        loss = criterion(outputs, yb)\n",
    "        loss.backward()\n",
    "        optimizer.step()\n",
    "        \n",
    "    if epoch % 100 == 0:\n",
    "        print(f'Epoch: {epoch}, loss: {loss.item()}')"
   ]
  },
  {
   "cell_type": "code",
   "execution_count": 60,
   "id": "electronic-aside",
   "metadata": {},
   "outputs": [],
   "source": [
    "lstm.eval()\n",
    "pred = []\n",
    "for xb, yb in test_dl:\n",
    "    train_predict = lstm(xb)\n",
    "    pred.extend(train_predict.data.numpy().squeeze())"
   ]
  },
  {
   "cell_type": "code",
   "execution_count": 61,
   "id": "criminal-university",
   "metadata": {},
   "outputs": [
    {
     "data": {
      "text/plain": [
       "(323, 1)"
      ]
     },
     "execution_count": 61,
     "metadata": {},
     "output_type": "execute_result"
    }
   ],
   "source": [
    "np.expand_dims(pred, axis = 1).shape"
   ]
  },
  {
   "cell_type": "markdown",
   "id": "guided-tanzania",
   "metadata": {},
   "source": [
    "## Plot Results"
   ]
  },
  {
   "cell_type": "code",
   "execution_count": 62,
   "id": "complex-cliff",
   "metadata": {},
   "outputs": [
    {
     "data": {
      "text/plain": [
       "(1290, 1)"
      ]
     },
     "execution_count": 62,
     "metadata": {},
     "output_type": "execute_result"
    }
   ],
   "source": [
    "y_train.shape"
   ]
  },
  {
   "cell_type": "code",
   "execution_count": 63,
   "id": "parallel-milan",
   "metadata": {},
   "outputs": [
    {
     "data": {
      "text/plain": [
       "(323, 1)"
      ]
     },
     "execution_count": 63,
     "metadata": {},
     "output_type": "execute_result"
    }
   ],
   "source": [
    "np.expand_dims(pred, axis = 1).shape"
   ]
  },
  {
   "cell_type": "code",
   "execution_count": 64,
   "id": "civil-cyprus",
   "metadata": {},
   "outputs": [],
   "source": [
    "predicted_for_plot = sc.inverse_transform(np.concatenate((y_train, np.expand_dims(pred, axis = 1))))\n",
    "actual_for_plot = sc.inverse_transform(np.concatenate((y_train, y_test)))"
   ]
  },
  {
   "cell_type": "code",
   "execution_count": 65,
   "id": "metallic-nigeria",
   "metadata": {},
   "outputs": [
    {
     "data": {
      "text/plain": [
       "(1613, 1)"
      ]
     },
     "execution_count": 65,
     "metadata": {},
     "output_type": "execute_result"
    }
   ],
   "source": [
    "predicted_for_plot.shape"
   ]
  },
  {
   "cell_type": "code",
   "execution_count": 66,
   "id": "executive-grounds",
   "metadata": {},
   "outputs": [
    {
     "data": {
      "text/plain": [
       "(1613, 1)"
      ]
     },
     "execution_count": 66,
     "metadata": {},
     "output_type": "execute_result"
    }
   ],
   "source": [
    "actual_for_plot.shape"
   ]
  },
  {
   "cell_type": "code",
   "execution_count": 67,
   "id": "norman-folder",
   "metadata": {},
   "outputs": [
    {
     "data": {
      "image/png": "[encoded data removed]",
      "text/plain": [
       "<Figure size 432x288 with 1 Axes>"
      ]
     },
     "metadata": {
      "needs_background": "light"
     },
     "output_type": "display_data"
    }
   ],
   "source": [
    "plt.plot(predicted_for_plot[300:])\n",
    "plt.plot(actual_for_plot[300:])\n",
    "plt.suptitle('Timeseries Prediction')\n",
    "plt.axvline(x = y_train.shape[0] - 300, c = 'r', linestyle = '--')\n",
    "plt.show()"
   ]
  },
  {
   "cell_type": "code",
   "execution_count": null,
   "id": "fitted-temperature",
   "metadata": {},
   "outputs": [],
   "source": []
  }
 ],
 "metadata": {
  "kernelspec": {
   "display_name": "ImageProcesss",
   "language": "python",
   "name": "image_crawler"
  },
  "language_info": {
   "codemirror_mode": {
    "name": "ipython",
    "version": 3
   },
   "file_extension": ".py",
   "mimetype": "text/x-python",
   "name": "python",
   "nbconvert_exporter": "python",
   "pygments_lexer": "ipython3",
   "version": "3.8.3"
  }
 },
 "nbformat": 4,
 "nbformat_minor": 5
}
