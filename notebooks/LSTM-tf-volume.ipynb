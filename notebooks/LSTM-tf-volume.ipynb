{
 "cells": [
  {
   "cell_type": "code",
   "execution_count": 4,
   "id": "european-wallace",
   "metadata": {},
   "outputs": [],
   "source": [
    "import pandas as pd\n",
    "import numpy as np\n",
    "import matplotlib.pyplot as plt\n",
    "import seaborn as sns\n",
    "import warnings\n",
    "import os\n",
    "\n",
    "import pickle\n",
    "\n",
    "from sklearn.preprocessing import MinMaxScaler\n",
    "from sklearn.model_selection import train_test_split\n",
    "\n",
    "import tensorflow as tf\n",
    "\n",
    "%matplotlib inline\n",
    "warnings.filterwarnings('ignore')\n",
    "\n",
    "plt.rcParams['font.family'] = 'NanumGothic'"
   ]
  },
  {
   "cell_type": "code",
   "execution_count": 5,
   "id": "spectacular-census",
   "metadata": {},
   "outputs": [],
   "source": [
    "def smape(a, f):\n",
    "    return 1/len(a) * np.sum(2 * np.abs(f-a) / (np.abs(a) + np.abs(f))*100)\n",
    "\n",
    "\n",
    "def windowed_dataset(series, window_size, batch_size, shuffle):\n",
    "    ds = tf.data.Dataset.from_tensor_slices(series)\n",
    "    ds = ds.window(window_size + 1, shift=1, drop_remainder=True)\n",
    "    ds = ds.flat_map(lambda w: w.batch(window_size + 1))\n",
    "    if shuffle:\n",
    "        ds = ds.shuffle(1000)\n",
    "    ds = ds.map(lambda w: (w[:-1], w[-1][2]))\n",
    "    return ds.batch(batch_size).prefetch(1)"
   ]
  },
  {
   "cell_type": "code",
   "execution_count": 6,
   "id": "welcome-stress",
   "metadata": {},
   "outputs": [],
   "source": [
    "with open('../data/crypto_currency.pickle', 'rb') as f:\n",
    "    data = pickle.load(f)"
   ]
  },
  {
   "cell_type": "code",
   "execution_count": 7,
   "id": "honey-detector",
   "metadata": {},
   "outputs": [],
   "source": [
    "btt = data['KRW-BTT']"
   ]
  },
  {
   "cell_type": "code",
   "execution_count": 8,
   "id": "resistant-mississippi",
   "metadata": {},
   "outputs": [
    {
     "data": {
      "text/html": [
       "<div>\n",
       "<style scoped>\n",
       "    .dataframe tbody tr th:only-of-type {\n",
       "        vertical-align: middle;\n",
       "    }\n",
       "\n",
       "    .dataframe tbody tr th {\n",
       "        vertical-align: top;\n",
       "    }\n",
       "\n",
       "    .dataframe thead th {\n",
       "        text-align: right;\n",
       "    }\n",
       "</style>\n",
       "<table border=\"1\" class=\"dataframe\">\n",
       "  <thead>\n",
       "    <tr style=\"text-align: right;\">\n",
       "      <th></th>\n",
       "      <th>market</th>\n",
       "      <th>candle_date_time_utc</th>\n",
       "      <th>candle_date_time_kst</th>\n",
       "      <th>opening_price</th>\n",
       "      <th>high_price</th>\n",
       "      <th>low_price</th>\n",
       "      <th>trade_price</th>\n",
       "      <th>timestamp</th>\n",
       "      <th>candle_acc_trade_price</th>\n",
       "      <th>candle_acc_trade_volume</th>\n",
       "      <th>prev_closing_price</th>\n",
       "      <th>change_price</th>\n",
       "      <th>change_rate</th>\n",
       "      <th>MA5</th>\n",
       "      <th>MA20</th>\n",
       "      <th>MA60</th>\n",
       "    </tr>\n",
       "  </thead>\n",
       "  <tbody>\n",
       "    <tr>\n",
       "      <th>4</th>\n",
       "      <td>KRW-BTT</td>\n",
       "      <td>2022-02-24T00:00:00</td>\n",
       "      <td>2022-02-24T09:00:00</td>\n",
       "      <td>0.0023</td>\n",
       "      <td>0.0024</td>\n",
       "      <td>0.0021</td>\n",
       "      <td>0.0023</td>\n",
       "      <td>1645747198314</td>\n",
       "      <td>1.862725e+10</td>\n",
       "      <td>8.399094e+12</td>\n",
       "      <td>0.0023</td>\n",
       "      <td>NaN</td>\n",
       "      <td>0.000000</td>\n",
       "      <td>0.00234</td>\n",
       "      <td>0.002580</td>\n",
       "      <td>0.002811</td>\n",
       "    </tr>\n",
       "    <tr>\n",
       "      <th>3</th>\n",
       "      <td>KRW-BTT</td>\n",
       "      <td>2022-02-25T00:00:00</td>\n",
       "      <td>2022-02-25T09:00:00</td>\n",
       "      <td>0.0023</td>\n",
       "      <td>0.0024</td>\n",
       "      <td>0.0022</td>\n",
       "      <td>0.0023</td>\n",
       "      <td>1645833598450</td>\n",
       "      <td>1.471682e+10</td>\n",
       "      <td>6.413362e+12</td>\n",
       "      <td>0.0023</td>\n",
       "      <td>NaN</td>\n",
       "      <td>0.000000</td>\n",
       "      <td>0.00232</td>\n",
       "      <td>0.002555</td>\n",
       "      <td>0.002792</td>\n",
       "    </tr>\n",
       "    <tr>\n",
       "      <th>2</th>\n",
       "      <td>KRW-BTT</td>\n",
       "      <td>2022-02-26T00:00:00</td>\n",
       "      <td>2022-02-26T09:00:00</td>\n",
       "      <td>0.0023</td>\n",
       "      <td>0.0024</td>\n",
       "      <td>0.0023</td>\n",
       "      <td>0.0023</td>\n",
       "      <td>1645919999557</td>\n",
       "      <td>6.547601e+09</td>\n",
       "      <td>2.754282e+12</td>\n",
       "      <td>0.0023</td>\n",
       "      <td>NaN</td>\n",
       "      <td>0.000000</td>\n",
       "      <td>0.00230</td>\n",
       "      <td>0.002530</td>\n",
       "      <td>0.002777</td>\n",
       "    </tr>\n",
       "    <tr>\n",
       "      <th>1</th>\n",
       "      <td>KRW-BTT</td>\n",
       "      <td>2022-02-27T00:00:00</td>\n",
       "      <td>2022-02-27T09:00:00</td>\n",
       "      <td>0.0023</td>\n",
       "      <td>0.0024</td>\n",
       "      <td>0.0022</td>\n",
       "      <td>0.0023</td>\n",
       "      <td>1646006399489</td>\n",
       "      <td>6.989035e+09</td>\n",
       "      <td>3.029290e+12</td>\n",
       "      <td>0.0023</td>\n",
       "      <td>NaN</td>\n",
       "      <td>0.000000</td>\n",
       "      <td>0.00230</td>\n",
       "      <td>0.002500</td>\n",
       "      <td>0.002760</td>\n",
       "    </tr>\n",
       "    <tr>\n",
       "      <th>0</th>\n",
       "      <td>KRW-BTT</td>\n",
       "      <td>2022-02-28T00:00:00</td>\n",
       "      <td>2022-02-28T09:00:00</td>\n",
       "      <td>0.0023</td>\n",
       "      <td>0.0025</td>\n",
       "      <td>0.0022</td>\n",
       "      <td>0.0025</td>\n",
       "      <td>1646092799469</td>\n",
       "      <td>1.149322e+10</td>\n",
       "      <td>4.915564e+12</td>\n",
       "      <td>0.0023</td>\n",
       "      <td>0.0002</td>\n",
       "      <td>0.086957</td>\n",
       "      <td>0.00234</td>\n",
       "      <td>0.002485</td>\n",
       "      <td>0.002745</td>\n",
       "    </tr>\n",
       "  </tbody>\n",
       "</table>\n",
       "</div>"
      ],
      "text/plain": [
       "    market candle_date_time_utc candle_date_time_kst  opening_price  \\\n",
       "4  KRW-BTT  2022-02-24T00:00:00  2022-02-24T09:00:00         0.0023   \n",
       "3  KRW-BTT  2022-02-25T00:00:00  2022-02-25T09:00:00         0.0023   \n",
       "2  KRW-BTT  2022-02-26T00:00:00  2022-02-26T09:00:00         0.0023   \n",
       "1  KRW-BTT  2022-02-27T00:00:00  2022-02-27T09:00:00         0.0023   \n",
       "0  KRW-BTT  2022-02-28T00:00:00  2022-02-28T09:00:00         0.0023   \n",
       "\n",
       "   high_price  low_price  trade_price      timestamp  candle_acc_trade_price  \\\n",
       "4      0.0024     0.0021       0.0023  1645747198314            1.862725e+10   \n",
       "3      0.0024     0.0022       0.0023  1645833598450            1.471682e+10   \n",
       "2      0.0024     0.0023       0.0023  1645919999557            6.547601e+09   \n",
       "1      0.0024     0.0022       0.0023  1646006399489            6.989035e+09   \n",
       "0      0.0025     0.0022       0.0025  1646092799469            1.149322e+10   \n",
       "\n",
       "   candle_acc_trade_volume  prev_closing_price  change_price  change_rate  \\\n",
       "4             8.399094e+12              0.0023           NaN     0.000000   \n",
       "3             6.413362e+12              0.0023           NaN     0.000000   \n",
       "2             2.754282e+12              0.0023           NaN     0.000000   \n",
       "1             3.029290e+12              0.0023           NaN     0.000000   \n",
       "0             4.915564e+12              0.0023        0.0002     0.086957   \n",
       "\n",
       "       MA5      MA20      MA60  \n",
       "4  0.00234  0.002580  0.002811  \n",
       "3  0.00232  0.002555  0.002792  \n",
       "2  0.00230  0.002530  0.002777  \n",
       "1  0.00230  0.002500  0.002760  \n",
       "0  0.00234  0.002485  0.002745  "
      ]
     },
     "execution_count": 8,
     "metadata": {},
     "output_type": "execute_result"
    }
   ],
   "source": [
    "btt.tail()"
   ]
  },
  {
   "cell_type": "code",
   "execution_count": 14,
   "id": "spare-newman",
   "metadata": {},
   "outputs": [],
   "source": [
    "btt.set_index('candle_date_time_kst', inplace = True)"
   ]
  },
  {
   "cell_type": "code",
   "execution_count": 7,
   "id": "municipal-party",
   "metadata": {},
   "outputs": [
    {
     "data": {
      "text/plain": [
       "Text(0, 0.5, 'price')"
      ]
     },
     "execution_count": 7,
     "metadata": {},
     "output_type": "execute_result"
    },
    {
     "data": {
      "image/png": "[encoded data removed]",
      "text/plain": [
       "<Figure size 1152x648 with 1 Axes>"
      ]
     },
     "metadata": {
      "needs_background": "light"
     },
     "output_type": "display_data"
    }
   ],
   "source": [
    "plt.figure(figsize=(16, 9))\n",
    "sns.lineplot(y=btt['trade_price'], x=btt.index)\n",
    "plt.xlabel('candle_date_time_kst')\n",
    "plt.ylabel('price')"
   ]
  },
  {
   "cell_type": "code",
   "execution_count": 13,
   "id": "second-mechanism",
   "metadata": {},
   "outputs": [],
   "source": [
    "WINDOW_SIZE=20\n",
    "BATCH_SIZE=32"
   ]
  },
  {
   "cell_type": "code",
   "execution_count": 14,
   "id": "strategic-estate",
   "metadata": {},
   "outputs": [],
   "source": [
    "scaler = MinMaxScaler()\n",
    "# 스케일을 적용할 column을 정의합니다.\n",
    "scale_cols = ['change_rate', 'candle_acc_trade_volume', 'trade_price']\n",
    "# scale_cols = ['trade_price']\n",
    "# 스케일 후 columns\n",
    "scaled = scaler.fit_transform(btt[scale_cols])"
   ]
  },
  {
   "cell_type": "code",
   "execution_count": 15,
   "id": "cardiac-sleep",
   "metadata": {},
   "outputs": [],
   "source": [
    "df = pd.DataFrame(scaled, columns=scale_cols)"
   ]
  },
  {
   "cell_type": "code",
   "execution_count": 16,
   "id": "potential-blink",
   "metadata": {},
   "outputs": [],
   "source": [
    "train_size = .8\n",
    "n_train = int(np.floor(scaled.shape[0] * train_size))\n",
    "train = scaled[: n_train]\n",
    "test = scaled[n_train - WINDOW_SIZE:]"
   ]
  },
  {
   "cell_type": "code",
   "execution_count": 17,
   "id": "norman-wealth",
   "metadata": {},
   "outputs": [],
   "source": [
    "# trian_data는 학습용 데이터셋, test_data는 검증용 데이터셋 입니다.\n",
    "train_data = windowed_dataset(train, WINDOW_SIZE, BATCH_SIZE, True)\n",
    "test_data = windowed_dataset(test, WINDOW_SIZE, BATCH_SIZE, False)"
   ]
  },
  {
   "cell_type": "code",
   "execution_count": 54,
   "id": "adopted-representative",
   "metadata": {},
   "outputs": [],
   "source": [
    "from tensorflow.keras.models import Sequential\n",
    "from tensorflow.keras.layers import Dense, LSTM, Conv1D, Lambda\n",
    "from tensorflow.keras.losses import Huber\n",
    "from tensorflow.keras.optimizers import Adam\n",
    "from tensorflow.keras.callbacks import EarlyStopping, ModelCheckpoint\n",
    "\n",
    "\n",
    "model = Sequential([\n",
    "    # 1차원 feature map 생성\n",
    "    Conv1D(filters=64, kernel_size= 6,\n",
    "           padding=\"causal\",\n",
    "           activation=\"relu\",\n",
    "           input_shape=[WINDOW_SIZE, 3]),\n",
    "    # LSTM\n",
    "    LSTM(16, activation='tanh'),\n",
    "    Dense(16, activation=\"relu\"),\n",
    "    Dense(1),\n",
    "])"
   ]
  },
  {
   "cell_type": "code",
   "execution_count": 55,
   "id": "prescribed-gossip",
   "metadata": {},
   "outputs": [],
   "source": [
    "# Sequence 학습에 비교적 좋은 퍼포먼스를 내는 Huber()를 사용합니다.\n",
    "loss = Huber()\n",
    "optimizer = Adam(0.0005)\n",
    "model.compile(loss=Huber(), optimizer=optimizer, metrics=['mse'])"
   ]
  },
  {
   "cell_type": "code",
   "execution_count": 56,
   "id": "swedish-discount",
   "metadata": {},
   "outputs": [
    {
     "name": "stdout",
     "output_type": "stream",
     "text": [
      "Model: \"sequential_12\"\n",
      "_________________________________________________________________\n",
      " Layer (type)                Output Shape              Param #   \n",
      "=================================================================\n",
      " conv1d_12 (Conv1D)          (None, 20, 64)            1216      \n",
      "                                                                 \n",
      " lstm_12 (LSTM)              (None, 16)                5184      \n",
      "                                                                 \n",
      " dense_24 (Dense)            (None, 16)                272       \n",
      "                                                                 \n",
      " dense_25 (Dense)            (None, 1)                 17        \n",
      "                                                                 \n",
      "=================================================================\n",
      "Total params: 6,689\n",
      "Trainable params: 6,689\n",
      "Non-trainable params: 0\n",
      "_________________________________________________________________\n"
     ]
    }
   ],
   "source": [
    "model.summary()"
   ]
  },
  {
   "cell_type": "code",
   "execution_count": 57,
   "id": "united-component",
   "metadata": {},
   "outputs": [],
   "source": [
    "# earlystopping은 10번 epoch통안 val_loss 개선이 없다면 학습을 멈춥니다.\n",
    "earlystopping = EarlyStopping(monitor='val_loss', patience=10)\n",
    "# val_loss 기준 체크포인터도 생성합니다.\n",
    "filename = os.path.join('tmp', 'btt_with_volume_ckeckpointer.ckpt')\n",
    "checkpoint = ModelCheckpoint(filename, \n",
    "                             save_weights_only=True, \n",
    "                             save_best_only=True, \n",
    "                             monitor='val_loss', \n",
    "                             verbose=1)"
   ]
  },
  {
   "cell_type": "code",
   "execution_count": 58,
   "id": "closing-swaziland",
   "metadata": {},
   "outputs": [
    {
     "name": "stdout",
     "output_type": "stream",
     "text": [
      "Epoch 1/50\n",
      "     11/Unknown - 2s 11ms/step - loss: 0.0238 - mse: 0.0477\n",
      "Epoch 1: val_loss improved from inf to 0.00062, saving model to tmp/btt_with_volume_ckeckpointer.ckpt\n",
      "15/15 [==============================] - 3s 61ms/step - loss: 0.0205 - mse: 0.0410 - val_loss: 6.1755e-04 - val_mse: 0.0012\n",
      "Epoch 2/50\n",
      "11/15 [=====================>........] - ETA: 0s - loss: 0.0058 - mse: 0.0117\n",
      "Epoch 2: val_loss did not improve from 0.00062\n",
      "15/15 [==============================] - 0s 17ms/step - loss: 0.0050 - mse: 0.0101 - val_loss: 6.2106e-04 - val_mse: 0.0012\n",
      "Epoch 3/50\n",
      "11/15 [=====================>........] - ETA: 0s - loss: 0.0019 - mse: 0.0039\n",
      "Epoch 3: val_loss did not improve from 0.00062\n",
      "15/15 [==============================] - 0s 16ms/step - loss: 0.0021 - mse: 0.0042 - val_loss: 7.3678e-04 - val_mse: 0.0015\n",
      "Epoch 4/50\n",
      "11/15 [=====================>........] - ETA: 0s - loss: 0.0021 - mse: 0.0042       \n",
      "Epoch 4: val_loss did not improve from 0.00062\n",
      "15/15 [==============================] - 0s 16ms/step - loss: 0.0019 - mse: 0.0037 - val_loss: 6.8669e-04 - val_mse: 0.0014\n",
      "Epoch 5/50\n",
      "14/15 [===========================>..] - ETA: 0s - loss: 0.0017 - mse: 0.0034  \n",
      "Epoch 5: val_loss improved from 0.00062 to 0.00061, saving model to tmp/btt_with_volume_ckeckpointer.ckpt\n",
      "15/15 [==============================] - 0s 19ms/step - loss: 0.0017 - mse: 0.0033 - val_loss: 6.1035e-04 - val_mse: 0.0012\n",
      "Epoch 6/50\n",
      "14/15 [===========================>..] - ETA: 0s - loss: 0.0016 - mse: 0.0031\n",
      "Epoch 6: val_loss improved from 0.00061 to 0.00057, saving model to tmp/btt_with_volume_ckeckpointer.ckpt\n",
      "15/15 [==============================] - 0s 20ms/step - loss: 0.0015 - mse: 0.0031 - val_loss: 5.6751e-04 - val_mse: 0.0011\n",
      "Epoch 7/50\n",
      "11/15 [=====================>........] - ETA: 0s - loss: 0.0012 - mse: 0.0023   \n",
      "Epoch 7: val_loss did not improve from 0.00057\n",
      "15/15 [==============================] - 0s 17ms/step - loss: 0.0014 - mse: 0.0028 - val_loss: 6.1198e-04 - val_mse: 0.0012\n",
      "Epoch 8/50\n",
      "11/15 [=====================>........] - ETA: 0s - loss: 0.0013 - mse: 0.0027   \n",
      "Epoch 8: val_loss did not improve from 0.00057\n",
      "15/15 [==============================] - 0s 17ms/step - loss: 0.0013 - mse: 0.0026 - val_loss: 5.8846e-04 - val_mse: 0.0012\n",
      "Epoch 9/50\n",
      "11/15 [=====================>........] - ETA: 0s - loss: 0.0010 - mse: 0.0021    \n",
      "Epoch 9: val_loss did not improve from 0.00057\n",
      "15/15 [==============================] - 0s 17ms/step - loss: 0.0012 - mse: 0.0024 - val_loss: 6.8449e-04 - val_mse: 0.0014\n",
      "Epoch 10/50\n",
      "11/15 [=====================>........] - ETA: 0s - loss: 0.0012 - mse: 0.0024    \n",
      "Epoch 10: val_loss did not improve from 0.00057\n",
      "15/15 [==============================] - 0s 17ms/step - loss: 0.0012 - mse: 0.0024 - val_loss: 5.6848e-04 - val_mse: 0.0011\n",
      "Epoch 11/50\n",
      "11/15 [=====================>........] - ETA: 0s - loss: 0.0011 - mse: 0.0023    \n",
      "Epoch 11: val_loss did not improve from 0.00057\n",
      "15/15 [==============================] - 0s 18ms/step - loss: 0.0011 - mse: 0.0021 - val_loss: 6.7417e-04 - val_mse: 0.0013\n",
      "Epoch 12/50\n",
      "11/15 [=====================>........] - ETA: 0s - loss: 9.7770e-04 - mse: 0.0020\n",
      "Epoch 12: val_loss improved from 0.00057 to 0.00055, saving model to tmp/btt_with_volume_ckeckpointer.ckpt\n",
      "15/15 [==============================] - 0s 19ms/step - loss: 9.9913e-04 - mse: 0.0020 - val_loss: 5.5454e-04 - val_mse: 0.0011\n",
      "Epoch 13/50\n",
      "11/15 [=====================>........] - ETA: 0s - loss: 9.8182e-04 - mse: 0.0020   \n",
      "Epoch 13: val_loss improved from 0.00055 to 0.00053, saving model to tmp/btt_with_volume_ckeckpointer.ckpt\n",
      "15/15 [==============================] - 0s 18ms/step - loss: 9.3484e-04 - mse: 0.0019 - val_loss: 5.3242e-04 - val_mse: 0.0011\n",
      "Epoch 14/50\n",
      "11/15 [=====================>........] - ETA: 0s - loss: 7.9685e-04 - mse: 0.0016   \n",
      "Epoch 14: val_loss improved from 0.00053 to 0.00048, saving model to tmp/btt_with_volume_ckeckpointer.ckpt\n",
      "15/15 [==============================] - 0s 19ms/step - loss: 8.6898e-04 - mse: 0.0017 - val_loss: 4.7787e-04 - val_mse: 9.5574e-04\n",
      "Epoch 15/50\n",
      "11/15 [=====================>........] - ETA: 0s - loss: 8.4685e-04 - mse: 0.0017\n",
      "Epoch 15: val_loss did not improve from 0.00048\n",
      "15/15 [==============================] - 0s 16ms/step - loss: 8.2186e-04 - mse: 0.0016 - val_loss: 5.0891e-04 - val_mse: 0.0010\n",
      "Epoch 16/50\n",
      "14/15 [===========================>..] - ETA: 0s - loss: 7.2793e-04 - mse: 0.0015   \n",
      "Epoch 16: val_loss did not improve from 0.00048\n",
      "15/15 [==============================] - 0s 18ms/step - loss: 7.8448e-04 - mse: 0.0016 - val_loss: 5.5358e-04 - val_mse: 0.0011\n",
      "Epoch 17/50\n",
      "11/15 [=====================>........] - ETA: 0s - loss: 7.7769e-04 - mse: 0.0016\n",
      "Epoch 17: val_loss improved from 0.00048 to 0.00042, saving model to tmp/btt_with_volume_ckeckpointer.ckpt\n",
      "15/15 [==============================] - 0s 18ms/step - loss: 6.9747e-04 - mse: 0.0014 - val_loss: 4.2060e-04 - val_mse: 8.4120e-04\n",
      "Epoch 18/50\n",
      "11/15 [=====================>........] - ETA: 0s - loss: 7.1921e-04 - mse: 0.0014\n",
      "Epoch 18: val_loss did not improve from 0.00042\n",
      "15/15 [==============================] - 0s 17ms/step - loss: 6.6991e-04 - mse: 0.0013 - val_loss: 4.7454e-04 - val_mse: 9.4907e-04\n",
      "Epoch 19/50\n",
      "11/15 [=====================>........] - ETA: 0s - loss: 6.1058e-04 - mse: 0.0012\n",
      "Epoch 19: val_loss improved from 0.00042 to 0.00040, saving model to tmp/btt_with_volume_ckeckpointer.ckpt\n",
      "15/15 [==============================] - 0s 19ms/step - loss: 6.6692e-04 - mse: 0.0013 - val_loss: 3.9591e-04 - val_mse: 7.9182e-04\n",
      "Epoch 20/50\n",
      "11/15 [=====================>........] - ETA: 0s - loss: 7.1250e-04 - mse: 0.0014   \n",
      "Epoch 20: val_loss improved from 0.00040 to 0.00039, saving model to tmp/btt_with_volume_ckeckpointer.ckpt\n",
      "15/15 [==============================] - 0s 19ms/step - loss: 6.2550e-04 - mse: 0.0013 - val_loss: 3.8547e-04 - val_mse: 7.7095e-04\n",
      "Epoch 21/50\n",
      "11/15 [=====================>........] - ETA: 0s - loss: 6.4914e-04 - mse: 0.0013   \n",
      "Epoch 21: val_loss improved from 0.00039 to 0.00035, saving model to tmp/btt_with_volume_ckeckpointer.ckpt\n",
      "15/15 [==============================] - 0s 19ms/step - loss: 5.8506e-04 - mse: 0.0012 - val_loss: 3.4875e-04 - val_mse: 6.9750e-04\n",
      "Epoch 22/50\n",
      "11/15 [=====================>........] - ETA: 0s - loss: 5.6348e-04 - mse: 0.0011    \n",
      "Epoch 22: val_loss improved from 0.00035 to 0.00033, saving model to tmp/btt_with_volume_ckeckpointer.ckpt\n",
      "15/15 [==============================] - 0s 19ms/step - loss: 5.5922e-04 - mse: 0.0011 - val_loss: 3.3044e-04 - val_mse: 6.6088e-04\n",
      "Epoch 23/50\n",
      "11/15 [=====================>........] - ETA: 0s - loss: 4.5647e-04 - mse: 9.1294e-04\n",
      "Epoch 23: val_loss did not improve from 0.00033\n",
      "15/15 [==============================] - 0s 17ms/step - loss: 5.3805e-04 - mse: 0.0011 - val_loss: 3.6597e-04 - val_mse: 7.3195e-04\n",
      "Epoch 24/50\n",
      "15/15 [==============================] - ETA: 0s - loss: 5.7028e-04 - mse: 0.0011\n",
      "Epoch 24: val_loss improved from 0.00033 to 0.00033, saving model to tmp/btt_with_volume_ckeckpointer.ckpt\n",
      "15/15 [==============================] - 0s 19ms/step - loss: 5.7028e-04 - mse: 0.0011 - val_loss: 3.2571e-04 - val_mse: 6.5141e-04\n",
      "Epoch 25/50\n",
      "11/15 [=====================>........] - ETA: 0s - loss: 5.0252e-04 - mse: 0.0010   \n",
      "Epoch 25: val_loss did not improve from 0.00033\n",
      "15/15 [==============================] - 0s 17ms/step - loss: 5.1222e-04 - mse: 0.0010 - val_loss: 3.4105e-04 - val_mse: 6.8210e-04\n",
      "Epoch 26/50\n",
      "11/15 [=====================>........] - ETA: 0s - loss: 6.1576e-04 - mse: 0.0012   \n",
      "Epoch 26: val_loss did not improve from 0.00033\n",
      "15/15 [==============================] - 0s 18ms/step - loss: 5.6694e-04 - mse: 0.0011 - val_loss: 3.6508e-04 - val_mse: 7.3017e-04\n",
      "Epoch 27/50\n",
      "15/15 [==============================] - ETA: 0s - loss: 4.8675e-04 - mse: 9.7350e-04\n",
      "Epoch 27: val_loss did not improve from 0.00033\n",
      "15/15 [==============================] - 0s 17ms/step - loss: 4.8675e-04 - mse: 9.7350e-04 - val_loss: 4.0604e-04 - val_mse: 8.1208e-04\n",
      "Epoch 28/50\n",
      "11/15 [=====================>........] - ETA: 0s - loss: 4.4312e-04 - mse: 8.8624e-04\n",
      "Epoch 28: val_loss improved from 0.00033 to 0.00030, saving model to tmp/btt_with_volume_ckeckpointer.ckpt\n",
      "15/15 [==============================] - 0s 19ms/step - loss: 4.9199e-04 - mse: 9.8397e-04 - val_loss: 2.9912e-04 - val_mse: 5.9824e-04\n",
      "Epoch 29/50\n",
      "11/15 [=====================>........] - ETA: 0s - loss: 4.8886e-04 - mse: 9.7771e-04\n",
      "Epoch 29: val_loss did not improve from 0.00030\n",
      "15/15 [==============================] - 0s 17ms/step - loss: 4.6893e-04 - mse: 9.3785e-04 - val_loss: 3.5132e-04 - val_mse: 7.0265e-04\n",
      "Epoch 30/50\n",
      "15/15 [==============================] - ETA: 0s - loss: 4.9518e-04 - mse: 9.9036e-04\n",
      "Epoch 30: val_loss improved from 0.00030 to 0.00029, saving model to tmp/btt_with_volume_ckeckpointer.ckpt\n",
      "15/15 [==============================] - 0s 19ms/step - loss: 4.9518e-04 - mse: 9.9036e-04 - val_loss: 2.8959e-04 - val_mse: 5.7919e-04\n",
      "Epoch 31/50\n",
      "11/15 [=====================>........] - ETA: 0s - loss: 5.5270e-04 - mse: 0.0011   \n",
      "Epoch 31: val_loss did not improve from 0.00029\n",
      "15/15 [==============================] - 0s 18ms/step - loss: 4.5535e-04 - mse: 9.1070e-04 - val_loss: 2.9119e-04 - val_mse: 5.8239e-04\n",
      "Epoch 32/50\n",
      "14/15 [===========================>..] - ETA: 0s - loss: 4.6748e-04 - mse: 9.3496e-04\n",
      "Epoch 32: val_loss did not improve from 0.00029\n",
      "15/15 [==============================] - 0s 18ms/step - loss: 4.6085e-04 - mse: 9.2170e-04 - val_loss: 4.0080e-04 - val_mse: 8.0160e-04\n",
      "Epoch 33/50\n",
      "11/15 [=====================>........] - ETA: 0s - loss: 4.0607e-04 - mse: 8.1214e-04\n",
      "Epoch 33: val_loss did not improve from 0.00029\n",
      "15/15 [==============================] - 0s 17ms/step - loss: 4.6021e-04 - mse: 9.2043e-04 - val_loss: 3.0081e-04 - val_mse: 6.0161e-04\n",
      "Epoch 34/50\n",
      "15/15 [==============================] - ETA: 0s - loss: 4.3044e-04 - mse: 8.6088e-04\n",
      "Epoch 34: val_loss did not improve from 0.00029\n",
      "15/15 [==============================] - 0s 18ms/step - loss: 4.3044e-04 - mse: 8.6088e-04 - val_loss: 3.1657e-04 - val_mse: 6.3314e-04\n",
      "Epoch 35/50\n",
      "11/15 [=====================>........] - ETA: 0s - loss: 4.4079e-04 - mse: 8.8157e-04\n",
      "Epoch 35: val_loss improved from 0.00029 to 0.00028, saving model to tmp/btt_with_volume_ckeckpointer.ckpt\n",
      "15/15 [==============================] - 0s 19ms/step - loss: 4.3726e-04 - mse: 8.7452e-04 - val_loss: 2.8221e-04 - val_mse: 5.6442e-04\n",
      "Epoch 36/50\n",
      "11/15 [=====================>........] - ETA: 0s - loss: 4.3078e-04 - mse: 8.6156e-04\n",
      "Epoch 36: val_loss improved from 0.00028 to 0.00028, saving model to tmp/btt_with_volume_ckeckpointer.ckpt\n",
      "15/15 [==============================] - 0s 19ms/step - loss: 4.3771e-04 - mse: 8.7543e-04 - val_loss: 2.7963e-04 - val_mse: 5.5925e-04\n",
      "Epoch 37/50\n",
      "11/15 [=====================>........] - ETA: 0s - loss: 4.9716e-04 - mse: 9.9431e-04\n",
      "Epoch 37: val_loss improved from 0.00028 to 0.00027, saving model to tmp/btt_with_volume_ckeckpointer.ckpt\n",
      "15/15 [==============================] - 0s 19ms/step - loss: 4.4060e-04 - mse: 8.8120e-04 - val_loss: 2.7346e-04 - val_mse: 5.4691e-04\n",
      "Epoch 38/50\n",
      "11/15 [=====================>........] - ETA: 0s - loss: 4.0752e-04 - mse: 8.1504e-04\n",
      "Epoch 38: val_loss did not improve from 0.00027\n",
      "15/15 [==============================] - 0s 17ms/step - loss: 4.0875e-04 - mse: 8.1750e-04 - val_loss: 2.7512e-04 - val_mse: 5.5023e-04\n",
      "Epoch 39/50\n",
      "11/15 [=====================>........] - ETA: 0s - loss: 3.3808e-04 - mse: 6.7617e-04\n",
      "Epoch 39: val_loss did not improve from 0.00027\n",
      "15/15 [==============================] - 0s 17ms/step - loss: 4.1378e-04 - mse: 8.2756e-04 - val_loss: 2.8762e-04 - val_mse: 5.7523e-04\n",
      "Epoch 40/50\n",
      "14/15 [===========================>..] - ETA: 0s - loss: 4.5728e-04 - mse: 9.1456e-04\n",
      "Epoch 40: val_loss did not improve from 0.00027\n",
      "15/15 [==============================] - 0s 18ms/step - loss: 4.4989e-04 - mse: 8.9978e-04 - val_loss: 3.0334e-04 - val_mse: 6.0668e-04\n",
      "Epoch 41/50\n",
      "11/15 [=====================>........] - ETA: 0s - loss: 3.4284e-04 - mse: 6.8569e-04\n",
      "Epoch 41: val_loss improved from 0.00027 to 0.00026, saving model to tmp/btt_with_volume_ckeckpointer.ckpt\n",
      "15/15 [==============================] - 0s 18ms/step - loss: 4.0803e-04 - mse: 8.1607e-04 - val_loss: 2.6380e-04 - val_mse: 5.2760e-04\n",
      "Epoch 42/50\n",
      "11/15 [=====================>........] - ETA: 0s - loss: 4.6083e-04 - mse: 9.2165e-04\n",
      "Epoch 42: val_loss did not improve from 0.00026\n",
      "15/15 [==============================] - 0s 17ms/step - loss: 3.8994e-04 - mse: 7.7989e-04 - val_loss: 2.6460e-04 - val_mse: 5.2919e-04\n",
      "Epoch 43/50\n",
      "11/15 [=====================>........] - ETA: 0s - loss: 3.9292e-04 - mse: 7.8584e-04\n",
      "Epoch 43: val_loss improved from 0.00026 to 0.00026, saving model to tmp/btt_with_volume_ckeckpointer.ckpt\n",
      "15/15 [==============================] - 0s 18ms/step - loss: 4.0702e-04 - mse: 8.1404e-04 - val_loss: 2.5552e-04 - val_mse: 5.1103e-04\n",
      "Epoch 44/50\n",
      "11/15 [=====================>........] - ETA: 0s - loss: 3.5281e-04 - mse: 7.0563e-04\n",
      "Epoch 44: val_loss did not improve from 0.00026\n",
      "15/15 [==============================] - 0s 17ms/step - loss: 3.8519e-04 - mse: 7.7039e-04 - val_loss: 2.6396e-04 - val_mse: 5.2792e-04\n",
      "Epoch 45/50\n",
      "11/15 [=====================>........] - ETA: 0s - loss: 4.5561e-04 - mse: 9.1122e-04\n",
      "Epoch 45: val_loss did not improve from 0.00026\n",
      "15/15 [==============================] - 0s 17ms/step - loss: 4.1224e-04 - mse: 8.2448e-04 - val_loss: 3.0966e-04 - val_mse: 6.1932e-04\n",
      "Epoch 46/50\n",
      "11/15 [=====================>........] - ETA: 0s - loss: 4.1001e-04 - mse: 8.2001e-04\n",
      "Epoch 46: val_loss did not improve from 0.00026\n",
      "15/15 [==============================] - 0s 17ms/step - loss: 4.8141e-04 - mse: 9.6282e-04 - val_loss: 2.8139e-04 - val_mse: 5.6278e-04\n",
      "Epoch 47/50\n",
      "15/15 [==============================] - ETA: 0s - loss: 4.6386e-04 - mse: 9.2771e-04\n",
      "Epoch 47: val_loss did not improve from 0.00026\n",
      "15/15 [==============================] - 0s 17ms/step - loss: 4.6386e-04 - mse: 9.2771e-04 - val_loss: 2.7628e-04 - val_mse: 5.5257e-04\n",
      "Epoch 48/50\n",
      "15/15 [==============================] - ETA: 0s - loss: 4.0096e-04 - mse: 8.0192e-04\n",
      "Epoch 48: val_loss did not improve from 0.00026\n",
      "15/15 [==============================] - 0s 17ms/step - loss: 4.0096e-04 - mse: 8.0192e-04 - val_loss: 2.9009e-04 - val_mse: 5.8018e-04\n",
      "Epoch 49/50\n",
      "11/15 [=====================>........] - ETA: 0s - loss: 3.8138e-04 - mse: 7.6277e-04\n",
      "Epoch 49: val_loss did not improve from 0.00026\n",
      "15/15 [==============================] - 0s 17ms/step - loss: 3.9783e-04 - mse: 7.9566e-04 - val_loss: 2.8187e-04 - val_mse: 5.6374e-04\n",
      "Epoch 50/50\n",
      "11/15 [=====================>........] - ETA: 0s - loss: 4.6904e-04 - mse: 9.3808e-04\n",
      "Epoch 50: val_loss improved from 0.00026 to 0.00024, saving model to tmp/btt_with_volume_ckeckpointer.ckpt\n",
      "15/15 [==============================] - 0s 18ms/step - loss: 4.0494e-04 - mse: 8.0988e-04 - val_loss: 2.4303e-04 - val_mse: 4.8606e-04\n"
     ]
    }
   ],
   "source": [
    "history = model.fit(train_data, \n",
    "                    validation_data=(test_data), \n",
    "                    epochs=50, \n",
    "                    callbacks=[checkpoint, ]) # earlystopping"
   ]
  },
  {
   "cell_type": "code",
   "execution_count": 59,
   "id": "dress-plate",
   "metadata": {},
   "outputs": [
    {
     "data": {
      "text/plain": [
       "<tensorflow.python.training.tracking.util.CheckpointLoadStatus at 0x7f0ceea11e50>"
      ]
     },
     "execution_count": 59,
     "metadata": {},
     "output_type": "execute_result"
    }
   ],
   "source": [
    "model.load_weights(filename)"
   ]
  },
  {
   "cell_type": "code",
   "execution_count": 60,
   "id": "focal-permission",
   "metadata": {},
   "outputs": [],
   "source": [
    "pred = model.predict(test_data)"
   ]
  },
  {
   "cell_type": "code",
   "execution_count": 61,
   "id": "continuous-chapter",
   "metadata": {},
   "outputs": [
    {
     "data": {
      "text/plain": [
       "(120, 1)"
      ]
     },
     "execution_count": 61,
     "metadata": {},
     "output_type": "execute_result"
    }
   ],
   "source": [
    "pred.shape"
   ]
  },
  {
   "cell_type": "markdown",
   "id": "second-elite",
   "metadata": {},
   "source": [
    "## Plot result"
   ]
  },
  {
   "cell_type": "code",
   "execution_count": 62,
   "id": "cardiovascular-timing",
   "metadata": {},
   "outputs": [
    {
     "data": {
      "text/plain": [
       "(20, 1)"
      ]
     },
     "execution_count": 62,
     "metadata": {},
     "output_type": "execute_result"
    }
   ],
   "source": [
    "np.expand_dims(train[-WINDOW_SIZE:, 2], axis = -1).shape"
   ]
  },
  {
   "cell_type": "code",
   "execution_count": 63,
   "id": "impossible-gambling",
   "metadata": {},
   "outputs": [
    {
     "data": {
      "text/plain": [
       "(100, 1)"
      ]
     },
     "execution_count": 63,
     "metadata": {},
     "output_type": "execute_result"
    }
   ],
   "source": [
    "pred[WINDOW_SIZE:, : ].shape"
   ]
  },
  {
   "cell_type": "code",
   "execution_count": 64,
   "id": "latter-variable",
   "metadata": {},
   "outputs": [],
   "source": [
    "pred_plot = np.concatenate((test[WINDOW_SIZE:,0:2], pred), axis = 1)\n",
    "pred_plot = np.concatenate((train, pred_plot))\n",
    "pred_plot = scaler.inverse_transform(pred_plot)[:, 2]\n",
    "# 원래 데이터를 그대로 사용\n",
    "actual_plot = scaler.inverse_transform(np.concatenate((train, test[WINDOW_SIZE:, :])))[:, 2]"
   ]
  },
  {
   "cell_type": "code",
   "execution_count": 65,
   "id": "suspected-border",
   "metadata": {},
   "outputs": [
    {
     "data": {
      "text/plain": [
       "(600,)"
      ]
     },
     "execution_count": 65,
     "metadata": {},
     "output_type": "execute_result"
    }
   ],
   "source": [
    "pred_plot.shape"
   ]
  },
  {
   "cell_type": "code",
   "execution_count": 66,
   "id": "approved-buffer",
   "metadata": {},
   "outputs": [
    {
     "name": "stdout",
     "output_type": "stream",
     "text": [
      "sMAPE = 6.265873770878492\n"
     ]
    }
   ],
   "source": [
    "print(f'sMAPE = {smape(actual_plot[train.shape[0]:], pred_plot[train.shape[0]:])}')"
   ]
  },
  {
   "cell_type": "code",
   "execution_count": 67,
   "id": "verbal-impact",
   "metadata": {},
   "outputs": [
    {
     "data": {
      "image/png": "[encoded data removed]",
      "text/plain": [
       "<Figure size 864x648 with 1 Axes>"
      ]
     },
     "metadata": {
      "needs_background": "light"
     },
     "output_type": "display_data"
    }
   ],
   "source": [
    "plt.figure(figsize=(12, 9))\n",
    "plt.plot(pred_plot, label='prediction')\n",
    "plt.plot(actual_plot, label='actual')\n",
    "plt.axvline(x = train.shape[0], c = 'r', linestyle = '--')\n",
    "plt.suptitle('Timeseries Prediction')\n",
    "plt.legend()\n",
    "plt.show()"
   ]
  },
  {
   "cell_type": "markdown",
   "id": "reflected-envelope",
   "metadata": {},
   "source": [
    "### OOT test"
   ]
  },
  {
   "cell_type": "code",
   "execution_count": 68,
   "id": "referenced-afghanistan",
   "metadata": {},
   "outputs": [],
   "source": [
    "import pickle \n",
    "\n",
    "with open('../data/crypto_currency_oot.pickle', 'rb') as f:\n",
    "    oot_data = pickle.load(f)"
   ]
  },
  {
   "cell_type": "code",
   "execution_count": 69,
   "id": "after-complement",
   "metadata": {},
   "outputs": [
    {
     "data": {
      "text/plain": [
       "4    0.0023\n",
       "3    0.0023\n",
       "2    0.0023\n",
       "1    0.0023\n",
       "0    0.0025\n",
       "Name: trade_price, dtype: float64"
      ]
     },
     "execution_count": 69,
     "metadata": {},
     "output_type": "execute_result"
    }
   ],
   "source": [
    "data['KRW-BTT'].tail()['trade_price']"
   ]
  },
  {
   "cell_type": "code",
   "execution_count": 70,
   "id": "chronic-charger",
   "metadata": {},
   "outputs": [],
   "source": [
    "oot_btt = oot_data['KRW-BTT']\n",
    "oot_scaled = scaler. transform(oot_btt[scale_cols])\n",
    "oot_scaled = np.concatenate((test[-WINDOW_SIZE:, :], oot_scaled))"
   ]
  },
  {
   "cell_type": "code",
   "execution_count": 71,
   "id": "afraid-czech",
   "metadata": {},
   "outputs": [],
   "source": [
    "oot_test_data = windowed_dataset(oot_scaled, WINDOW_SIZE, BATCH_SIZE, False)\n"
   ]
  },
  {
   "cell_type": "code",
   "execution_count": 72,
   "id": "inappropriate-france",
   "metadata": {},
   "outputs": [],
   "source": [
    "oot_pred = model.predict(oot_test_data)"
   ]
  },
  {
   "cell_type": "code",
   "execution_count": 73,
   "id": "competitive-justice",
   "metadata": {},
   "outputs": [
    {
     "data": {
      "text/plain": [
       "(60, 1)"
      ]
     },
     "execution_count": 73,
     "metadata": {},
     "output_type": "execute_result"
    }
   ],
   "source": [
    "np.concatenate((np.expand_dims(test[-WINDOW_SIZE:, 2], axis = -1), oot_pred)).shape"
   ]
  },
  {
   "cell_type": "code",
   "execution_count": 74,
   "id": "attended-surge",
   "metadata": {},
   "outputs": [
    {
     "data": {
      "text/plain": [
       "(60, 3)"
      ]
     },
     "execution_count": 74,
     "metadata": {},
     "output_type": "execute_result"
    }
   ],
   "source": [
    "np.concatenate((oot_scaled[:,0:2], np.concatenate((np.expand_dims(test[-WINDOW_SIZE:, 2], axis = -1), oot_pred))), axis = 1).shape"
   ]
  },
  {
   "cell_type": "code",
   "execution_count": 75,
   "id": "fewer-roberts",
   "metadata": {},
   "outputs": [
    {
     "ename": "NameError",
     "evalue": "name 'oot_actual_plot' is not defined",
     "output_type": "error",
     "traceback": [
      "\u001b[0;31m---------------------------------------------------------------------------\u001b[0m",
      "\u001b[0;31mNameError\u001b[0m                                 Traceback (most recent call last)",
      "\u001b[0;32m<ipython-input-75-d527fef5653f>\u001b[0m in \u001b[0;36m<module>\u001b[0;34m\u001b[0m\n\u001b[0;32m----> 1\u001b[0;31m \u001b[0moot_actual_plot\u001b[0m\u001b[0;34m.\u001b[0m\u001b[0mshape\u001b[0m\u001b[0;34m\u001b[0m\u001b[0;34m\u001b[0m\u001b[0m\n\u001b[0m",
      "\u001b[0;31mNameError\u001b[0m: name 'oot_actual_plot' is not defined"
     ]
    }
   ],
   "source": [
    "oot_actual_plot.shape"
   ]
  },
  {
   "cell_type": "code",
   "execution_count": 76,
   "id": "outer-schedule",
   "metadata": {},
   "outputs": [],
   "source": [
    "# oot pred 데이터 만들기\n",
    "oot_pred_plot = np.concatenate((oot_scaled[WINDOW_SIZE:,0:2], oot_pred), axis = 1)\n",
    "# pred 데이터 만들기\n",
    "pred_plot = np.concatenate((test[WINDOW_SIZE:,0:2], pred), axis = 1)\n",
    "# 모두 합해서 역변환하기\n",
    "oot_pred_plot = scaler.inverse_transform(np.concatenate((train, pred_plot, oot_pred_plot)))[:, 2]\n",
    "# Actual 데이터 만들기\n",
    "oot_actual_plot = scaler.inverse_transform(np.concatenate((train, test[WINDOW_SIZE:, :], oot_scaled[WINDOW_SIZE:, :])))[:, 2]"
   ]
  },
  {
   "cell_type": "code",
   "execution_count": 77,
   "id": "higher-birth",
   "metadata": {},
   "outputs": [
    {
     "data": {
      "image/png": "[encoded data removed]",
      "text/plain": [
       "<Figure size 864x648 with 1 Axes>"
      ]
     },
     "metadata": {
      "needs_background": "light"
     },
     "output_type": "display_data"
    }
   ],
   "source": [
    "plt.figure(figsize=(12, 9))\n",
    "plt.plot(oot_pred_plot, label='prediction')\n",
    "plt.plot(oot_actual_plot, label='actual')\n",
    "plt.axvline(x = train.shape[0], c = 'r', linestyle = '--')\n",
    "plt.axvline(x = train.shape[0] + test.shape[0], c = 'b', linestyle = '--')\n",
    "plt.suptitle('Timeseries Prediction')\n",
    "plt.legend()\n",
    "plt.show()"
   ]
  },
  {
   "cell_type": "code",
   "execution_count": 284,
   "id": "packed-receptor",
   "metadata": {},
   "outputs": [
    {
     "name": "stdout",
     "output_type": "stream",
     "text": [
      "sMAPE = 5.164058643550302\n"
     ]
    }
   ],
   "source": [
    "print(f'sMAPE = {smape(oot_actual_plot[train.shape[0] + test.shape[0]:], oot_pred_plot[train.shape[0] + test.shape[0]:])}')"
   ]
  },
  {
   "cell_type": "code",
   "execution_count": null,
   "id": "greatest-gossip",
   "metadata": {},
   "outputs": [],
   "source": []
  }
 ],
 "metadata": {
  "kernelspec": {
   "display_name": "ImageProcesss",
   "language": "python",
   "name": "image_crawler"
  },
  "language_info": {
   "codemirror_mode": {
    "name": "ipython",
    "version": 3
   },
   "file_extension": ".py",
   "mimetype": "text/x-python",
   "name": "python",
   "nbconvert_exporter": "python",
   "pygments_lexer": "ipython3",
   "version": "3.8.3"
  }
 },
 "nbformat": 4,
 "nbformat_minor": 5
}
